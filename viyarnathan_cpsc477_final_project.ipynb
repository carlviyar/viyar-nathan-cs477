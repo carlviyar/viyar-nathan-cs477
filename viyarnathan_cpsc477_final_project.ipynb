{
 "cells": [
  {
   "cell_type": "code",
   "execution_count": 1,
   "id": "d55d7bb3",
   "metadata": {
    "execution": {
     "iopub.execute_input": "2024-05-06T19:13:43.998426Z",
     "iopub.status.busy": "2024-05-06T19:13:43.998045Z",
     "iopub.status.idle": "2024-05-06T19:13:51.414924Z",
     "shell.execute_reply": "2024-05-06T19:13:51.414325Z"
    },
    "papermill": {
     "duration": 7.428493,
     "end_time": "2024-05-06T19:13:51.416418",
     "exception": false,
     "start_time": "2024-05-06T19:13:43.987925",
     "status": "completed"
    },
    "tags": []
   },
   "outputs": [
    {
     "name": "stdout",
     "output_type": "stream",
     "text": [
      "Requirement already satisfied: torch in /home/cjn26/.conda/envs/nlp/lib/python3.12/site-packages (2.3.0)\r\n",
      "Requirement already satisfied: numpy in /home/cjn26/.conda/envs/nlp/lib/python3.12/site-packages (1.26.4)\r\n",
      "Requirement already satisfied: datasets in /home/cjn26/.conda/envs/nlp/lib/python3.12/site-packages (2.19.0)\r\n",
      "Requirement already satisfied: torchtext in /home/cjn26/.conda/envs/nlp/lib/python3.12/site-packages (0.18.0)\r\n",
      "Requirement already satisfied: tqdm in /home/cjn26/.conda/envs/nlp/lib/python3.12/site-packages (4.66.2)\r\n",
      "Requirement already satisfied: matplotlib in /home/cjn26/.conda/envs/nlp/lib/python3.12/site-packages (3.8.4)\r\n"
     ]
    },
    {
     "name": "stdout",
     "output_type": "stream",
     "text": [
      "Requirement already satisfied: huggingface_hub in /home/cjn26/.conda/envs/nlp/lib/python3.12/site-packages (0.22.2)\r\n",
      "Requirement already satisfied: transformers in /home/cjn26/.conda/envs/nlp/lib/python3.12/site-packages (4.40.1)\r\n",
      "Requirement already satisfied: flair in /home/cjn26/.conda/envs/nlp/lib/python3.12/site-packages (0.13.1)\r\n",
      "Requirement already satisfied: scipy==1.12.0 in /home/cjn26/.conda/envs/nlp/lib/python3.12/site-packages (1.12.0)\r\n"
     ]
    },
    {
     "name": "stdout",
     "output_type": "stream",
     "text": [
      "Requirement already satisfied: filelock in /home/cjn26/.conda/envs/nlp/lib/python3.12/site-packages (from torch) (3.13.4)\r\n",
      "Requirement already satisfied: typing-extensions>=4.8.0 in /home/cjn26/.conda/envs/nlp/lib/python3.12/site-packages (from torch) (4.11.0)\r\n",
      "Requirement already satisfied: sympy in /home/cjn26/.conda/envs/nlp/lib/python3.12/site-packages (from torch) (1.12)\r\n",
      "Requirement already satisfied: networkx in /home/cjn26/.conda/envs/nlp/lib/python3.12/site-packages (from torch) (3.3)\r\n",
      "Requirement already satisfied: jinja2 in /home/cjn26/.conda/envs/nlp/lib/python3.12/site-packages (from torch) (3.1.3)\r\n",
      "Requirement already satisfied: fsspec in /home/cjn26/.conda/envs/nlp/lib/python3.12/site-packages (from torch) (2024.3.1)\r\n",
      "Requirement already satisfied: nvidia-cuda-nvrtc-cu12==12.1.105 in /home/cjn26/.conda/envs/nlp/lib/python3.12/site-packages (from torch) (12.1.105)\r\n",
      "Requirement already satisfied: nvidia-cuda-runtime-cu12==12.1.105 in /home/cjn26/.conda/envs/nlp/lib/python3.12/site-packages (from torch) (12.1.105)\r\n",
      "Requirement already satisfied: nvidia-cuda-cupti-cu12==12.1.105 in /home/cjn26/.conda/envs/nlp/lib/python3.12/site-packages (from torch) (12.1.105)\r\n",
      "Requirement already satisfied: nvidia-cudnn-cu12==8.9.2.26 in /home/cjn26/.conda/envs/nlp/lib/python3.12/site-packages (from torch) (8.9.2.26)\r\n"
     ]
    },
    {
     "name": "stdout",
     "output_type": "stream",
     "text": [
      "Requirement already satisfied: nvidia-cublas-cu12==12.1.3.1 in /home/cjn26/.conda/envs/nlp/lib/python3.12/site-packages (from torch) (12.1.3.1)\r\n",
      "Requirement already satisfied: nvidia-cufft-cu12==11.0.2.54 in /home/cjn26/.conda/envs/nlp/lib/python3.12/site-packages (from torch) (11.0.2.54)\r\n",
      "Requirement already satisfied: nvidia-curand-cu12==10.3.2.106 in /home/cjn26/.conda/envs/nlp/lib/python3.12/site-packages (from torch) (10.3.2.106)\r\n",
      "Requirement already satisfied: nvidia-cusolver-cu12==11.4.5.107 in /home/cjn26/.conda/envs/nlp/lib/python3.12/site-packages (from torch) (11.4.5.107)\r\n",
      "Requirement already satisfied: nvidia-cusparse-cu12==12.1.0.106 in /home/cjn26/.conda/envs/nlp/lib/python3.12/site-packages (from torch) (12.1.0.106)\r\n",
      "Requirement already satisfied: nvidia-nccl-cu12==2.20.5 in /home/cjn26/.conda/envs/nlp/lib/python3.12/site-packages (from torch) (2.20.5)\r\n",
      "Requirement already satisfied: nvidia-nvtx-cu12==12.1.105 in /home/cjn26/.conda/envs/nlp/lib/python3.12/site-packages (from torch) (12.1.105)\r\n",
      "Requirement already satisfied: nvidia-nvjitlink-cu12 in /home/cjn26/.conda/envs/nlp/lib/python3.12/site-packages (from nvidia-cusolver-cu12==11.4.5.107->torch) (12.4.127)\r\n"
     ]
    },
    {
     "name": "stdout",
     "output_type": "stream",
     "text": [
      "Requirement already satisfied: pyarrow>=12.0.0 in /home/cjn26/.conda/envs/nlp/lib/python3.12/site-packages (from datasets) (16.0.0)\r\n",
      "Requirement already satisfied: pyarrow-hotfix in /home/cjn26/.conda/envs/nlp/lib/python3.12/site-packages (from datasets) (0.6)\r\n",
      "Requirement already satisfied: dill<0.3.9,>=0.3.0 in /home/cjn26/.conda/envs/nlp/lib/python3.12/site-packages (from datasets) (0.3.8)\r\n",
      "Requirement already satisfied: pandas in /home/cjn26/.conda/envs/nlp/lib/python3.12/site-packages (from datasets) (2.2.2)\r\n",
      "Requirement already satisfied: requests>=2.19.0 in /home/cjn26/.conda/envs/nlp/lib/python3.12/site-packages (from datasets) (2.31.0)\r\n",
      "Requirement already satisfied: xxhash in /home/cjn26/.conda/envs/nlp/lib/python3.12/site-packages (from datasets) (3.4.1)\r\n",
      "Requirement already satisfied: multiprocess in /home/cjn26/.conda/envs/nlp/lib/python3.12/site-packages (from datasets) (0.70.16)\r\n",
      "Requirement already satisfied: aiohttp in /home/cjn26/.conda/envs/nlp/lib/python3.12/site-packages (from datasets) (3.9.5)\r\n",
      "Requirement already satisfied: packaging in /home/cjn26/.conda/envs/nlp/lib/python3.12/site-packages (from datasets) (24.0)\r\n",
      "Requirement already satisfied: pyyaml>=5.1 in /home/cjn26/.conda/envs/nlp/lib/python3.12/site-packages (from datasets) (6.0.1)\r\n"
     ]
    },
    {
     "name": "stdout",
     "output_type": "stream",
     "text": [
      "Requirement already satisfied: contourpy>=1.0.1 in /home/cjn26/.conda/envs/nlp/lib/python3.12/site-packages (from matplotlib) (1.2.1)\r\n",
      "Requirement already satisfied: cycler>=0.10 in /home/cjn26/.conda/envs/nlp/lib/python3.12/site-packages (from matplotlib) (0.12.1)\r\n",
      "Requirement already satisfied: fonttools>=4.22.0 in /home/cjn26/.conda/envs/nlp/lib/python3.12/site-packages (from matplotlib) (4.51.0)\r\n",
      "Requirement already satisfied: kiwisolver>=1.3.1 in /home/cjn26/.conda/envs/nlp/lib/python3.12/site-packages (from matplotlib) (1.4.5)\r\n",
      "Requirement already satisfied: pillow>=8 in /home/cjn26/.conda/envs/nlp/lib/python3.12/site-packages (from matplotlib) (10.3.0)\r\n",
      "Requirement already satisfied: pyparsing>=2.3.1 in /home/cjn26/.conda/envs/nlp/lib/python3.12/site-packages (from matplotlib) (3.1.2)\r\n",
      "Requirement already satisfied: python-dateutil>=2.7 in /home/cjn26/.conda/envs/nlp/lib/python3.12/site-packages (from matplotlib) (2.9.0)\r\n"
     ]
    },
    {
     "name": "stdout",
     "output_type": "stream",
     "text": [
      "Requirement already satisfied: regex!=2019.12.17 in /home/cjn26/.conda/envs/nlp/lib/python3.12/site-packages (from transformers) (2024.4.16)\r\n",
      "Requirement already satisfied: tokenizers<0.20,>=0.19 in /home/cjn26/.conda/envs/nlp/lib/python3.12/site-packages (from transformers) (0.19.1)\r\n",
      "Requirement already satisfied: safetensors>=0.4.1 in /home/cjn26/.conda/envs/nlp/lib/python3.12/site-packages (from transformers) (0.4.3)\r\n"
     ]
    },
    {
     "name": "stdout",
     "output_type": "stream",
     "text": [
      "Requirement already satisfied: boto3>=1.20.27 in /home/cjn26/.conda/envs/nlp/lib/python3.12/site-packages (from flair) (1.34.98)\r\n",
      "Requirement already satisfied: bpemb>=0.3.2 in /home/cjn26/.conda/envs/nlp/lib/python3.12/site-packages (from flair) (0.3.5)\r\n",
      "Requirement already satisfied: conllu>=4.0 in /home/cjn26/.conda/envs/nlp/lib/python3.12/site-packages (from flair) (4.5.3)\r\n",
      "Requirement already satisfied: deprecated>=1.2.13 in /home/cjn26/.conda/envs/nlp/lib/python3.12/site-packages (from flair) (1.2.14)\r\n",
      "Requirement already satisfied: ftfy>=6.1.0 in /home/cjn26/.conda/envs/nlp/lib/python3.12/site-packages (from flair) (6.2.0)\r\n",
      "Requirement already satisfied: gdown>=4.4.0 in /home/cjn26/.conda/envs/nlp/lib/python3.12/site-packages (from flair) (5.1.0)\r\n",
      "Requirement already satisfied: gensim>=4.2.0 in /home/cjn26/.conda/envs/nlp/lib/python3.12/site-packages (from flair) (4.3.2)\r\n",
      "Requirement already satisfied: janome>=0.4.2 in /home/cjn26/.conda/envs/nlp/lib/python3.12/site-packages (from flair) (0.5.0)\r\n",
      "Requirement already satisfied: langdetect>=1.0.9 in /home/cjn26/.conda/envs/nlp/lib/python3.12/site-packages (from flair) (1.0.9)\r\n",
      "Requirement already satisfied: lxml>=4.8.0 in /home/cjn26/.conda/envs/nlp/lib/python3.12/site-packages (from flair) (5.2.1)\r\n",
      "Requirement already satisfied: more-itertools>=8.13.0 in /home/cjn26/.conda/envs/nlp/lib/python3.12/site-packages (from flair) (10.2.0)\r\n",
      "Requirement already satisfied: mpld3>=0.3 in /home/cjn26/.conda/envs/nlp/lib/python3.12/site-packages (from flair) (0.5.10)\r\n"
     ]
    },
    {
     "name": "stdout",
     "output_type": "stream",
     "text": [
      "Requirement already satisfied: pptree>=3.1 in /home/cjn26/.conda/envs/nlp/lib/python3.12/site-packages (from flair) (3.1)\r\n",
      "Requirement already satisfied: pytorch-revgrad>=0.2.0 in /home/cjn26/.conda/envs/nlp/lib/python3.12/site-packages (from flair) (0.2.0)\r\n",
      "Requirement already satisfied: scikit-learn>=1.0.2 in /home/cjn26/.conda/envs/nlp/lib/python3.12/site-packages (from flair) (1.4.2)\r\n",
      "Requirement already satisfied: segtok>=1.5.11 in /home/cjn26/.conda/envs/nlp/lib/python3.12/site-packages (from flair) (1.5.11)\r\n",
      "Requirement already satisfied: sqlitedict>=2.0.0 in /home/cjn26/.conda/envs/nlp/lib/python3.12/site-packages (from flair) (2.1.0)\r\n",
      "Requirement already satisfied: tabulate>=0.8.10 in /home/cjn26/.conda/envs/nlp/lib/python3.12/site-packages (from flair) (0.9.0)\r\n",
      "Requirement already satisfied: transformer-smaller-training-vocab>=0.2.3 in /home/cjn26/.conda/envs/nlp/lib/python3.12/site-packages (from flair) (0.4.0)\r\n",
      "Requirement already satisfied: urllib3<2.0.0,>=1.0.0 in /home/cjn26/.conda/envs/nlp/lib/python3.12/site-packages (from flair) (1.26.18)\r\n",
      "Requirement already satisfied: wikipedia-api>=0.5.7 in /home/cjn26/.conda/envs/nlp/lib/python3.12/site-packages (from flair) (0.6.0)\r\n",
      "Requirement already satisfied: semver<4.0.0,>=3.0.0 in /home/cjn26/.conda/envs/nlp/lib/python3.12/site-packages (from flair) (3.0.2)\r\n",
      "Requirement already satisfied: botocore<1.35.0,>=1.34.98 in /home/cjn26/.conda/envs/nlp/lib/python3.12/site-packages (from boto3>=1.20.27->flair) (1.34.98)\r\n",
      "Requirement already satisfied: jmespath<2.0.0,>=0.7.1 in /home/cjn26/.conda/envs/nlp/lib/python3.12/site-packages (from boto3>=1.20.27->flair) (1.0.1)\r\n",
      "Requirement already satisfied: s3transfer<0.11.0,>=0.10.0 in /home/cjn26/.conda/envs/nlp/lib/python3.12/site-packages (from boto3>=1.20.27->flair) (0.10.1)\r\n"
     ]
    },
    {
     "name": "stdout",
     "output_type": "stream",
     "text": [
      "Requirement already satisfied: sentencepiece in /home/cjn26/.conda/envs/nlp/lib/python3.12/site-packages (from bpemb>=0.3.2->flair) (0.2.0)\r\n"
     ]
    },
    {
     "name": "stdout",
     "output_type": "stream",
     "text": [
      "Requirement already satisfied: wrapt<2,>=1.10 in /home/cjn26/.conda/envs/nlp/lib/python3.12/site-packages (from deprecated>=1.2.13->flair) (1.16.0)\r\n"
     ]
    },
    {
     "name": "stdout",
     "output_type": "stream",
     "text": [
      "Requirement already satisfied: aiosignal>=1.1.2 in /home/cjn26/.conda/envs/nlp/lib/python3.12/site-packages (from aiohttp->datasets) (1.3.1)\r\n",
      "Requirement already satisfied: attrs>=17.3.0 in /home/cjn26/.conda/envs/nlp/lib/python3.12/site-packages (from aiohttp->datasets) (23.2.0)\r\n",
      "Requirement already satisfied: frozenlist>=1.1.1 in /home/cjn26/.conda/envs/nlp/lib/python3.12/site-packages (from aiohttp->datasets) (1.4.1)\r\n",
      "Requirement already satisfied: multidict<7.0,>=4.5 in /home/cjn26/.conda/envs/nlp/lib/python3.12/site-packages (from aiohttp->datasets) (6.0.5)\r\n",
      "Requirement already satisfied: yarl<2.0,>=1.0 in /home/cjn26/.conda/envs/nlp/lib/python3.12/site-packages (from aiohttp->datasets) (1.9.4)\r\n",
      "Requirement already satisfied: wcwidth<0.3.0,>=0.2.12 in /home/cjn26/.conda/envs/nlp/lib/python3.12/site-packages (from ftfy>=6.1.0->flair) (0.2.13)\r\n",
      "Requirement already satisfied: beautifulsoup4 in /home/cjn26/.conda/envs/nlp/lib/python3.12/site-packages (from gdown>=4.4.0->flair) (4.12.3)\r\n"
     ]
    },
    {
     "name": "stdout",
     "output_type": "stream",
     "text": [
      "Requirement already satisfied: smart-open>=1.8.1 in /home/cjn26/.conda/envs/nlp/lib/python3.12/site-packages (from gensim>=4.2.0->flair) (6.4.0)\r\n"
     ]
    },
    {
     "name": "stdout",
     "output_type": "stream",
     "text": [
      "Requirement already satisfied: six in /home/cjn26/.conda/envs/nlp/lib/python3.12/site-packages (from langdetect>=1.0.9->flair) (1.16.0)\r\n"
     ]
    },
    {
     "name": "stdout",
     "output_type": "stream",
     "text": [
      "Requirement already satisfied: charset-normalizer<4,>=2 in /home/cjn26/.conda/envs/nlp/lib/python3.12/site-packages (from requests>=2.19.0->datasets) (3.3.2)\r\n",
      "Requirement already satisfied: idna<4,>=2.5 in /home/cjn26/.conda/envs/nlp/lib/python3.12/site-packages (from requests>=2.19.0->datasets) (3.7)\r\n",
      "Requirement already satisfied: certifi>=2017.4.17 in /home/cjn26/.conda/envs/nlp/lib/python3.12/site-packages (from requests>=2.19.0->datasets) (2024.2.2)\r\n"
     ]
    },
    {
     "name": "stdout",
     "output_type": "stream",
     "text": [
      "Requirement already satisfied: joblib>=1.2.0 in /home/cjn26/.conda/envs/nlp/lib/python3.12/site-packages (from scikit-learn>=1.0.2->flair) (1.4.0)\r\n"
     ]
    },
    {
     "name": "stdout",
     "output_type": "stream",
     "text": [
      "Requirement already satisfied: threadpoolctl>=2.0.0 in /home/cjn26/.conda/envs/nlp/lib/python3.12/site-packages (from scikit-learn>=1.0.2->flair) (3.5.0)\r\n"
     ]
    },
    {
     "name": "stdout",
     "output_type": "stream",
     "text": [
      "Requirement already satisfied: protobuf in /home/cjn26/.conda/envs/nlp/lib/python3.12/site-packages (from transformers[sentencepiece]<5.0.0,>=4.18.0->flair) (5.26.1)\r\n"
     ]
    },
    {
     "name": "stdout",
     "output_type": "stream",
     "text": [
      "Requirement already satisfied: MarkupSafe>=2.0 in /home/cjn26/.conda/envs/nlp/lib/python3.12/site-packages (from jinja2->torch) (2.1.5)\r\n"
     ]
    },
    {
     "name": "stdout",
     "output_type": "stream",
     "text": [
      "Requirement already satisfied: pytz>=2020.1 in /home/cjn26/.conda/envs/nlp/lib/python3.12/site-packages (from pandas->datasets) (2024.1)\r\n",
      "Requirement already satisfied: tzdata>=2022.7 in /home/cjn26/.conda/envs/nlp/lib/python3.12/site-packages (from pandas->datasets) (2024.1)\r\n",
      "Requirement already satisfied: mpmath>=0.19 in /home/cjn26/.conda/envs/nlp/lib/python3.12/site-packages (from sympy->torch) (1.3.0)\r\n"
     ]
    },
    {
     "name": "stdout",
     "output_type": "stream",
     "text": [
      "Requirement already satisfied: accelerate>=0.21.0 in /home/cjn26/.conda/envs/nlp/lib/python3.12/site-packages (from transformers[sentencepiece,torch]<5.0,>=4.1->transformer-smaller-training-vocab>=0.2.3->flair) (0.30.0)\r\n"
     ]
    },
    {
     "name": "stdout",
     "output_type": "stream",
     "text": [
      "Requirement already satisfied: soupsieve>1.2 in /home/cjn26/.conda/envs/nlp/lib/python3.12/site-packages (from beautifulsoup4->gdown>=4.4.0->flair) (2.5)\r\n"
     ]
    },
    {
     "name": "stdout",
     "output_type": "stream",
     "text": [
      "Requirement already satisfied: PySocks!=1.5.7,>=1.5.6 in /home/cjn26/.conda/envs/nlp/lib/python3.12/site-packages (from requests[socks]->gdown>=4.4.0->flair) (1.7.1)\r\n"
     ]
    },
    {
     "name": "stdout",
     "output_type": "stream",
     "text": [
      "Requirement already satisfied: psutil in /home/cjn26/.conda/envs/nlp/lib/python3.12/site-packages (from accelerate>=0.21.0->transformers[sentencepiece,torch]<5.0,>=4.1->transformer-smaller-training-vocab>=0.2.3->flair) (5.9.8)\r\n"
     ]
    },
    {
     "name": "stdout",
     "output_type": "stream",
     "text": [
      "Note: you may need to restart the kernel to use updated packages.\n"
     ]
    }
   ],
   "source": [
    "%pip install torch numpy datasets torchtext tqdm matplotlib huggingface_hub transformers flair scipy==1.12.0"
   ]
  },
  {
   "cell_type": "code",
   "execution_count": null,
   "id": "2069e3e7",
   "metadata": {
    "papermill": {
     "duration": 17.127535,
     "end_time": "2024-05-06T19:14:08.552490",
     "exception": false,
     "start_time": "2024-05-06T19:13:51.424955",
     "status": "completed"
    },
    "tags": []
   },
   "outputs": [],
   "source": [
    "import collections\n",
    "\n",
    "import datasets\n",
    "import matplotlib.pyplot as plt\n",
    "import numpy as np\n",
    "import torch\n",
    "import torch.nn as nn\n",
    "import torch.optim as optim\n",
    "import torchtext, torchtext.vocab, torchtext.data\n",
    "import tqdm\n",
    "import transformers\n",
    "\n",
    "from flair.embeddings import FlairEmbeddings"
   ]
  },
  {
   "cell_type": "code",
   "execution_count": 3,
   "id": "095ca8f1",
   "metadata": {
    "execution": {
     "iopub.execute_input": "2024-05-06T19:14:08.567992Z",
     "iopub.status.busy": "2024-05-06T19:14:08.567287Z",
     "iopub.status.idle": "2024-05-06T19:14:19.630223Z",
     "shell.execute_reply": "2024-05-06T19:14:19.629706Z"
    },
    "papermill": {
     "duration": 11.070747,
     "end_time": "2024-05-06T19:14:19.631491",
     "exception": false,
     "start_time": "2024-05-06T19:14:08.560744",
     "status": "completed"
    },
    "tags": []
   },
   "outputs": [
    {
     "name": "stdout",
     "output_type": "stream",
     "text": [
      "(25000, 2)\n",
      "{'text': 'I rented I AM CURIOUS-YELLOW from my video store because of all the controversy that surrounded it when it was first released in 1967. I also heard that at first it was seized by U.S. customs if it ever tried to enter this country, therefore being a fan of films considered \"controversial\" I really had to see this for myself.<br /><br />The plot is centered around a young Swedish drama student named Lena who wants to learn everything she can about life. In particular she wants to focus her attentions to making some sort of documentary on what the average Swede thought about certain political issues such as the Vietnam War and race issues in the United States. In between asking politicians and ordinary denizens of Stockholm about their opinions on politics, she has sex with her drama teacher, classmates, and married men.<br /><br />What kills me about I AM CURIOUS-YELLOW is that 40 years ago, this was considered pornographic. Really, the sex and nudity scenes are few and far between, even then it\\'s not shot like some cheaply made porno. While my countrymen mind find it shocking, in reality sex and nudity are a major staple in Swedish cinema. Even Ingmar Bergman, arguably their answer to good old boy John Ford, had sex scenes in his films.<br /><br />I do commend the filmmakers for the fact that any sex shown in the film is shown for artistic purposes rather than just to shock people and make money to be shown in pornographic theaters in America. I AM CURIOUS-YELLOW is a good film for anyone wanting to study the meat and potatoes (no pun intended) of Swedish cinema. But really, this film doesn\\'t have much of a plot.', 'label': 0}\n"
     ]
    }
   ],
   "source": [
    "train_data, test_data = datasets.load_dataset(\"imdb\", split=[\"train\", \"test\"]) # stanford nlp dataset of binary imdb classification\n",
    "\n",
    "print(train_data.shape)\n",
    "print(train_data[0])"
   ]
  },
  {
   "cell_type": "code",
   "execution_count": 4,
   "id": "a809d936",
   "metadata": {
    "execution": {
     "iopub.execute_input": "2024-05-06T19:14:19.646133Z",
     "iopub.status.busy": "2024-05-06T19:14:19.645796Z",
     "iopub.status.idle": "2024-05-06T19:14:22.245639Z",
     "shell.execute_reply": "2024-05-06T19:14:22.245139Z"
    },
    "papermill": {
     "duration": 2.607527,
     "end_time": "2024-05-06T19:14:22.246919",
     "exception": false,
     "start_time": "2024-05-06T19:14:19.639392",
     "status": "completed"
    },
    "tags": []
   },
   "outputs": [
    {
     "data": {
      "text/plain": [
       "DistilBertModel(\n",
       "  (embeddings): Embeddings(\n",
       "    (word_embeddings): Embedding(30522, 768, padding_idx=0)\n",
       "    (position_embeddings): Embedding(512, 768)\n",
       "    (LayerNorm): LayerNorm((768,), eps=1e-12, elementwise_affine=True)\n",
       "    (dropout): Dropout(p=0.1, inplace=False)\n",
       "  )\n",
       "  (transformer): Transformer(\n",
       "    (layer): ModuleList(\n",
       "      (0-5): 6 x TransformerBlock(\n",
       "        (attention): MultiHeadSelfAttention(\n",
       "          (dropout): Dropout(p=0.1, inplace=False)\n",
       "          (q_lin): Linear(in_features=768, out_features=768, bias=True)\n",
       "          (k_lin): Linear(in_features=768, out_features=768, bias=True)\n",
       "          (v_lin): Linear(in_features=768, out_features=768, bias=True)\n",
       "          (out_lin): Linear(in_features=768, out_features=768, bias=True)\n",
       "        )\n",
       "        (sa_layer_norm): LayerNorm((768,), eps=1e-12, elementwise_affine=True)\n",
       "        (ffn): FFN(\n",
       "          (dropout): Dropout(p=0.1, inplace=False)\n",
       "          (lin1): Linear(in_features=768, out_features=3072, bias=True)\n",
       "          (lin2): Linear(in_features=3072, out_features=768, bias=True)\n",
       "          (activation): GELUActivation()\n",
       "        )\n",
       "        (output_layer_norm): LayerNorm((768,), eps=1e-12, elementwise_affine=True)\n",
       "      )\n",
       "    )\n",
       "  )\n",
       ")"
      ]
     },
     "execution_count": 4,
     "metadata": {},
     "output_type": "execute_result"
    }
   ],
   "source": [
    "seed = 4321 # seed makes results deterministic\n",
    "\n",
    "torch.manual_seed(seed)\n",
    "torch.cuda.manual_seed(seed)\n",
    "torch.backends.cudnn.deterministic = True\n",
    "\n",
    "np.random.seed(seed)\n",
    "\n",
    "# tokenizer = torchtext.data.get_tokenizer(\"basic_english\") # basic english tokenizer (uses torchtext version 0.18.0)\n",
    "tokenizer = transformers.DistilBertTokenizer.from_pretrained('distilbert/distilbert-base-uncased')\n",
    "embedding_model = transformers.DistilBertModel.from_pretrained('distilbert/distilbert-base-uncased')\n",
    "\n",
    "# set model to eval mode (no back prop)\n",
    "embedding_model.eval()"
   ]
  },
  {
   "cell_type": "code",
   "execution_count": 5,
   "id": "a9303362",
   "metadata": {
    "execution": {
     "iopub.execute_input": "2024-05-06T19:14:22.260674Z",
     "iopub.status.busy": "2024-05-06T19:14:22.260314Z",
     "iopub.status.idle": "2024-05-06T19:14:22.264029Z",
     "shell.execute_reply": "2024-05-06T19:14:22.263576Z"
    },
    "papermill": {
     "duration": 0.011693,
     "end_time": "2024-05-06T19:14:22.265209",
     "exception": false,
     "start_time": "2024-05-06T19:14:22.253516",
     "status": "completed"
    },
    "tags": []
   },
   "outputs": [],
   "source": [
    "def tokenize(sample, tokenizer, max_len):\n",
    "    inputs = tokenizer(sample[\"text\"][:max_len], return_tensors=\"pt\")\n",
    "    input_ids = inputs[\"input_ids\"].squeeze()\n",
    "    attention_mask = inputs[\"attention_mask\"].squeeze()\n",
    "    return {\"input_ids\": input_ids, \"attention_mask\": attention_mask, \"length\": len(input_ids)}"
   ]
  },
  {
   "cell_type": "code",
   "execution_count": 6,
   "id": "ae128bab",
   "metadata": {
    "execution": {
     "iopub.execute_input": "2024-05-06T19:14:22.278068Z",
     "iopub.status.busy": "2024-05-06T19:14:22.277705Z",
     "iopub.status.idle": "2024-05-06T19:14:22.912188Z",
     "shell.execute_reply": "2024-05-06T19:14:22.911630Z"
    },
    "papermill": {
     "duration": 0.642402,
     "end_time": "2024-05-06T19:14:22.913645",
     "exception": false,
     "start_time": "2024-05-06T19:14:22.271243",
     "status": "completed"
    },
    "tags": []
   },
   "outputs": [],
   "source": [
    "max_len = 200 # max seq length is 200 as used in McCann et al.\n",
    "\n",
    "train_data = train_data.map(\n",
    "    tokenize, fn_kwargs={\"tokenizer\": tokenizer, \"max_len\": max_len}\n",
    ")\n",
    "test_data = test_data.map(\n",
    "    tokenize, fn_kwargs={\"tokenizer\": tokenizer, \"max_len\": max_len}\n",
    ")"
   ]
  },
  {
   "cell_type": "code",
   "execution_count": 7,
   "id": "10cf3f77",
   "metadata": {
    "execution": {
     "iopub.execute_input": "2024-05-06T19:14:22.928562Z",
     "iopub.status.busy": "2024-05-06T19:14:22.927972Z",
     "iopub.status.idle": "2024-05-06T19:14:22.950928Z",
     "shell.execute_reply": "2024-05-06T19:14:22.950457Z"
    },
    "papermill": {
     "duration": 0.030841,
     "end_time": "2024-05-06T19:14:22.952104",
     "exception": false,
     "start_time": "2024-05-06T19:14:22.921263",
     "status": "completed"
    },
    "tags": []
   },
   "outputs": [
    {
     "name": "stdout",
     "output_type": "stream",
     "text": [
      "{'text': '\"Dragonlord\" sees Chan returning to his role of \"Dragon\" from \"The Young Master\". Not much has carried over from the first film though. \"Tiger\", his older brother, is nowhere to be seen; neither is the Marshall, his daughter or his son played superbly by Yuen Biao in the original film. Dragon does have the same master though - presumably all the other students have moved on to other things. (Dragon\\'s laziness at training is portrayed heavily in this film, so maybe he\\'s still studying!) <br /><br />Originally titled \"Young Master In Love\", this film sees Dragon (for the first sixty minutes at least) pursuing a villager girl in various idiotic and slapstick ways. His rival for her affection is his friend (inappropriately named \"Cowboy\") played comically by the longtime Chan Stunt-team member Mars. We see various scenes where their silly schemes backfire. It is one of these scenes that we (thankfully) find \"Dragon\" in over his head.<br /><br />This film is notorious in that it failed expectations at the box office. That said, I\\'m sure the expectations were pretty high, and I feel that this film has never had a fair judgment based on it\\'s own merits. But even when I try to do this, I still feel that there is a problem with the film. It seems quite unfocused, sometimes rushed, and I think the action is too sporadic and not as brilliant as Chan\\'s other work from this period.<br /><br />The thing that really saves the film is the ending sequence. As in \"The Young Master\", there is a fantastic final reel that it full of incredibly exhausting action - you really feel every blow. And again, Chan goes up against the same rival from \"The Young Master\" (is it the same character?), and the timing and energy here is brilliant. Chan\\'s style of using every last bit of his environment to help defeat his opponent - not just relying on pure physical ability - is as apparent here as anywhere else. The barn they fight in is full of clever little prop gags and improvisations. This is an absolute highlight of the film and one of Chan\\'s incredible career.<br /><br />It\\'s not necessary to see the prequel before seeing \"Dragonlord\", in fact, it might even raise more questions than what it hopes to answer. But it must be said that the original film is the superior film, and \"Dragonlord\", with it\\'s focus on girl-chasing and team-sports does seem baffling. Luckily, the few fight scenes it offers (plus a fantastic shuttle-cock scene) push it over the line as a must-see film in this genre.', 'label': 1, 'input_ids': [101, 1000, 5202, 19980, 1000, 5927, 9212, 4192, 2000, 2010, 2535, 1997, 1000, 5202, 1000, 2013, 1000, 1996, 2402, 3040, 1000, 1012, 2025, 2172, 2038, 3344, 2058, 2013, 1996, 2034, 2143, 2295, 1012, 1000, 6816, 1000, 1010, 2010, 3080, 2567, 1010, 2003, 7880, 2000, 2022, 2464, 1025, 4445, 2003, 16215, 102], 'attention_mask': [1, 1, 1, 1, 1, 1, 1, 1, 1, 1, 1, 1, 1, 1, 1, 1, 1, 1, 1, 1, 1, 1, 1, 1, 1, 1, 1, 1, 1, 1, 1, 1, 1, 1, 1, 1, 1, 1, 1, 1, 1, 1, 1, 1, 1, 1, 1, 1, 1, 1, 1], 'length': 51}\n"
     ]
    }
   ],
   "source": [
    "test_size = 0.2 # 80/20 train-test split\n",
    "\n",
    "train_validation_data = train_data.train_test_split(test_size=test_size)\n",
    "train_data = train_validation_data[\"train\"]\n",
    "validation_data = train_validation_data[\"test\"]\n",
    "print(train_data[0])"
   ]
  },
  {
   "cell_type": "code",
   "execution_count": 9,
   "id": "495445e9",
   "metadata": {
    "execution": {
     "iopub.execute_input": "2024-05-06T19:14:22.982836Z",
     "iopub.status.busy": "2024-05-06T19:14:22.982480Z",
     "iopub.status.idle": "2024-05-06T19:14:26.722554Z",
     "shell.execute_reply": "2024-05-06T19:14:26.721751Z"
    },
    "papermill": {
     "duration": 3.749736,
     "end_time": "2024-05-06T19:14:26.724305",
     "exception": false,
     "start_time": "2024-05-06T19:14:22.974569",
     "status": "completed"
    },
    "tags": []
   },
   "outputs": [],
   "source": [
    "from flair.embeddings import WordEmbeddings\n",
    "from flair.data import Sentence\n",
    "import flair\n",
    "\n",
    "flair.device = torch.device('cuda')\n",
    "\n",
    "glove_embeddings = WordEmbeddings('glove')"
   ]
  },
  {
   "cell_type": "code",
   "execution_count": 16,
   "id": "86330a07",
   "metadata": {
    "execution": {
     "iopub.execute_input": "2024-05-06T19:14:26.836516Z",
     "iopub.status.busy": "2024-05-06T19:14:26.836174Z",
     "iopub.status.idle": "2024-05-06T19:14:26.859303Z",
     "shell.execute_reply": "2024-05-06T19:14:26.858899Z"
    },
    "papermill": {
     "duration": 0.030906,
     "end_time": "2024-05-06T19:14:26.860483",
     "exception": false,
     "start_time": "2024-05-06T19:14:26.829577",
     "status": "completed"
    },
    "tags": []
   },
   "outputs": [
    {
     "data": {
      "text/plain": [
       "{'label': tensor(1),\n",
       " 'input_ids': tensor([  101,  1000,  5202, 19980,  1000,  5927,  9212,  4192,  2000,  2010,\n",
       "          2535,  1997,  1000,  5202,  1000,  2013,  1000,  1996,  2402,  3040,\n",
       "          1000,  1012,  2025,  2172,  2038,  3344,  2058,  2013,  1996,  2034,\n",
       "          2143,  2295,  1012,  1000,  6816,  1000,  1010,  2010,  3080,  2567,\n",
       "          1010,  2003,  7880,  2000,  2022,  2464,  1025,  4445,  2003, 16215,\n",
       "           102]),\n",
       " 'length': tensor(51)}"
      ]
     },
     "execution_count": 16,
     "metadata": {},
     "output_type": "execute_result"
    }
   ],
   "source": [
    "train_data = train_data.with_format(type=\"torch\", columns=[\"input_ids\", \"label\", \"length\"])\n",
    "validation_data = validation_data.with_format(type=\"torch\", columns=[\"input_ids\", \"label\", \"length\"])\n",
    "test_data = test_data.with_format(type=\"torch\", columns=[\"input_ids\", \"label\", \"length\"])\n",
    "train_data[0]"
   ]
  },
  {
   "cell_type": "code",
   "execution_count": 17,
   "id": "b2b3c0ef",
   "metadata": {
    "execution": {
     "iopub.execute_input": "2024-05-06T19:14:26.874533Z",
     "iopub.status.busy": "2024-05-06T19:14:26.874146Z",
     "iopub.status.idle": "2024-05-06T19:14:26.880556Z",
     "shell.execute_reply": "2024-05-06T19:14:26.880124Z"
    },
    "papermill": {
     "duration": 0.014496,
     "end_time": "2024-05-06T19:14:26.881644",
     "exception": false,
     "start_time": "2024-05-06T19:14:26.867148",
     "status": "completed"
    },
    "tags": []
   },
   "outputs": [],
   "source": [
    "import concurrent.futures\n",
    "\n",
    "def embed_text(text): # glove embeddings\n",
    "    sentence = Sentence(text)\n",
    "    glove_embeddings.embed(sentence)\n",
    "    return torch.stack([token.embedding for token in sentence])\n",
    "\n",
    "def get_dataloader(dataset, batch_size, shuffle=False):\n",
    "    collate_fn = get_collate_fn()\n",
    "    dataloader = torch.utils.data.DataLoader(\n",
    "        dataset=dataset,\n",
    "        batch_size=batch_size,\n",
    "        collate_fn=collate_fn,\n",
    "        shuffle=shuffle,\n",
    "    )\n",
    "    return dataloader\n",
    "    \n",
    "def get_collate_fn():\n",
    "    def collate_fn(batch):\n",
    "        batch_ids = [i[\"input_ids\"] for i in batch]\n",
    "        batch_ids = nn.utils.rnn.pad_sequence(\n",
    "            batch_ids, padding_value=tokenizer.pad_token_id, batch_first=True\n",
    "        )\n",
    "        batch_tokens = [tokenizer.convert_ids_to_tokens(ids) for ids in batch_ids]\n",
    "        \n",
    "        with concurrent.futures.ThreadPoolExecutor(max_workers=5) as executor: # glove embeddings\n",
    "            batch_embeddings = executor.map(embed_text, batch_tokens)\n",
    "        batch_embeddings = torch.stack(list(batch_embeddings))\n",
    "        outputs = embedding_model(batch_ids)\n",
    "        bert_embeddings = outputs.last_hidden_state # bert embeddings\n",
    "        \n",
    "        batch_len = [i[\"length\"] for i in batch]\n",
    "        batch_len = torch.stack(batch_len)\n",
    "        batch_label = [i[\"label\"] for i in batch]\n",
    "        batch_label = torch.stack(batch_label)\n",
    "        batch = {\"ids\": batch_ids, \"glove_embeddings\": batch_embeddings, \"bert_embeddings\": bert_embeddings, \"length\": batch_len, \"label\": batch_label}\n",
    "        return batch\n",
    "\n",
    "    return collate_fn"
   ]
  },
  {
   "cell_type": "code",
   "execution_count": 18,
   "id": "a6172dfd",
   "metadata": {
    "execution": {
     "iopub.execute_input": "2024-05-06T19:14:26.895147Z",
     "iopub.status.busy": "2024-05-06T19:14:26.894812Z",
     "iopub.status.idle": "2024-05-06T19:14:26.898143Z",
     "shell.execute_reply": "2024-05-06T19:14:26.897740Z"
    },
    "papermill": {
     "duration": 0.011221,
     "end_time": "2024-05-06T19:14:26.899204",
     "exception": false,
     "start_time": "2024-05-06T19:14:26.887983",
     "status": "completed"
    },
    "tags": []
   },
   "outputs": [],
   "source": [
    "batch_size = 512\n",
    "\n",
    "train_dataloader = get_dataloader(train_data, batch_size, shuffle=True)\n",
    "validation_dataloader = get_dataloader(validation_data, batch_size)\n",
    "test_dataloader = get_dataloader(test_data, batch_size)"
   ]
  },
  {
   "cell_type": "code",
   "execution_count": 19,
   "id": "60445e77",
   "metadata": {
    "execution": {
     "iopub.execute_input": "2024-05-06T19:14:26.912765Z",
     "iopub.status.busy": "2024-05-06T19:14:26.912426Z",
     "iopub.status.idle": "2024-05-06T19:14:26.917589Z",
     "shell.execute_reply": "2024-05-06T19:14:26.917163Z"
    },
    "papermill": {
     "duration": 0.013146,
     "end_time": "2024-05-06T19:14:26.918659",
     "exception": false,
     "start_time": "2024-05-06T19:14:26.905513",
     "status": "completed"
    },
    "tags": []
   },
   "outputs": [],
   "source": [
    "class LSTM(nn.Module):\n",
    "    def __init__(\n",
    "        self,\n",
    "        input_size,\n",
    "        hidden_dim,\n",
    "        output_dim,\n",
    "        vocab_size,\n",
    "        num_layers,\n",
    "        bidirectional,\n",
    "        dropout,\n",
    "    ):\n",
    "        super().__init__()\n",
    "        self.lstm = nn.LSTM(\n",
    "            input_size,\n",
    "            hidden_dim,\n",
    "            num_layers,\n",
    "            bidirectional=bidirectional,\n",
    "            dropout=dropout,\n",
    "            batch_first=True,\n",
    "        )\n",
    "        self.linear = nn.Linear(hidden_dim * 2 if bidirectional else hidden_dim, output_dim)\n",
    "        self.dropout = nn.Dropout(dropout)\n",
    "\n",
    "    def forward(self, embeddings, length):\n",
    "        packed_embedded = nn.utils.rnn.pack_padded_sequence(\n",
    "            embeddings, length, batch_first=True, enforce_sorted=False\n",
    "        )\n",
    "        packed_output, (hidden, cell) = self.lstm(packed_embedded)\n",
    "        output, output_length = nn.utils.rnn.pad_packed_sequence(packed_output)\n",
    "        if self.lstm.bidirectional:\n",
    "            hidden = self.dropout(torch.cat([hidden[-1], hidden[-2]], dim=-1))\n",
    "        else:\n",
    "            hidden = self.dropout(hidden[-1])\n",
    "        return self.linear(hidden) # [batch_size, output_dim]\n"
   ]
  },
  {
   "cell_type": "code",
   "execution_count": 20,
   "id": "e5b5f884",
   "metadata": {
    "execution": {
     "iopub.execute_input": "2024-05-06T19:14:26.932202Z",
     "iopub.status.busy": "2024-05-06T19:14:26.931852Z",
     "iopub.status.idle": "2024-05-06T19:14:27.091512Z",
     "shell.execute_reply": "2024-05-06T19:14:27.090991Z"
    },
    "papermill": {
     "duration": 0.168027,
     "end_time": "2024-05-06T19:14:27.093011",
     "exception": false,
     "start_time": "2024-05-06T19:14:26.924984",
     "status": "completed"
    },
    "tags": []
   },
   "outputs": [],
   "source": [
    "model_glove = LSTM(\n",
    "    input_size = 100,\n",
    "    hidden_dim = 300,\n",
    "    output_dim = len(train_data.unique(\"label\")),\n",
    "    vocab_size = tokenizer.vocab_size,\n",
    "    num_layers = 2,\n",
    "    bidirectional = True,\n",
    "    dropout = 0.5\n",
    ")\n",
    "\n",
    "model_bert = LSTM(\n",
    "    input_size = 768,\n",
    "    hidden_dim = 300,\n",
    "    output_dim = len(train_data.unique(\"label\")),\n",
    "    vocab_size = tokenizer.vocab_size,\n",
    "    num_layers = 2,\n",
    "    bidirectional = True,\n",
    "    dropout = 0.5\n",
    ")"
   ]
  },
  {
   "cell_type": "code",
   "execution_count": 21,
   "id": "16b9ea61",
   "metadata": {
    "execution": {
     "iopub.execute_input": "2024-05-06T19:14:27.107519Z",
     "iopub.status.busy": "2024-05-06T19:14:27.107127Z",
     "iopub.status.idle": "2024-05-06T19:14:27.110733Z",
     "shell.execute_reply": "2024-05-06T19:14:27.110307Z"
    },
    "papermill": {
     "duration": 0.011914,
     "end_time": "2024-05-06T19:14:27.111818",
     "exception": false,
     "start_time": "2024-05-06T19:14:27.099904",
     "status": "completed"
    },
    "tags": []
   },
   "outputs": [],
   "source": [
    "def initialize_weights(m):\n",
    "    if isinstance(m, nn.Linear):\n",
    "        nn.init.xavier_normal_(m.weight)\n",
    "        nn.init.zeros_(m.bias)\n",
    "    elif isinstance(m, nn.LSTM):\n",
    "        for name, param in m.named_parameters():\n",
    "            if \"bias\" in name:\n",
    "                nn.init.zeros_(param)\n",
    "            elif \"weight\" in name:\n",
    "                nn.init.orthogonal_(param)"
   ]
  },
  {
   "cell_type": "code",
   "execution_count": 22,
   "id": "6fc579d6",
   "metadata": {
    "execution": {
     "iopub.execute_input": "2024-05-06T19:14:27.125603Z",
     "iopub.status.busy": "2024-05-06T19:14:27.125261Z",
     "iopub.status.idle": "2024-05-06T19:14:27.464858Z",
     "shell.execute_reply": "2024-05-06T19:14:27.464295Z"
    },
    "papermill": {
     "duration": 0.348121,
     "end_time": "2024-05-06T19:14:27.466371",
     "exception": false,
     "start_time": "2024-05-06T19:14:27.118250",
     "status": "completed"
    },
    "tags": []
   },
   "outputs": [
    {
     "data": {
      "text/plain": [
       "LSTM(\n",
       "  (lstm): LSTM(768, 300, num_layers=2, batch_first=True, dropout=0.5, bidirectional=True)\n",
       "  (linear): Linear(in_features=600, out_features=2, bias=True)\n",
       "  (dropout): Dropout(p=0.5, inplace=False)\n",
       ")"
      ]
     },
     "execution_count": 22,
     "metadata": {},
     "output_type": "execute_result"
    }
   ],
   "source": [
    "model_glove.apply(initialize_weights)\n",
    "model_bert.apply(initialize_weights)"
   ]
  },
  {
   "cell_type": "code",
   "execution_count": 24,
   "id": "5504b7ae",
   "metadata": {
    "execution": {
     "iopub.execute_input": "2024-05-06T19:14:27.499630Z",
     "iopub.status.busy": "2024-05-06T19:14:27.499179Z",
     "iopub.status.idle": "2024-05-06T19:14:27.942587Z",
     "shell.execute_reply": "2024-05-06T19:14:27.942074Z"
    },
    "papermill": {
     "duration": 0.451987,
     "end_time": "2024-05-06T19:14:27.944003",
     "exception": false,
     "start_time": "2024-05-06T19:14:27.492016",
     "status": "completed"
    },
    "tags": []
   },
   "outputs": [
    {
     "name": "stdout",
     "output_type": "stream",
     "text": [
      "cuda\n"
     ]
    }
   ],
   "source": [
    "lr = 6e-4\n",
    "\n",
    "optimizer_glove = optim.Adam(model_glove.parameters(), lr=lr)\n",
    "optimizer_bert = optim.Adam(model_bert.parameters(), lr=lr)\n",
    "criterion = nn.CrossEntropyLoss()\n",
    "device = torch.device(\"cuda\" if torch.cuda.is_available() else \"cpu\")\n",
    "\n",
    "print(device)\n",
    "\n",
    "model_glove = model_glove.to(device)\n",
    "model_bert = model_bert.to(device)\n",
    "criterion = criterion.to(device)"
   ]
  },
  {
   "cell_type": "code",
   "execution_count": 25,
   "id": "04cdef13",
   "metadata": {
    "execution": {
     "iopub.execute_input": "2024-05-06T19:14:27.961470Z",
     "iopub.status.busy": "2024-05-06T19:14:27.961028Z",
     "iopub.status.idle": "2024-05-06T19:14:27.966084Z",
     "shell.execute_reply": "2024-05-06T19:14:27.965607Z"
    },
    "papermill": {
     "duration": 0.014064,
     "end_time": "2024-05-06T19:14:27.967422",
     "exception": false,
     "start_time": "2024-05-06T19:14:27.953358",
     "status": "completed"
    },
    "tags": []
   },
   "outputs": [],
   "source": [
    "def run(dataloader, model, criterion, optimizer, device, embedding, is_eval=False):\n",
    "    if is_eval:\n",
    "        model.eval()\n",
    "    else:\n",
    "        model.train()\n",
    "    epoch_losses = []\n",
    "    epoch_accs = []\n",
    "    desc = \"TRAINING MODEL...\" if not is_eval else \"EVALUATING MODEL...\"\n",
    "    for batch in tqdm.tqdm(dataloader, desc=desc):\n",
    "        embeddings = batch[embedding].to(device)\n",
    "        length = batch[\"length\"]\n",
    "        label = batch[\"label\"].to(device)\n",
    "        prediction = model(embeddings, length)\n",
    "        loss = criterion(prediction, label)\n",
    "        accuracy = get_accuracy(prediction, label)\n",
    "        if not is_eval:\n",
    "            optimizer.zero_grad()\n",
    "            loss.backward()\n",
    "            optimizer.step()\n",
    "        epoch_losses.append(loss.item())\n",
    "        epoch_accs.append(accuracy.item())\n",
    "    return np.mean(epoch_losses), np.mean(epoch_accs)"
   ]
  },
  {
   "cell_type": "code",
   "execution_count": 26,
   "id": "ed2b3743",
   "metadata": {
    "execution": {
     "iopub.execute_input": "2024-05-06T19:14:27.982127Z",
     "iopub.status.busy": "2024-05-06T19:14:27.981783Z",
     "iopub.status.idle": "2024-05-06T19:14:27.984794Z",
     "shell.execute_reply": "2024-05-06T19:14:27.984369Z"
    },
    "papermill": {
     "duration": 0.011451,
     "end_time": "2024-05-06T19:14:27.985860",
     "exception": false,
     "start_time": "2024-05-06T19:14:27.974409",
     "status": "completed"
    },
    "tags": []
   },
   "outputs": [],
   "source": [
    "def get_accuracy(prediction, label):\n",
    "    batch_size, _ = prediction.shape\n",
    "    predicted_classes = prediction.argmax(dim=-1)\n",
    "    correct_predictions = predicted_classes.eq(label).sum()\n",
    "    accuracy = correct_predictions / batch_size\n",
    "    return accuracy"
   ]
  },
  {
   "cell_type": "code",
   "execution_count": 27,
   "id": "e677b8f4",
   "metadata": {
    "execution": {
     "iopub.execute_input": "2024-05-06T19:14:28.000193Z",
     "iopub.status.busy": "2024-05-06T19:14:27.999846Z",
     "iopub.status.idle": "2024-05-06T19:51:37.540070Z",
     "shell.execute_reply": "2024-05-06T19:51:37.539553Z"
    },
    "papermill": {
     "duration": 2229.549186,
     "end_time": "2024-05-06T19:51:37.541798",
     "exception": false,
     "start_time": "2024-05-06T19:14:27.992612",
     "status": "completed"
    },
    "tags": []
   },
   "outputs": [
    {
     "name": "stderr",
     "output_type": "stream",
     "text": [
      "\r",
      "TRAINING MODEL...:   0%|          | 0/40 [00:00<?, ?it/s]"
     ]
    },
    {
     "name": "stderr",
     "output_type": "stream",
     "text": [
      "We strongly recommend passing in an `attention_mask` since your input_ids may be padded. See https://huggingface.co/docs/transformers/troubleshooting#incorrect-output-when-padding-tokens-arent-masked.\n"
     ]
    },
    {
     "name": "stderr",
     "output_type": "stream",
     "text": [
      "\r",
      "TRAINING MODEL...:   2%|▎         | 1/40 [00:05<03:52,  5.96s/it]"
     ]
    },
    {
     "name": "stderr",
     "output_type": "stream",
     "text": [
      "\r",
      "TRAINING MODEL...:   5%|▌         | 2/40 [00:10<03:07,  4.93s/it]"
     ]
    },
    {
     "name": "stderr",
     "output_type": "stream",
     "text": [
      "\r",
      "TRAINING MODEL...:   8%|▊         | 3/40 [00:15<03:15,  5.29s/it]"
     ]
    },
    {
     "name": "stderr",
     "output_type": "stream",
     "text": [
      "\r",
      "TRAINING MODEL...:  10%|█         | 4/40 [00:20<02:58,  4.96s/it]"
     ]
    },
    {
     "name": "stderr",
     "output_type": "stream",
     "text": [
      "\r",
      "TRAINING MODEL...:  12%|█▎        | 5/40 [00:24<02:46,  4.74s/it]"
     ]
    },
    {
     "name": "stderr",
     "output_type": "stream",
     "text": [
      "\r",
      "TRAINING MODEL...:  15%|█▌        | 6/40 [00:29<02:39,  4.69s/it]"
     ]
    },
    {
     "name": "stderr",
     "output_type": "stream",
     "text": [
      "\r",
      "TRAINING MODEL...:  18%|█▊        | 7/40 [00:33<02:28,  4.49s/it]"
     ]
    },
    {
     "name": "stderr",
     "output_type": "stream",
     "text": [
      "\r",
      "TRAINING MODEL...:  20%|██        | 8/40 [00:37<02:24,  4.53s/it]"
     ]
    },
    {
     "name": "stderr",
     "output_type": "stream",
     "text": [
      "\r",
      "TRAINING MODEL...:  22%|██▎       | 9/40 [00:42<02:23,  4.64s/it]"
     ]
    },
    {
     "name": "stderr",
     "output_type": "stream",
     "text": [
      "\r",
      "TRAINING MODEL...:  25%|██▌       | 10/40 [00:46<02:13,  4.44s/it]"
     ]
    },
    {
     "name": "stderr",
     "output_type": "stream",
     "text": [
      "\r",
      "TRAINING MODEL...:  28%|██▊       | 11/40 [00:50<02:05,  4.33s/it]"
     ]
    },
    {
     "name": "stderr",
     "output_type": "stream",
     "text": [
      "\r",
      "TRAINING MODEL...:  30%|███       | 12/40 [00:56<02:13,  4.78s/it]"
     ]
    },
    {
     "name": "stderr",
     "output_type": "stream",
     "text": [
      "\r",
      "TRAINING MODEL...:  32%|███▎      | 13/40 [01:02<02:20,  5.21s/it]"
     ]
    },
    {
     "name": "stderr",
     "output_type": "stream",
     "text": [
      "\r",
      "TRAINING MODEL...:  35%|███▌      | 14/40 [01:06<02:05,  4.83s/it]"
     ]
    },
    {
     "name": "stderr",
     "output_type": "stream",
     "text": [
      "\r",
      "TRAINING MODEL...:  38%|███▊      | 15/40 [01:11<01:58,  4.73s/it]"
     ]
    },
    {
     "name": "stderr",
     "output_type": "stream",
     "text": [
      "\r",
      "TRAINING MODEL...:  40%|████      | 16/40 [01:15<01:50,  4.59s/it]"
     ]
    },
    {
     "name": "stderr",
     "output_type": "stream",
     "text": [
      "\r",
      "TRAINING MODEL...:  42%|████▎     | 17/40 [01:19<01:40,  4.37s/it]"
     ]
    },
    {
     "name": "stderr",
     "output_type": "stream",
     "text": [
      "\r",
      "TRAINING MODEL...:  45%|████▌     | 18/40 [01:24<01:37,  4.41s/it]"
     ]
    },
    {
     "name": "stderr",
     "output_type": "stream",
     "text": [
      "\r",
      "TRAINING MODEL...:  48%|████▊     | 19/40 [01:28<01:31,  4.34s/it]"
     ]
    },
    {
     "name": "stderr",
     "output_type": "stream",
     "text": [
      "\r",
      "TRAINING MODEL...:  50%|█████     | 20/40 [01:32<01:27,  4.39s/it]"
     ]
    },
    {
     "name": "stderr",
     "output_type": "stream",
     "text": [
      "\r",
      "TRAINING MODEL...:  52%|█████▎    | 21/40 [01:37<01:26,  4.54s/it]"
     ]
    },
    {
     "name": "stderr",
     "output_type": "stream",
     "text": [
      "\r",
      "TRAINING MODEL...:  55%|█████▌    | 22/40 [01:42<01:24,  4.70s/it]"
     ]
    },
    {
     "name": "stderr",
     "output_type": "stream",
     "text": [
      "\r",
      "TRAINING MODEL...:  57%|█████▊    | 23/40 [01:46<01:17,  4.56s/it]"
     ]
    },
    {
     "name": "stderr",
     "output_type": "stream",
     "text": [
      "\r",
      "TRAINING MODEL...:  60%|██████    | 24/40 [01:50<01:10,  4.41s/it]"
     ]
    },
    {
     "name": "stderr",
     "output_type": "stream",
     "text": [
      "\r",
      "TRAINING MODEL...:  62%|██████▎   | 25/40 [01:55<01:06,  4.44s/it]"
     ]
    },
    {
     "name": "stderr",
     "output_type": "stream",
     "text": [
      "\r",
      "TRAINING MODEL...:  65%|██████▌   | 26/40 [02:00<01:05,  4.66s/it]"
     ]
    },
    {
     "name": "stderr",
     "output_type": "stream",
     "text": [
      "\r",
      "TRAINING MODEL...:  68%|██████▊   | 27/40 [02:05<01:01,  4.69s/it]"
     ]
    },
    {
     "name": "stderr",
     "output_type": "stream",
     "text": [
      "\r",
      "TRAINING MODEL...:  70%|███████   | 28/40 [02:09<00:54,  4.51s/it]"
     ]
    },
    {
     "name": "stderr",
     "output_type": "stream",
     "text": [
      "\r",
      "TRAINING MODEL...:  72%|███████▎  | 29/40 [02:13<00:48,  4.42s/it]"
     ]
    },
    {
     "name": "stderr",
     "output_type": "stream",
     "text": [
      "\r",
      "TRAINING MODEL...:  75%|███████▌  | 30/40 [02:17<00:43,  4.36s/it]"
     ]
    },
    {
     "name": "stderr",
     "output_type": "stream",
     "text": [
      "\r",
      "TRAINING MODEL...:  78%|███████▊  | 31/40 [02:22<00:39,  4.41s/it]"
     ]
    },
    {
     "name": "stderr",
     "output_type": "stream",
     "text": [
      "\r",
      "TRAINING MODEL...:  80%|████████  | 32/40 [02:26<00:33,  4.23s/it]"
     ]
    },
    {
     "name": "stderr",
     "output_type": "stream",
     "text": [
      "\r",
      "TRAINING MODEL...:  82%|████████▎ | 33/40 [02:31<00:30,  4.41s/it]"
     ]
    },
    {
     "name": "stderr",
     "output_type": "stream",
     "text": [
      "\r",
      "TRAINING MODEL...:  85%|████████▌ | 34/40 [02:35<00:26,  4.43s/it]"
     ]
    },
    {
     "name": "stderr",
     "output_type": "stream",
     "text": [
      "\r",
      "TRAINING MODEL...:  88%|████████▊ | 35/40 [02:40<00:22,  4.46s/it]"
     ]
    },
    {
     "name": "stderr",
     "output_type": "stream",
     "text": [
      "\r",
      "TRAINING MODEL...:  90%|█████████ | 36/40 [02:43<00:17,  4.29s/it]"
     ]
    },
    {
     "name": "stderr",
     "output_type": "stream",
     "text": [
      "\r",
      "TRAINING MODEL...:  92%|█████████▎| 37/40 [02:48<00:12,  4.27s/it]"
     ]
    },
    {
     "name": "stderr",
     "output_type": "stream",
     "text": [
      "\r",
      "TRAINING MODEL...:  95%|█████████▌| 38/40 [02:52<00:08,  4.19s/it]"
     ]
    },
    {
     "name": "stderr",
     "output_type": "stream",
     "text": [
      "\r",
      "TRAINING MODEL...:  98%|█████████▊| 39/40 [02:56<00:04,  4.22s/it]"
     ]
    },
    {
     "name": "stderr",
     "output_type": "stream",
     "text": [
      "\r",
      "TRAINING MODEL...: 100%|██████████| 40/40 [02:56<00:00,  3.06s/it]"
     ]
    },
    {
     "name": "stderr",
     "output_type": "stream",
     "text": [
      "\r",
      "TRAINING MODEL...: 100%|██████████| 40/40 [02:56<00:00,  4.42s/it]"
     ]
    },
    {
     "name": "stderr",
     "output_type": "stream",
     "text": [
      "\n"
     ]
    },
    {
     "name": "stderr",
     "output_type": "stream",
     "text": [
      "\r",
      "EVALUATING MODEL...:   0%|          | 0/10 [00:00<?, ?it/s]"
     ]
    },
    {
     "name": "stderr",
     "output_type": "stream",
     "text": [
      "\r",
      "EVALUATING MODEL...:  10%|█         | 1/10 [00:05<00:48,  5.43s/it]"
     ]
    },
    {
     "name": "stderr",
     "output_type": "stream",
     "text": [
      "\r",
      "EVALUATING MODEL...:  20%|██        | 2/10 [00:09<00:36,  4.53s/it]"
     ]
    },
    {
     "name": "stderr",
     "output_type": "stream",
     "text": [
      "\r",
      "EVALUATING MODEL...:  30%|███       | 3/10 [00:13<00:30,  4.35s/it]"
     ]
    },
    {
     "name": "stderr",
     "output_type": "stream",
     "text": [
      "\r",
      "EVALUATING MODEL...:  40%|████      | 4/10 [00:17<00:26,  4.34s/it]"
     ]
    },
    {
     "name": "stderr",
     "output_type": "stream",
     "text": [
      "\r",
      "EVALUATING MODEL...:  50%|█████     | 5/10 [00:24<00:25,  5.16s/it]"
     ]
    },
    {
     "name": "stderr",
     "output_type": "stream",
     "text": [
      "\r",
      "EVALUATING MODEL...:  60%|██████    | 6/10 [00:29<00:20,  5.09s/it]"
     ]
    },
    {
     "name": "stderr",
     "output_type": "stream",
     "text": [
      "\r",
      "EVALUATING MODEL...:  70%|███████   | 7/10 [00:34<00:15,  5.03s/it]"
     ]
    },
    {
     "name": "stderr",
     "output_type": "stream",
     "text": [
      "\r",
      "EVALUATING MODEL...:  80%|████████  | 8/10 [00:38<00:09,  4.69s/it]"
     ]
    },
    {
     "name": "stderr",
     "output_type": "stream",
     "text": [
      "\r",
      "EVALUATING MODEL...:  90%|█████████ | 9/10 [00:43<00:04,  4.85s/it]"
     ]
    },
    {
     "name": "stderr",
     "output_type": "stream",
     "text": [
      "\r",
      "EVALUATING MODEL...: 100%|██████████| 10/10 [00:46<00:00,  4.43s/it]"
     ]
    },
    {
     "name": "stderr",
     "output_type": "stream",
     "text": [
      "\r",
      "EVALUATING MODEL...: 100%|██████████| 10/10 [00:46<00:00,  4.69s/it]"
     ]
    },
    {
     "name": "stderr",
     "output_type": "stream",
     "text": [
      "\n"
     ]
    },
    {
     "name": "stdout",
     "output_type": "stream",
     "text": [
      "epoch: 0\n",
      "train_loss: 0.676, train_acc: 0.564\n",
      "validation_loss: 0.690, validation_acc: 0.634\n"
     ]
    },
    {
     "name": "stderr",
     "output_type": "stream",
     "text": [
      "\r",
      "TRAINING MODEL...:   0%|          | 0/40 [00:00<?, ?it/s]"
     ]
    },
    {
     "name": "stderr",
     "output_type": "stream",
     "text": [
      "\r",
      "TRAINING MODEL...:   2%|▎         | 1/40 [00:04<02:54,  4.47s/it]"
     ]
    },
    {
     "name": "stderr",
     "output_type": "stream",
     "text": [
      "\r",
      "TRAINING MODEL...:   5%|▌         | 2/40 [00:10<03:22,  5.32s/it]"
     ]
    },
    {
     "name": "stderr",
     "output_type": "stream",
     "text": [
      "\r",
      "TRAINING MODEL...:   8%|▊         | 3/40 [00:14<03:00,  4.88s/it]"
     ]
    },
    {
     "name": "stderr",
     "output_type": "stream",
     "text": [
      "\r",
      "TRAINING MODEL...:  10%|█         | 4/40 [00:18<02:45,  4.60s/it]"
     ]
    },
    {
     "name": "stderr",
     "output_type": "stream",
     "text": [
      "\r",
      "TRAINING MODEL...:  12%|█▎        | 5/40 [00:22<02:34,  4.40s/it]"
     ]
    },
    {
     "name": "stderr",
     "output_type": "stream",
     "text": [
      "\r",
      "TRAINING MODEL...:  15%|█▌        | 6/40 [00:27<02:29,  4.40s/it]"
     ]
    },
    {
     "name": "stderr",
     "output_type": "stream",
     "text": [
      "\r",
      "TRAINING MODEL...:  18%|█▊        | 7/40 [00:31<02:22,  4.33s/it]"
     ]
    },
    {
     "name": "stderr",
     "output_type": "stream",
     "text": [
      "\r",
      "TRAINING MODEL...:  20%|██        | 8/40 [00:36<02:26,  4.58s/it]"
     ]
    },
    {
     "name": "stderr",
     "output_type": "stream",
     "text": [
      "\r",
      "TRAINING MODEL...:  22%|██▎       | 9/40 [00:40<02:18,  4.48s/it]"
     ]
    },
    {
     "name": "stderr",
     "output_type": "stream",
     "text": [
      "\r",
      "TRAINING MODEL...:  25%|██▌       | 10/40 [00:44<02:10,  4.34s/it]"
     ]
    },
    {
     "name": "stderr",
     "output_type": "stream",
     "text": [
      "\r",
      "TRAINING MODEL...:  28%|██▊       | 11/40 [00:49<02:04,  4.30s/it]"
     ]
    },
    {
     "name": "stderr",
     "output_type": "stream",
     "text": [
      "\r",
      "TRAINING MODEL...:  30%|███       | 12/40 [00:53<02:04,  4.44s/it]"
     ]
    },
    {
     "name": "stderr",
     "output_type": "stream",
     "text": [
      "\r",
      "TRAINING MODEL...:  32%|███▎      | 13/40 [00:57<01:55,  4.28s/it]"
     ]
    },
    {
     "name": "stderr",
     "output_type": "stream",
     "text": [
      "\r",
      "TRAINING MODEL...:  35%|███▌      | 14/40 [01:01<01:48,  4.18s/it]"
     ]
    },
    {
     "name": "stderr",
     "output_type": "stream",
     "text": [
      "\r",
      "TRAINING MODEL...:  38%|███▊      | 15/40 [01:06<01:48,  4.35s/it]"
     ]
    },
    {
     "name": "stderr",
     "output_type": "stream",
     "text": [
      "\r",
      "TRAINING MODEL...:  40%|████      | 16/40 [01:10<01:43,  4.33s/it]"
     ]
    },
    {
     "name": "stderr",
     "output_type": "stream",
     "text": [
      "\r",
      "TRAINING MODEL...:  42%|████▎     | 17/40 [01:15<01:40,  4.37s/it]"
     ]
    },
    {
     "name": "stderr",
     "output_type": "stream",
     "text": [
      "\r",
      "TRAINING MODEL...:  45%|████▌     | 18/40 [01:19<01:33,  4.26s/it]"
     ]
    },
    {
     "name": "stderr",
     "output_type": "stream",
     "text": [
      "\r",
      "TRAINING MODEL...:  48%|████▊     | 19/40 [01:24<01:33,  4.43s/it]"
     ]
    },
    {
     "name": "stderr",
     "output_type": "stream",
     "text": [
      "\r",
      "TRAINING MODEL...:  50%|█████     | 20/40 [01:29<01:34,  4.74s/it]"
     ]
    },
    {
     "name": "stderr",
     "output_type": "stream",
     "text": [
      "\r",
      "TRAINING MODEL...:  52%|█████▎    | 21/40 [01:34<01:30,  4.74s/it]"
     ]
    },
    {
     "name": "stderr",
     "output_type": "stream",
     "text": [
      "\r",
      "TRAINING MODEL...:  55%|█████▌    | 22/40 [01:38<01:24,  4.69s/it]"
     ]
    },
    {
     "name": "stderr",
     "output_type": "stream",
     "text": [
      "\r",
      "TRAINING MODEL...:  57%|█████▊    | 23/40 [01:42<01:15,  4.46s/it]"
     ]
    },
    {
     "name": "stderr",
     "output_type": "stream",
     "text": [
      "\r",
      "TRAINING MODEL...:  60%|██████    | 24/40 [01:48<01:19,  4.97s/it]"
     ]
    },
    {
     "name": "stderr",
     "output_type": "stream",
     "text": [
      "\r",
      "TRAINING MODEL...:  62%|██████▎   | 25/40 [01:53<01:14,  4.94s/it]"
     ]
    },
    {
     "name": "stderr",
     "output_type": "stream",
     "text": [
      "\r",
      "TRAINING MODEL...:  65%|██████▌   | 26/40 [01:58<01:07,  4.83s/it]"
     ]
    },
    {
     "name": "stderr",
     "output_type": "stream",
     "text": [
      "\r",
      "TRAINING MODEL...:  68%|██████▊   | 27/40 [02:02<01:01,  4.74s/it]"
     ]
    },
    {
     "name": "stderr",
     "output_type": "stream",
     "text": [
      "\r",
      "TRAINING MODEL...:  70%|███████   | 28/40 [02:07<00:55,  4.62s/it]"
     ]
    },
    {
     "name": "stderr",
     "output_type": "stream",
     "text": [
      "\r",
      "TRAINING MODEL...:  72%|███████▎  | 29/40 [02:11<00:49,  4.53s/it]"
     ]
    },
    {
     "name": "stderr",
     "output_type": "stream",
     "text": [
      "\r",
      "TRAINING MODEL...:  75%|███████▌  | 30/40 [02:16<00:45,  4.57s/it]"
     ]
    },
    {
     "name": "stderr",
     "output_type": "stream",
     "text": [
      "\r",
      "TRAINING MODEL...:  78%|███████▊  | 31/40 [02:20<00:39,  4.39s/it]"
     ]
    },
    {
     "name": "stderr",
     "output_type": "stream",
     "text": [
      "\r",
      "TRAINING MODEL...:  80%|████████  | 32/40 [02:24<00:33,  4.24s/it]"
     ]
    },
    {
     "name": "stderr",
     "output_type": "stream",
     "text": [
      "\r",
      "TRAINING MODEL...:  82%|████████▎ | 33/40 [02:28<00:30,  4.38s/it]"
     ]
    },
    {
     "name": "stderr",
     "output_type": "stream",
     "text": [
      "\r",
      "TRAINING MODEL...:  85%|████████▌ | 34/40 [02:33<00:25,  4.32s/it]"
     ]
    },
    {
     "name": "stderr",
     "output_type": "stream",
     "text": [
      "\r",
      "TRAINING MODEL...:  88%|████████▊ | 35/40 [02:37<00:21,  4.32s/it]"
     ]
    },
    {
     "name": "stderr",
     "output_type": "stream",
     "text": [
      "\r",
      "TRAINING MODEL...:  90%|█████████ | 36/40 [02:41<00:16,  4.17s/it]"
     ]
    },
    {
     "name": "stderr",
     "output_type": "stream",
     "text": [
      "\r",
      "TRAINING MODEL...:  92%|█████████▎| 37/40 [02:45<00:12,  4.33s/it]"
     ]
    },
    {
     "name": "stderr",
     "output_type": "stream",
     "text": [
      "\r",
      "TRAINING MODEL...:  95%|█████████▌| 38/40 [02:49<00:08,  4.24s/it]"
     ]
    },
    {
     "name": "stderr",
     "output_type": "stream",
     "text": [
      "\r",
      "TRAINING MODEL...:  98%|█████████▊| 39/40 [02:53<00:04,  4.17s/it]"
     ]
    },
    {
     "name": "stderr",
     "output_type": "stream",
     "text": [
      "\r",
      "TRAINING MODEL...: 100%|██████████| 40/40 [02:54<00:00,  3.03s/it]"
     ]
    },
    {
     "name": "stderr",
     "output_type": "stream",
     "text": [
      "\r",
      "TRAINING MODEL...: 100%|██████████| 40/40 [02:54<00:00,  4.36s/it]"
     ]
    },
    {
     "name": "stderr",
     "output_type": "stream",
     "text": [
      "\n"
     ]
    },
    {
     "name": "stderr",
     "output_type": "stream",
     "text": [
      "\r",
      "EVALUATING MODEL...:   0%|          | 0/10 [00:00<?, ?it/s]"
     ]
    },
    {
     "name": "stderr",
     "output_type": "stream",
     "text": [
      "\r",
      "EVALUATING MODEL...:  10%|█         | 1/10 [00:04<00:42,  4.73s/it]"
     ]
    },
    {
     "name": "stderr",
     "output_type": "stream",
     "text": [
      "\r",
      "EVALUATING MODEL...:  20%|██        | 2/10 [00:08<00:35,  4.42s/it]"
     ]
    },
    {
     "name": "stderr",
     "output_type": "stream",
     "text": [
      "\r",
      "EVALUATING MODEL...:  30%|███       | 3/10 [00:13<00:30,  4.34s/it]"
     ]
    },
    {
     "name": "stderr",
     "output_type": "stream",
     "text": [
      "\r",
      "EVALUATING MODEL...:  40%|████      | 4/10 [00:17<00:25,  4.25s/it]"
     ]
    },
    {
     "name": "stderr",
     "output_type": "stream",
     "text": [
      "\r",
      "EVALUATING MODEL...:  50%|█████     | 5/10 [00:23<00:24,  4.95s/it]"
     ]
    },
    {
     "name": "stderr",
     "output_type": "stream",
     "text": [
      "\r",
      "EVALUATING MODEL...:  60%|██████    | 6/10 [00:28<00:20,  5.13s/it]"
     ]
    },
    {
     "name": "stderr",
     "output_type": "stream",
     "text": [
      "\r",
      "EVALUATING MODEL...:  70%|███████   | 7/10 [00:33<00:15,  5.02s/it]"
     ]
    },
    {
     "name": "stderr",
     "output_type": "stream",
     "text": [
      "\r",
      "EVALUATING MODEL...:  80%|████████  | 8/10 [00:37<00:09,  4.69s/it]"
     ]
    },
    {
     "name": "stderr",
     "output_type": "stream",
     "text": [
      "\r",
      "EVALUATING MODEL...:  90%|█████████ | 9/10 [00:42<00:04,  4.73s/it]"
     ]
    },
    {
     "name": "stderr",
     "output_type": "stream",
     "text": [
      "\r",
      "EVALUATING MODEL...: 100%|██████████| 10/10 [00:46<00:00,  4.45s/it]"
     ]
    },
    {
     "name": "stderr",
     "output_type": "stream",
     "text": [
      "\r",
      "EVALUATING MODEL...: 100%|██████████| 10/10 [00:46<00:00,  4.64s/it]"
     ]
    },
    {
     "name": "stderr",
     "output_type": "stream",
     "text": [
      "\n"
     ]
    },
    {
     "name": "stdout",
     "output_type": "stream",
     "text": [
      "epoch: 1\n",
      "train_loss: 0.639, train_acc: 0.644\n",
      "validation_loss: 0.640, validation_acc: 0.622\n"
     ]
    },
    {
     "name": "stderr",
     "output_type": "stream",
     "text": [
      "\r",
      "TRAINING MODEL...:   0%|          | 0/40 [00:00<?, ?it/s]"
     ]
    },
    {
     "name": "stderr",
     "output_type": "stream",
     "text": [
      "\r",
      "TRAINING MODEL...:   2%|▎         | 1/40 [00:03<02:31,  3.89s/it]"
     ]
    },
    {
     "name": "stderr",
     "output_type": "stream",
     "text": [
      "\r",
      "TRAINING MODEL...:   5%|▌         | 2/40 [00:08<02:47,  4.40s/it]"
     ]
    },
    {
     "name": "stderr",
     "output_type": "stream",
     "text": [
      "\r",
      "TRAINING MODEL...:   8%|▊         | 3/40 [00:12<02:40,  4.35s/it]"
     ]
    },
    {
     "name": "stderr",
     "output_type": "stream",
     "text": [
      "\r",
      "TRAINING MODEL...:  10%|█         | 4/40 [00:17<02:42,  4.51s/it]"
     ]
    },
    {
     "name": "stderr",
     "output_type": "stream",
     "text": [
      "\r",
      "TRAINING MODEL...:  12%|█▎        | 5/40 [00:21<02:32,  4.34s/it]"
     ]
    },
    {
     "name": "stderr",
     "output_type": "stream",
     "text": [
      "\r",
      "TRAINING MODEL...:  15%|█▌        | 6/40 [00:26<02:32,  4.47s/it]"
     ]
    },
    {
     "name": "stderr",
     "output_type": "stream",
     "text": [
      "\r",
      "TRAINING MODEL...:  18%|█▊        | 7/40 [00:31<02:38,  4.80s/it]"
     ]
    },
    {
     "name": "stderr",
     "output_type": "stream",
     "text": [
      "\r",
      "TRAINING MODEL...:  20%|██        | 8/40 [00:37<02:37,  4.94s/it]"
     ]
    },
    {
     "name": "stderr",
     "output_type": "stream",
     "text": [
      "\r",
      "TRAINING MODEL...:  22%|██▎       | 9/40 [00:41<02:24,  4.67s/it]"
     ]
    },
    {
     "name": "stderr",
     "output_type": "stream",
     "text": [
      "\r",
      "TRAINING MODEL...:  25%|██▌       | 10/40 [00:45<02:15,  4.52s/it]"
     ]
    },
    {
     "name": "stderr",
     "output_type": "stream",
     "text": [
      "\r",
      "TRAINING MODEL...:  28%|██▊       | 11/40 [00:51<02:25,  5.03s/it]"
     ]
    },
    {
     "name": "stderr",
     "output_type": "stream",
     "text": [
      "\r",
      "TRAINING MODEL...:  30%|███       | 12/40 [00:56<02:19,  4.99s/it]"
     ]
    },
    {
     "name": "stderr",
     "output_type": "stream",
     "text": [
      "\r",
      "TRAINING MODEL...:  32%|███▎      | 13/40 [01:00<02:10,  4.82s/it]"
     ]
    },
    {
     "name": "stderr",
     "output_type": "stream",
     "text": [
      "\r",
      "TRAINING MODEL...:  35%|███▌      | 14/40 [01:04<01:59,  4.58s/it]"
     ]
    },
    {
     "name": "stderr",
     "output_type": "stream",
     "text": [
      "\r",
      "TRAINING MODEL...:  38%|███▊      | 15/40 [01:09<01:55,  4.63s/it]"
     ]
    },
    {
     "name": "stderr",
     "output_type": "stream",
     "text": [
      "\r",
      "TRAINING MODEL...:  40%|████      | 16/40 [01:14<01:52,  4.70s/it]"
     ]
    },
    {
     "name": "stderr",
     "output_type": "stream",
     "text": [
      "\r",
      "TRAINING MODEL...:  42%|████▎     | 17/40 [01:18<01:43,  4.50s/it]"
     ]
    },
    {
     "name": "stderr",
     "output_type": "stream",
     "text": [
      "\r",
      "TRAINING MODEL...:  45%|████▌     | 18/40 [01:22<01:35,  4.34s/it]"
     ]
    },
    {
     "name": "stderr",
     "output_type": "stream",
     "text": [
      "\r",
      "TRAINING MODEL...:  48%|████▊     | 19/40 [01:26<01:30,  4.32s/it]"
     ]
    },
    {
     "name": "stderr",
     "output_type": "stream",
     "text": [
      "\r",
      "TRAINING MODEL...:  50%|█████     | 20/40 [01:31<01:25,  4.30s/it]"
     ]
    },
    {
     "name": "stderr",
     "output_type": "stream",
     "text": [
      "\r",
      "TRAINING MODEL...:  52%|█████▎    | 21/40 [01:35<01:23,  4.38s/it]"
     ]
    },
    {
     "name": "stderr",
     "output_type": "stream",
     "text": [
      "\r",
      "TRAINING MODEL...:  55%|█████▌    | 22/40 [01:40<01:19,  4.40s/it]"
     ]
    },
    {
     "name": "stderr",
     "output_type": "stream",
     "text": [
      "\r",
      "TRAINING MODEL...:  57%|█████▊    | 23/40 [01:44<01:15,  4.45s/it]"
     ]
    },
    {
     "name": "stderr",
     "output_type": "stream",
     "text": [
      "\r",
      "TRAINING MODEL...:  60%|██████    | 24/40 [01:49<01:11,  4.48s/it]"
     ]
    },
    {
     "name": "stderr",
     "output_type": "stream",
     "text": [
      "\r",
      "TRAINING MODEL...:  62%|██████▎   | 25/40 [01:54<01:10,  4.71s/it]"
     ]
    },
    {
     "name": "stderr",
     "output_type": "stream",
     "text": [
      "\r",
      "TRAINING MODEL...:  65%|██████▌   | 26/40 [01:58<01:03,  4.51s/it]"
     ]
    },
    {
     "name": "stderr",
     "output_type": "stream",
     "text": [
      "\r",
      "TRAINING MODEL...:  68%|██████▊   | 27/40 [02:02<00:58,  4.48s/it]"
     ]
    },
    {
     "name": "stderr",
     "output_type": "stream",
     "text": [
      "\r",
      "TRAINING MODEL...:  70%|███████   | 28/40 [02:07<00:54,  4.55s/it]"
     ]
    },
    {
     "name": "stderr",
     "output_type": "stream",
     "text": [
      "\r",
      "TRAINING MODEL...:  72%|███████▎  | 29/40 [02:11<00:48,  4.44s/it]"
     ]
    },
    {
     "name": "stderr",
     "output_type": "stream",
     "text": [
      "\r",
      "TRAINING MODEL...:  75%|███████▌  | 30/40 [02:15<00:43,  4.34s/it]"
     ]
    },
    {
     "name": "stderr",
     "output_type": "stream",
     "text": [
      "\r",
      "TRAINING MODEL...:  78%|███████▊  | 31/40 [02:19<00:38,  4.26s/it]"
     ]
    },
    {
     "name": "stderr",
     "output_type": "stream",
     "text": [
      "\r",
      "TRAINING MODEL...:  80%|████████  | 32/40 [02:24<00:33,  4.23s/it]"
     ]
    },
    {
     "name": "stderr",
     "output_type": "stream",
     "text": [
      "\r",
      "TRAINING MODEL...:  82%|████████▎ | 33/40 [02:30<00:33,  4.78s/it]"
     ]
    },
    {
     "name": "stderr",
     "output_type": "stream",
     "text": [
      "\r",
      "TRAINING MODEL...:  85%|████████▌ | 34/40 [02:34<00:27,  4.58s/it]"
     ]
    },
    {
     "name": "stderr",
     "output_type": "stream",
     "text": [
      "\r",
      "TRAINING MODEL...:  88%|████████▊ | 35/40 [02:39<00:23,  4.61s/it]"
     ]
    },
    {
     "name": "stderr",
     "output_type": "stream",
     "text": [
      "\r",
      "TRAINING MODEL...:  90%|█████████ | 36/40 [02:42<00:17,  4.42s/it]"
     ]
    },
    {
     "name": "stderr",
     "output_type": "stream",
     "text": [
      "\r",
      "TRAINING MODEL...:  92%|█████████▎| 37/40 [02:47<00:13,  4.54s/it]"
     ]
    },
    {
     "name": "stderr",
     "output_type": "stream",
     "text": [
      "\r",
      "TRAINING MODEL...:  95%|█████████▌| 38/40 [02:51<00:08,  4.42s/it]"
     ]
    },
    {
     "name": "stderr",
     "output_type": "stream",
     "text": [
      "\r",
      "TRAINING MODEL...:  98%|█████████▊| 39/40 [02:55<00:04,  4.25s/it]"
     ]
    },
    {
     "name": "stderr",
     "output_type": "stream",
     "text": [
      "\r",
      "TRAINING MODEL...: 100%|██████████| 40/40 [02:56<00:00,  3.08s/it]"
     ]
    },
    {
     "name": "stderr",
     "output_type": "stream",
     "text": [
      "\r",
      "TRAINING MODEL...: 100%|██████████| 40/40 [02:56<00:00,  4.40s/it]"
     ]
    },
    {
     "name": "stderr",
     "output_type": "stream",
     "text": [
      "\n"
     ]
    },
    {
     "name": "stderr",
     "output_type": "stream",
     "text": [
      "\r",
      "EVALUATING MODEL...:   0%|          | 0/10 [00:00<?, ?it/s]"
     ]
    },
    {
     "name": "stderr",
     "output_type": "stream",
     "text": [
      "\r",
      "EVALUATING MODEL...:  10%|█         | 1/10 [00:04<00:43,  4.87s/it]"
     ]
    },
    {
     "name": "stderr",
     "output_type": "stream",
     "text": [
      "\r",
      "EVALUATING MODEL...:  20%|██        | 2/10 [00:08<00:34,  4.32s/it]"
     ]
    },
    {
     "name": "stderr",
     "output_type": "stream",
     "text": [
      "\r",
      "EVALUATING MODEL...:  30%|███       | 3/10 [00:13<00:30,  4.42s/it]"
     ]
    },
    {
     "name": "stderr",
     "output_type": "stream",
     "text": [
      "\r",
      "EVALUATING MODEL...:  40%|████      | 4/10 [00:17<00:25,  4.30s/it]"
     ]
    },
    {
     "name": "stderr",
     "output_type": "stream",
     "text": [
      "\r",
      "EVALUATING MODEL...:  50%|█████     | 5/10 [00:23<00:25,  5.00s/it]"
     ]
    },
    {
     "name": "stderr",
     "output_type": "stream",
     "text": [
      "\r",
      "EVALUATING MODEL...:  60%|██████    | 6/10 [00:29<00:20,  5.11s/it]"
     ]
    },
    {
     "name": "stderr",
     "output_type": "stream",
     "text": [
      "\r",
      "EVALUATING MODEL...:  70%|███████   | 7/10 [00:33<00:15,  5.03s/it]"
     ]
    },
    {
     "name": "stderr",
     "output_type": "stream",
     "text": [
      "\r",
      "EVALUATING MODEL...:  80%|████████  | 8/10 [00:37<00:09,  4.71s/it]"
     ]
    },
    {
     "name": "stderr",
     "output_type": "stream",
     "text": [
      "\r",
      "EVALUATING MODEL...:  90%|█████████ | 9/10 [00:42<00:04,  4.76s/it]"
     ]
    },
    {
     "name": "stderr",
     "output_type": "stream",
     "text": [
      "\r",
      "EVALUATING MODEL...: 100%|██████████| 10/10 [00:46<00:00,  4.51s/it]"
     ]
    },
    {
     "name": "stderr",
     "output_type": "stream",
     "text": [
      "\r",
      "EVALUATING MODEL...: 100%|██████████| 10/10 [00:46<00:00,  4.67s/it]"
     ]
    },
    {
     "name": "stderr",
     "output_type": "stream",
     "text": [
      "\n"
     ]
    },
    {
     "name": "stdout",
     "output_type": "stream",
     "text": [
      "epoch: 2\n",
      "train_loss: 0.603, train_acc: 0.676\n",
      "validation_loss: 0.609, validation_acc: 0.660\n"
     ]
    },
    {
     "name": "stderr",
     "output_type": "stream",
     "text": [
      "\r",
      "TRAINING MODEL...:   0%|          | 0/40 [00:00<?, ?it/s]"
     ]
    },
    {
     "name": "stderr",
     "output_type": "stream",
     "text": [
      "\r",
      "TRAINING MODEL...:   2%|▎         | 1/40 [00:05<03:49,  5.88s/it]"
     ]
    },
    {
     "name": "stderr",
     "output_type": "stream",
     "text": [
      "\r",
      "TRAINING MODEL...:   5%|▌         | 2/40 [00:10<03:09,  4.99s/it]"
     ]
    },
    {
     "name": "stderr",
     "output_type": "stream",
     "text": [
      "\r",
      "TRAINING MODEL...:   8%|▊         | 3/40 [00:14<02:57,  4.79s/it]"
     ]
    },
    {
     "name": "stderr",
     "output_type": "stream",
     "text": [
      "\r",
      "TRAINING MODEL...:  10%|█         | 4/40 [00:19<02:57,  4.94s/it]"
     ]
    },
    {
     "name": "stderr",
     "output_type": "stream",
     "text": [
      "\r",
      "TRAINING MODEL...:  12%|█▎        | 5/40 [00:24<02:47,  4.79s/it]"
     ]
    },
    {
     "name": "stderr",
     "output_type": "stream",
     "text": [
      "\r",
      "TRAINING MODEL...:  15%|█▌        | 6/40 [00:28<02:34,  4.56s/it]"
     ]
    },
    {
     "name": "stderr",
     "output_type": "stream",
     "text": [
      "\r",
      "TRAINING MODEL...:  18%|█▊        | 7/40 [00:32<02:28,  4.49s/it]"
     ]
    },
    {
     "name": "stderr",
     "output_type": "stream",
     "text": [
      "\r",
      "TRAINING MODEL...:  20%|██        | 8/40 [00:37<02:27,  4.60s/it]"
     ]
    },
    {
     "name": "stderr",
     "output_type": "stream",
     "text": [
      "\r",
      "TRAINING MODEL...:  22%|██▎       | 9/40 [00:42<02:22,  4.58s/it]"
     ]
    },
    {
     "name": "stderr",
     "output_type": "stream",
     "text": [
      "\r",
      "TRAINING MODEL...:  25%|██▌       | 10/40 [00:46<02:13,  4.45s/it]"
     ]
    },
    {
     "name": "stderr",
     "output_type": "stream",
     "text": [
      "\r",
      "TRAINING MODEL...:  28%|██▊       | 11/40 [00:50<02:05,  4.32s/it]"
     ]
    },
    {
     "name": "stderr",
     "output_type": "stream",
     "text": [
      "\r",
      "TRAINING MODEL...:  30%|███       | 12/40 [00:54<02:00,  4.29s/it]"
     ]
    },
    {
     "name": "stderr",
     "output_type": "stream",
     "text": [
      "\r",
      "TRAINING MODEL...:  32%|███▎      | 13/40 [00:59<02:01,  4.49s/it]"
     ]
    },
    {
     "name": "stderr",
     "output_type": "stream",
     "text": [
      "\r",
      "TRAINING MODEL...:  35%|███▌      | 14/40 [01:04<01:57,  4.54s/it]"
     ]
    },
    {
     "name": "stderr",
     "output_type": "stream",
     "text": [
      "\r",
      "TRAINING MODEL...:  38%|███▊      | 15/40 [01:10<02:05,  5.01s/it]"
     ]
    },
    {
     "name": "stderr",
     "output_type": "stream",
     "text": [
      "\r",
      "TRAINING MODEL...:  40%|████      | 16/40 [01:15<01:57,  4.91s/it]"
     ]
    },
    {
     "name": "stderr",
     "output_type": "stream",
     "text": [
      "\r",
      "TRAINING MODEL...:  42%|████▎     | 17/40 [01:19<01:49,  4.75s/it]"
     ]
    },
    {
     "name": "stderr",
     "output_type": "stream",
     "text": [
      "\r",
      "TRAINING MODEL...:  45%|████▌     | 18/40 [01:23<01:39,  4.54s/it]"
     ]
    },
    {
     "name": "stderr",
     "output_type": "stream",
     "text": [
      "\r",
      "TRAINING MODEL...:  48%|████▊     | 19/40 [01:27<01:32,  4.39s/it]"
     ]
    },
    {
     "name": "stderr",
     "output_type": "stream",
     "text": [
      "\r",
      "TRAINING MODEL...:  50%|█████     | 20/40 [01:31<01:25,  4.29s/it]"
     ]
    },
    {
     "name": "stderr",
     "output_type": "stream",
     "text": [
      "\r",
      "TRAINING MODEL...:  52%|█████▎    | 21/40 [01:35<01:21,  4.31s/it]"
     ]
    },
    {
     "name": "stderr",
     "output_type": "stream",
     "text": [
      "\r",
      "TRAINING MODEL...:  55%|█████▌    | 22/40 [01:40<01:20,  4.45s/it]"
     ]
    },
    {
     "name": "stderr",
     "output_type": "stream",
     "text": [
      "\r",
      "TRAINING MODEL...:  57%|█████▊    | 23/40 [01:44<01:14,  4.38s/it]"
     ]
    },
    {
     "name": "stderr",
     "output_type": "stream",
     "text": [
      "\r",
      "TRAINING MODEL...:  60%|██████    | 24/40 [01:49<01:09,  4.35s/it]"
     ]
    },
    {
     "name": "stderr",
     "output_type": "stream",
     "text": [
      "\r",
      "TRAINING MODEL...:  62%|██████▎   | 25/40 [01:53<01:04,  4.32s/it]"
     ]
    },
    {
     "name": "stderr",
     "output_type": "stream",
     "text": [
      "\r",
      "TRAINING MODEL...:  65%|██████▌   | 26/40 [01:58<01:02,  4.46s/it]"
     ]
    },
    {
     "name": "stderr",
     "output_type": "stream",
     "text": [
      "\r",
      "TRAINING MODEL...:  68%|██████▊   | 27/40 [02:03<00:59,  4.59s/it]"
     ]
    },
    {
     "name": "stderr",
     "output_type": "stream",
     "text": [
      "\r",
      "TRAINING MODEL...:  70%|███████   | 28/40 [02:07<00:54,  4.56s/it]"
     ]
    },
    {
     "name": "stderr",
     "output_type": "stream",
     "text": [
      "\r",
      "TRAINING MODEL...:  72%|███████▎  | 29/40 [02:11<00:48,  4.44s/it]"
     ]
    },
    {
     "name": "stderr",
     "output_type": "stream",
     "text": [
      "\r",
      "TRAINING MODEL...:  75%|███████▌  | 30/40 [02:16<00:45,  4.57s/it]"
     ]
    },
    {
     "name": "stderr",
     "output_type": "stream",
     "text": [
      "\r",
      "TRAINING MODEL...:  78%|███████▊  | 31/40 [02:21<00:41,  4.63s/it]"
     ]
    },
    {
     "name": "stderr",
     "output_type": "stream",
     "text": [
      "\r",
      "TRAINING MODEL...:  80%|████████  | 32/40 [02:25<00:36,  4.60s/it]"
     ]
    },
    {
     "name": "stderr",
     "output_type": "stream",
     "text": [
      "\r",
      "TRAINING MODEL...:  82%|████████▎ | 33/40 [02:30<00:30,  4.43s/it]"
     ]
    },
    {
     "name": "stderr",
     "output_type": "stream",
     "text": [
      "\r",
      "TRAINING MODEL...:  85%|████████▌ | 34/40 [02:35<00:27,  4.64s/it]"
     ]
    },
    {
     "name": "stderr",
     "output_type": "stream",
     "text": [
      "\r",
      "TRAINING MODEL...:  88%|████████▊ | 35/40 [02:39<00:23,  4.69s/it]"
     ]
    },
    {
     "name": "stderr",
     "output_type": "stream",
     "text": [
      "\r",
      "TRAINING MODEL...:  90%|█████████ | 36/40 [02:44<00:18,  4.51s/it]"
     ]
    },
    {
     "name": "stderr",
     "output_type": "stream",
     "text": [
      "\r",
      "TRAINING MODEL...:  92%|█████████▎| 37/40 [02:48<00:13,  4.43s/it]"
     ]
    },
    {
     "name": "stderr",
     "output_type": "stream",
     "text": [
      "\r",
      "TRAINING MODEL...:  95%|█████████▌| 38/40 [02:52<00:08,  4.30s/it]"
     ]
    },
    {
     "name": "stderr",
     "output_type": "stream",
     "text": [
      "\r",
      "TRAINING MODEL...:  98%|█████████▊| 39/40 [02:56<00:04,  4.31s/it]"
     ]
    },
    {
     "name": "stderr",
     "output_type": "stream",
     "text": [
      "\r",
      "TRAINING MODEL...: 100%|██████████| 40/40 [02:56<00:00,  3.12s/it]"
     ]
    },
    {
     "name": "stderr",
     "output_type": "stream",
     "text": [
      "\r",
      "TRAINING MODEL...: 100%|██████████| 40/40 [02:56<00:00,  4.42s/it]"
     ]
    },
    {
     "name": "stderr",
     "output_type": "stream",
     "text": [
      "\n"
     ]
    },
    {
     "name": "stderr",
     "output_type": "stream",
     "text": [
      "\r",
      "EVALUATING MODEL...:   0%|          | 0/10 [00:00<?, ?it/s]"
     ]
    },
    {
     "name": "stderr",
     "output_type": "stream",
     "text": [
      "\r",
      "EVALUATING MODEL...:  10%|█         | 1/10 [00:04<00:42,  4.76s/it]"
     ]
    },
    {
     "name": "stderr",
     "output_type": "stream",
     "text": [
      "\r",
      "EVALUATING MODEL...:  20%|██        | 2/10 [00:08<00:35,  4.43s/it]"
     ]
    },
    {
     "name": "stderr",
     "output_type": "stream",
     "text": [
      "\r",
      "EVALUATING MODEL...:  30%|███       | 3/10 [00:13<00:30,  4.41s/it]"
     ]
    },
    {
     "name": "stderr",
     "output_type": "stream",
     "text": [
      "\r",
      "EVALUATING MODEL...:  40%|████      | 4/10 [00:17<00:25,  4.29s/it]"
     ]
    },
    {
     "name": "stderr",
     "output_type": "stream",
     "text": [
      "\r",
      "EVALUATING MODEL...:  50%|█████     | 5/10 [00:23<00:24,  4.99s/it]"
     ]
    },
    {
     "name": "stderr",
     "output_type": "stream",
     "text": [
      "\r",
      "EVALUATING MODEL...:  60%|██████    | 6/10 [00:28<00:19,  5.00s/it]"
     ]
    },
    {
     "name": "stderr",
     "output_type": "stream",
     "text": [
      "\r",
      "EVALUATING MODEL...:  70%|███████   | 7/10 [00:33<00:15,  5.04s/it]"
     ]
    },
    {
     "name": "stderr",
     "output_type": "stream",
     "text": [
      "\r",
      "EVALUATING MODEL...:  80%|████████  | 8/10 [00:38<00:09,  4.79s/it]"
     ]
    },
    {
     "name": "stderr",
     "output_type": "stream",
     "text": [
      "\r",
      "EVALUATING MODEL...:  90%|█████████ | 9/10 [00:42<00:04,  4.81s/it]"
     ]
    },
    {
     "name": "stderr",
     "output_type": "stream",
     "text": [
      "\r",
      "EVALUATING MODEL...: 100%|██████████| 10/10 [00:46<00:00,  4.48s/it]"
     ]
    },
    {
     "name": "stderr",
     "output_type": "stream",
     "text": [
      "\r",
      "EVALUATING MODEL...: 100%|██████████| 10/10 [00:46<00:00,  4.67s/it]"
     ]
    },
    {
     "name": "stderr",
     "output_type": "stream",
     "text": [
      "\n"
     ]
    },
    {
     "name": "stdout",
     "output_type": "stream",
     "text": [
      "epoch: 3\n",
      "train_loss: 0.589, train_acc: 0.685\n",
      "validation_loss: 0.582, validation_acc: 0.682\n"
     ]
    },
    {
     "name": "stderr",
     "output_type": "stream",
     "text": [
      "\r",
      "TRAINING MODEL...:   0%|          | 0/40 [00:00<?, ?it/s]"
     ]
    },
    {
     "name": "stderr",
     "output_type": "stream",
     "text": [
      "\r",
      "TRAINING MODEL...:   2%|▎         | 1/40 [00:04<02:51,  4.40s/it]"
     ]
    },
    {
     "name": "stderr",
     "output_type": "stream",
     "text": [
      "\r",
      "TRAINING MODEL...:   5%|▌         | 2/40 [00:08<02:37,  4.15s/it]"
     ]
    },
    {
     "name": "stderr",
     "output_type": "stream",
     "text": [
      "\r",
      "TRAINING MODEL...:   8%|▊         | 3/40 [00:12<02:33,  4.15s/it]"
     ]
    },
    {
     "name": "stderr",
     "output_type": "stream",
     "text": [
      "\r",
      "TRAINING MODEL...:  10%|█         | 4/40 [00:16<02:28,  4.14s/it]"
     ]
    },
    {
     "name": "stderr",
     "output_type": "stream",
     "text": [
      "\r",
      "TRAINING MODEL...:  12%|█▎        | 5/40 [00:21<02:34,  4.41s/it]"
     ]
    },
    {
     "name": "stderr",
     "output_type": "stream",
     "text": [
      "\r",
      "TRAINING MODEL...:  15%|█▌        | 6/40 [00:26<02:32,  4.49s/it]"
     ]
    },
    {
     "name": "stderr",
     "output_type": "stream",
     "text": [
      "\r",
      "TRAINING MODEL...:  18%|█▊        | 7/40 [00:30<02:22,  4.32s/it]"
     ]
    },
    {
     "name": "stderr",
     "output_type": "stream",
     "text": [
      "\r",
      "TRAINING MODEL...:  20%|██        | 8/40 [00:34<02:13,  4.18s/it]"
     ]
    },
    {
     "name": "stderr",
     "output_type": "stream",
     "text": [
      "\r",
      "TRAINING MODEL...:  22%|██▎       | 9/40 [00:38<02:16,  4.41s/it]"
     ]
    },
    {
     "name": "stderr",
     "output_type": "stream",
     "text": [
      "\r",
      "TRAINING MODEL...:  25%|██▌       | 10/40 [00:43<02:10,  4.35s/it]"
     ]
    },
    {
     "name": "stderr",
     "output_type": "stream",
     "text": [
      "\r",
      "TRAINING MODEL...:  28%|██▊       | 11/40 [00:47<02:07,  4.41s/it]"
     ]
    },
    {
     "name": "stderr",
     "output_type": "stream",
     "text": [
      "\r",
      "TRAINING MODEL...:  30%|███       | 12/40 [00:52<02:03,  4.43s/it]"
     ]
    },
    {
     "name": "stderr",
     "output_type": "stream",
     "text": [
      "\r",
      "TRAINING MODEL...:  32%|███▎      | 13/40 [00:57<02:06,  4.69s/it]"
     ]
    },
    {
     "name": "stderr",
     "output_type": "stream",
     "text": [
      "\r",
      "TRAINING MODEL...:  35%|███▌      | 14/40 [01:02<02:08,  4.93s/it]"
     ]
    },
    {
     "name": "stderr",
     "output_type": "stream",
     "text": [
      "\r",
      "TRAINING MODEL...:  38%|███▊      | 15/40 [01:07<02:00,  4.82s/it]"
     ]
    },
    {
     "name": "stderr",
     "output_type": "stream",
     "text": [
      "\r",
      "TRAINING MODEL...:  40%|████      | 16/40 [01:11<01:50,  4.60s/it]"
     ]
    },
    {
     "name": "stderr",
     "output_type": "stream",
     "text": [
      "\r",
      "TRAINING MODEL...:  42%|████▎     | 17/40 [01:16<01:44,  4.56s/it]"
     ]
    },
    {
     "name": "stderr",
     "output_type": "stream",
     "text": [
      "\r",
      "TRAINING MODEL...:  45%|████▌     | 18/40 [01:20<01:38,  4.48s/it]"
     ]
    },
    {
     "name": "stderr",
     "output_type": "stream",
     "text": [
      "\r",
      "TRAINING MODEL...:  48%|████▊     | 19/40 [01:24<01:31,  4.33s/it]"
     ]
    },
    {
     "name": "stderr",
     "output_type": "stream",
     "text": [
      "\r",
      "TRAINING MODEL...:  50%|█████     | 20/40 [01:28<01:25,  4.25s/it]"
     ]
    },
    {
     "name": "stderr",
     "output_type": "stream",
     "text": [
      "\r",
      "TRAINING MODEL...:  52%|█████▎    | 21/40 [01:34<01:32,  4.85s/it]"
     ]
    },
    {
     "name": "stderr",
     "output_type": "stream",
     "text": [
      "\r",
      "TRAINING MODEL...:  55%|█████▌    | 22/40 [01:38<01:23,  4.66s/it]"
     ]
    },
    {
     "name": "stderr",
     "output_type": "stream",
     "text": [
      "\r",
      "TRAINING MODEL...:  57%|█████▊    | 23/40 [01:43<01:18,  4.62s/it]"
     ]
    },
    {
     "name": "stderr",
     "output_type": "stream",
     "text": [
      "\r",
      "TRAINING MODEL...:  60%|██████    | 24/40 [01:47<01:10,  4.43s/it]"
     ]
    },
    {
     "name": "stderr",
     "output_type": "stream",
     "text": [
      "\r",
      "TRAINING MODEL...:  62%|██████▎   | 25/40 [01:51<01:04,  4.33s/it]"
     ]
    },
    {
     "name": "stderr",
     "output_type": "stream",
     "text": [
      "\r",
      "TRAINING MODEL...:  65%|██████▌   | 26/40 [01:56<01:01,  4.42s/it]"
     ]
    },
    {
     "name": "stderr",
     "output_type": "stream",
     "text": [
      "\r",
      "TRAINING MODEL...:  68%|██████▊   | 27/40 [02:00<00:56,  4.33s/it]"
     ]
    },
    {
     "name": "stderr",
     "output_type": "stream",
     "text": [
      "\r",
      "TRAINING MODEL...:  70%|███████   | 28/40 [02:05<00:53,  4.46s/it]"
     ]
    },
    {
     "name": "stderr",
     "output_type": "stream",
     "text": [
      "\r",
      "TRAINING MODEL...:  72%|███████▎  | 29/40 [02:09<00:50,  4.60s/it]"
     ]
    },
    {
     "name": "stderr",
     "output_type": "stream",
     "text": [
      "\r",
      "TRAINING MODEL...:  75%|███████▌  | 30/40 [02:13<00:43,  4.38s/it]"
     ]
    },
    {
     "name": "stderr",
     "output_type": "stream",
     "text": [
      "\r",
      "TRAINING MODEL...:  78%|███████▊  | 31/40 [02:18<00:40,  4.46s/it]"
     ]
    },
    {
     "name": "stderr",
     "output_type": "stream",
     "text": [
      "\r",
      "TRAINING MODEL...:  80%|████████  | 32/40 [02:22<00:35,  4.47s/it]"
     ]
    },
    {
     "name": "stderr",
     "output_type": "stream",
     "text": [
      "\r",
      "TRAINING MODEL...:  82%|████████▎ | 33/40 [02:27<00:31,  4.43s/it]"
     ]
    },
    {
     "name": "stderr",
     "output_type": "stream",
     "text": [
      "\r",
      "TRAINING MODEL...:  85%|████████▌ | 34/40 [02:31<00:26,  4.36s/it]"
     ]
    },
    {
     "name": "stderr",
     "output_type": "stream",
     "text": [
      "\r",
      "TRAINING MODEL...:  88%|████████▊ | 35/40 [02:35<00:21,  4.38s/it]"
     ]
    },
    {
     "name": "stderr",
     "output_type": "stream",
     "text": [
      "\r",
      "TRAINING MODEL...:  90%|█████████ | 36/40 [02:41<00:19,  4.86s/it]"
     ]
    },
    {
     "name": "stderr",
     "output_type": "stream",
     "text": [
      "\r",
      "TRAINING MODEL...:  92%|█████████▎| 37/40 [02:47<00:14,  5.00s/it]"
     ]
    },
    {
     "name": "stderr",
     "output_type": "stream",
     "text": [
      "\r",
      "TRAINING MODEL...:  95%|█████████▌| 38/40 [02:51<00:09,  4.76s/it]"
     ]
    },
    {
     "name": "stderr",
     "output_type": "stream",
     "text": [
      "\r",
      "TRAINING MODEL...:  98%|█████████▊| 39/40 [02:55<00:04,  4.54s/it]"
     ]
    },
    {
     "name": "stderr",
     "output_type": "stream",
     "text": [
      "\r",
      "TRAINING MODEL...: 100%|██████████| 40/40 [02:55<00:00,  3.28s/it]"
     ]
    },
    {
     "name": "stderr",
     "output_type": "stream",
     "text": [
      "\r",
      "TRAINING MODEL...: 100%|██████████| 40/40 [02:55<00:00,  4.39s/it]"
     ]
    },
    {
     "name": "stderr",
     "output_type": "stream",
     "text": [
      "\n"
     ]
    },
    {
     "name": "stderr",
     "output_type": "stream",
     "text": [
      "\r",
      "EVALUATING MODEL...:   0%|          | 0/10 [00:00<?, ?it/s]"
     ]
    },
    {
     "name": "stderr",
     "output_type": "stream",
     "text": [
      "\r",
      "EVALUATING MODEL...:  10%|█         | 1/10 [00:05<00:46,  5.14s/it]"
     ]
    },
    {
     "name": "stderr",
     "output_type": "stream",
     "text": [
      "\r",
      "EVALUATING MODEL...:  20%|██        | 2/10 [00:09<00:35,  4.45s/it]"
     ]
    },
    {
     "name": "stderr",
     "output_type": "stream",
     "text": [
      "\r",
      "EVALUATING MODEL...:  30%|███       | 3/10 [00:13<00:29,  4.26s/it]"
     ]
    },
    {
     "name": "stderr",
     "output_type": "stream",
     "text": [
      "\r",
      "EVALUATING MODEL...:  40%|████      | 4/10 [00:17<00:25,  4.21s/it]"
     ]
    },
    {
     "name": "stderr",
     "output_type": "stream",
     "text": [
      "\r",
      "EVALUATING MODEL...:  50%|█████     | 5/10 [00:23<00:25,  5.12s/it]"
     ]
    },
    {
     "name": "stderr",
     "output_type": "stream",
     "text": [
      "\r",
      "EVALUATING MODEL...:  60%|██████    | 6/10 [00:29<00:20,  5.08s/it]"
     ]
    },
    {
     "name": "stderr",
     "output_type": "stream",
     "text": [
      "\r",
      "EVALUATING MODEL...:  70%|███████   | 7/10 [00:33<00:15,  5.00s/it]"
     ]
    },
    {
     "name": "stderr",
     "output_type": "stream",
     "text": [
      "\r",
      "EVALUATING MODEL...:  80%|████████  | 8/10 [00:37<00:09,  4.68s/it]"
     ]
    },
    {
     "name": "stderr",
     "output_type": "stream",
     "text": [
      "\r",
      "EVALUATING MODEL...:  90%|█████████ | 9/10 [00:43<00:04,  4.89s/it]"
     ]
    },
    {
     "name": "stderr",
     "output_type": "stream",
     "text": [
      "\r",
      "EVALUATING MODEL...: 100%|██████████| 10/10 [00:46<00:00,  4.51s/it]"
     ]
    },
    {
     "name": "stderr",
     "output_type": "stream",
     "text": [
      "\r",
      "EVALUATING MODEL...: 100%|██████████| 10/10 [00:46<00:00,  4.68s/it]"
     ]
    },
    {
     "name": "stderr",
     "output_type": "stream",
     "text": [
      "\n"
     ]
    },
    {
     "name": "stdout",
     "output_type": "stream",
     "text": [
      "epoch: 4\n",
      "train_loss: 0.569, train_acc: 0.702\n",
      "validation_loss: 0.631, validation_acc: 0.644\n"
     ]
    },
    {
     "name": "stderr",
     "output_type": "stream",
     "text": [
      "\r",
      "TRAINING MODEL...:   0%|          | 0/40 [00:00<?, ?it/s]"
     ]
    },
    {
     "name": "stderr",
     "output_type": "stream",
     "text": [
      "\r",
      "TRAINING MODEL...:   2%|▎         | 1/40 [00:03<02:31,  3.89s/it]"
     ]
    },
    {
     "name": "stderr",
     "output_type": "stream",
     "text": [
      "\r",
      "TRAINING MODEL...:   5%|▌         | 2/40 [00:08<02:41,  4.24s/it]"
     ]
    },
    {
     "name": "stderr",
     "output_type": "stream",
     "text": [
      "\r",
      "TRAINING MODEL...:   8%|▊         | 3/40 [00:13<02:51,  4.62s/it]"
     ]
    },
    {
     "name": "stderr",
     "output_type": "stream",
     "text": [
      "\r",
      "TRAINING MODEL...:  10%|█         | 4/40 [00:18<02:47,  4.64s/it]"
     ]
    },
    {
     "name": "stderr",
     "output_type": "stream",
     "text": [
      "\r",
      "TRAINING MODEL...:  12%|█▎        | 5/40 [00:22<02:38,  4.52s/it]"
     ]
    },
    {
     "name": "stderr",
     "output_type": "stream",
     "text": [
      "\r",
      "TRAINING MODEL...:  15%|█▌        | 6/40 [00:26<02:29,  4.40s/it]"
     ]
    },
    {
     "name": "stderr",
     "output_type": "stream",
     "text": [
      "\r",
      "TRAINING MODEL...:  18%|█▊        | 7/40 [00:32<02:45,  5.03s/it]"
     ]
    },
    {
     "name": "stderr",
     "output_type": "stream",
     "text": [
      "\r",
      "TRAINING MODEL...:  20%|██        | 8/40 [00:37<02:35,  4.85s/it]"
     ]
    },
    {
     "name": "stderr",
     "output_type": "stream",
     "text": [
      "\r",
      "TRAINING MODEL...:  22%|██▎       | 9/40 [00:41<02:24,  4.67s/it]"
     ]
    },
    {
     "name": "stderr",
     "output_type": "stream",
     "text": [
      "\r",
      "TRAINING MODEL...:  25%|██▌       | 10/40 [00:45<02:12,  4.42s/it]"
     ]
    },
    {
     "name": "stderr",
     "output_type": "stream",
     "text": [
      "\r",
      "TRAINING MODEL...:  28%|██▊       | 11/40 [00:49<02:08,  4.41s/it]"
     ]
    },
    {
     "name": "stderr",
     "output_type": "stream",
     "text": [
      "\r",
      "TRAINING MODEL...:  30%|███       | 12/40 [00:54<02:03,  4.42s/it]"
     ]
    },
    {
     "name": "stderr",
     "output_type": "stream",
     "text": [
      "\r",
      "TRAINING MODEL...:  32%|███▎      | 13/40 [00:58<01:59,  4.41s/it]"
     ]
    },
    {
     "name": "stderr",
     "output_type": "stream",
     "text": [
      "\r",
      "TRAINING MODEL...:  35%|███▌      | 14/40 [01:03<01:56,  4.46s/it]"
     ]
    },
    {
     "name": "stderr",
     "output_type": "stream",
     "text": [
      "\r",
      "TRAINING MODEL...:  38%|███▊      | 15/40 [01:07<01:50,  4.42s/it]"
     ]
    },
    {
     "name": "stderr",
     "output_type": "stream",
     "text": [
      "\r",
      "TRAINING MODEL...:  40%|████      | 16/40 [01:13<01:53,  4.73s/it]"
     ]
    },
    {
     "name": "stderr",
     "output_type": "stream",
     "text": [
      "\r",
      "TRAINING MODEL...:  42%|████▎     | 17/40 [01:17<01:45,  4.59s/it]"
     ]
    },
    {
     "name": "stderr",
     "output_type": "stream",
     "text": [
      "\r",
      "TRAINING MODEL...:  45%|████▌     | 18/40 [01:21<01:37,  4.45s/it]"
     ]
    },
    {
     "name": "stderr",
     "output_type": "stream",
     "text": [
      "\r",
      "TRAINING MODEL...:  48%|████▊     | 19/40 [01:25<01:32,  4.38s/it]"
     ]
    },
    {
     "name": "stderr",
     "output_type": "stream",
     "text": [
      "\r",
      "TRAINING MODEL...:  50%|█████     | 20/40 [01:29<01:23,  4.17s/it]"
     ]
    },
    {
     "name": "stderr",
     "output_type": "stream",
     "text": [
      "\r",
      "TRAINING MODEL...:  52%|█████▎    | 21/40 [01:34<01:22,  4.37s/it]"
     ]
    },
    {
     "name": "stderr",
     "output_type": "stream",
     "text": [
      "\r",
      "TRAINING MODEL...:  55%|█████▌    | 22/40 [01:39<01:26,  4.78s/it]"
     ]
    },
    {
     "name": "stderr",
     "output_type": "stream",
     "text": [
      "\r",
      "TRAINING MODEL...:  57%|█████▊    | 23/40 [01:44<01:22,  4.82s/it]"
     ]
    },
    {
     "name": "stderr",
     "output_type": "stream",
     "text": [
      "\r",
      "TRAINING MODEL...:  60%|██████    | 24/40 [01:48<01:13,  4.59s/it]"
     ]
    },
    {
     "name": "stderr",
     "output_type": "stream",
     "text": [
      "\r",
      "TRAINING MODEL...:  62%|██████▎   | 25/40 [01:53<01:06,  4.44s/it]"
     ]
    },
    {
     "name": "stderr",
     "output_type": "stream",
     "text": [
      "\r",
      "TRAINING MODEL...:  65%|██████▌   | 26/40 [01:56<00:59,  4.28s/it]"
     ]
    },
    {
     "name": "stderr",
     "output_type": "stream",
     "text": [
      "\r",
      "TRAINING MODEL...:  68%|██████▊   | 27/40 [02:00<00:54,  4.21s/it]"
     ]
    },
    {
     "name": "stderr",
     "output_type": "stream",
     "text": [
      "\r",
      "TRAINING MODEL...:  70%|███████   | 28/40 [02:05<00:53,  4.43s/it]"
     ]
    },
    {
     "name": "stderr",
     "output_type": "stream",
     "text": [
      "\r",
      "TRAINING MODEL...:  72%|███████▎  | 29/40 [02:10<00:48,  4.40s/it]"
     ]
    },
    {
     "name": "stderr",
     "output_type": "stream",
     "text": [
      "\r",
      "TRAINING MODEL...:  75%|███████▌  | 30/40 [02:14<00:42,  4.29s/it]"
     ]
    },
    {
     "name": "stderr",
     "output_type": "stream",
     "text": [
      "\r",
      "TRAINING MODEL...:  78%|███████▊  | 31/40 [02:18<00:37,  4.19s/it]"
     ]
    },
    {
     "name": "stderr",
     "output_type": "stream",
     "text": [
      "\r",
      "TRAINING MODEL...:  80%|████████  | 32/40 [02:22<00:33,  4.14s/it]"
     ]
    },
    {
     "name": "stderr",
     "output_type": "stream",
     "text": [
      "\r",
      "TRAINING MODEL...:  82%|████████▎ | 33/40 [02:27<00:30,  4.35s/it]"
     ]
    },
    {
     "name": "stderr",
     "output_type": "stream",
     "text": [
      "\r",
      "TRAINING MODEL...:  85%|████████▌ | 34/40 [02:31<00:26,  4.39s/it]"
     ]
    },
    {
     "name": "stderr",
     "output_type": "stream",
     "text": [
      "\r",
      "TRAINING MODEL...:  88%|████████▊ | 35/40 [02:36<00:22,  4.41s/it]"
     ]
    },
    {
     "name": "stderr",
     "output_type": "stream",
     "text": [
      "\r",
      "TRAINING MODEL...:  90%|█████████ | 36/40 [02:40<00:17,  4.30s/it]"
     ]
    },
    {
     "name": "stderr",
     "output_type": "stream",
     "text": [
      "\r",
      "TRAINING MODEL...:  92%|█████████▎| 37/40 [02:44<00:13,  4.34s/it]"
     ]
    },
    {
     "name": "stderr",
     "output_type": "stream",
     "text": [
      "\r",
      "TRAINING MODEL...:  95%|█████████▌| 38/40 [02:49<00:08,  4.41s/it]"
     ]
    },
    {
     "name": "stderr",
     "output_type": "stream",
     "text": [
      "\r",
      "TRAINING MODEL...:  98%|█████████▊| 39/40 [02:53<00:04,  4.28s/it]"
     ]
    },
    {
     "name": "stderr",
     "output_type": "stream",
     "text": [
      "\r",
      "TRAINING MODEL...: 100%|██████████| 40/40 [02:53<00:00,  3.11s/it]"
     ]
    },
    {
     "name": "stderr",
     "output_type": "stream",
     "text": [
      "\r",
      "TRAINING MODEL...: 100%|██████████| 40/40 [02:53<00:00,  4.34s/it]"
     ]
    },
    {
     "name": "stderr",
     "output_type": "stream",
     "text": [
      "\n"
     ]
    },
    {
     "name": "stderr",
     "output_type": "stream",
     "text": [
      "\r",
      "EVALUATING MODEL...:   0%|          | 0/10 [00:00<?, ?it/s]"
     ]
    },
    {
     "name": "stderr",
     "output_type": "stream",
     "text": [
      "\r",
      "EVALUATING MODEL...:  10%|█         | 1/10 [00:04<00:43,  4.83s/it]"
     ]
    },
    {
     "name": "stderr",
     "output_type": "stream",
     "text": [
      "\r",
      "EVALUATING MODEL...:  20%|██        | 2/10 [00:09<00:36,  4.53s/it]"
     ]
    },
    {
     "name": "stderr",
     "output_type": "stream",
     "text": [
      "\r",
      "EVALUATING MODEL...:  30%|███       | 3/10 [00:13<00:30,  4.32s/it]"
     ]
    },
    {
     "name": "stderr",
     "output_type": "stream",
     "text": [
      "\r",
      "EVALUATING MODEL...:  40%|████      | 4/10 [00:17<00:25,  4.28s/it]"
     ]
    },
    {
     "name": "stderr",
     "output_type": "stream",
     "text": [
      "\r",
      "EVALUATING MODEL...:  50%|█████     | 5/10 [00:23<00:25,  5.04s/it]"
     ]
    },
    {
     "name": "stderr",
     "output_type": "stream",
     "text": [
      "\r",
      "EVALUATING MODEL...:  60%|██████    | 6/10 [00:29<00:21,  5.27s/it]"
     ]
    },
    {
     "name": "stderr",
     "output_type": "stream",
     "text": [
      "\r",
      "EVALUATING MODEL...:  70%|███████   | 7/10 [00:34<00:15,  5.13s/it]"
     ]
    },
    {
     "name": "stderr",
     "output_type": "stream",
     "text": [
      "\r",
      "EVALUATING MODEL...:  80%|████████  | 8/10 [00:38<00:09,  4.77s/it]"
     ]
    },
    {
     "name": "stderr",
     "output_type": "stream",
     "text": [
      "\r",
      "EVALUATING MODEL...:  90%|█████████ | 9/10 [00:43<00:04,  4.80s/it]"
     ]
    },
    {
     "name": "stderr",
     "output_type": "stream",
     "text": [
      "\r",
      "EVALUATING MODEL...: 100%|██████████| 10/10 [00:47<00:00,  4.53s/it]"
     ]
    },
    {
     "name": "stderr",
     "output_type": "stream",
     "text": [
      "\r",
      "EVALUATING MODEL...: 100%|██████████| 10/10 [00:47<00:00,  4.72s/it]"
     ]
    },
    {
     "name": "stderr",
     "output_type": "stream",
     "text": [
      "\n"
     ]
    },
    {
     "name": "stdout",
     "output_type": "stream",
     "text": [
      "epoch: 5\n",
      "train_loss: 0.566, train_acc: 0.700\n",
      "validation_loss: 0.603, validation_acc: 0.674\n"
     ]
    },
    {
     "name": "stderr",
     "output_type": "stream",
     "text": [
      "\r",
      "TRAINING MODEL...:   0%|          | 0/40 [00:00<?, ?it/s]"
     ]
    },
    {
     "name": "stderr",
     "output_type": "stream",
     "text": [
      "\r",
      "TRAINING MODEL...:   2%|▎         | 1/40 [00:04<02:43,  4.20s/it]"
     ]
    },
    {
     "name": "stderr",
     "output_type": "stream",
     "text": [
      "\r",
      "TRAINING MODEL...:   5%|▌         | 2/40 [00:08<02:34,  4.06s/it]"
     ]
    },
    {
     "name": "stderr",
     "output_type": "stream",
     "text": [
      "\r",
      "TRAINING MODEL...:   8%|▊         | 3/40 [00:12<02:28,  4.00s/it]"
     ]
    },
    {
     "name": "stderr",
     "output_type": "stream",
     "text": [
      "\r",
      "TRAINING MODEL...:  10%|█         | 4/40 [00:16<02:26,  4.06s/it]"
     ]
    },
    {
     "name": "stderr",
     "output_type": "stream",
     "text": [
      "\r",
      "TRAINING MODEL...:  12%|█▎        | 5/40 [00:21<02:33,  4.37s/it]"
     ]
    },
    {
     "name": "stderr",
     "output_type": "stream",
     "text": [
      "\r",
      "TRAINING MODEL...:  15%|█▌        | 6/40 [00:25<02:31,  4.45s/it]"
     ]
    },
    {
     "name": "stderr",
     "output_type": "stream",
     "text": [
      "\r",
      "TRAINING MODEL...:  18%|█▊        | 7/40 [00:29<02:19,  4.22s/it]"
     ]
    },
    {
     "name": "stderr",
     "output_type": "stream",
     "text": [
      "\r",
      "TRAINING MODEL...:  20%|██        | 8/40 [00:34<02:21,  4.41s/it]"
     ]
    },
    {
     "name": "stderr",
     "output_type": "stream",
     "text": [
      "\r",
      "TRAINING MODEL...:  22%|██▎       | 9/40 [00:38<02:15,  4.38s/it]"
     ]
    },
    {
     "name": "stderr",
     "output_type": "stream",
     "text": [
      "\r",
      "TRAINING MODEL...:  25%|██▌       | 10/40 [00:43<02:12,  4.43s/it]"
     ]
    },
    {
     "name": "stderr",
     "output_type": "stream",
     "text": [
      "\r",
      "TRAINING MODEL...:  28%|██▊       | 11/40 [00:47<02:08,  4.43s/it]"
     ]
    },
    {
     "name": "stderr",
     "output_type": "stream",
     "text": [
      "\r",
      "TRAINING MODEL...:  30%|███       | 12/40 [00:51<02:01,  4.35s/it]"
     ]
    },
    {
     "name": "stderr",
     "output_type": "stream",
     "text": [
      "\r",
      "TRAINING MODEL...:  32%|███▎      | 13/40 [00:56<01:58,  4.40s/it]"
     ]
    },
    {
     "name": "stderr",
     "output_type": "stream",
     "text": [
      "\r",
      "TRAINING MODEL...:  35%|███▌      | 14/40 [01:00<01:51,  4.31s/it]"
     ]
    },
    {
     "name": "stderr",
     "output_type": "stream",
     "text": [
      "\r",
      "TRAINING MODEL...:  38%|███▊      | 15/40 [01:06<01:59,  4.78s/it]"
     ]
    },
    {
     "name": "stderr",
     "output_type": "stream",
     "text": [
      "\r",
      "TRAINING MODEL...:  40%|████      | 16/40 [01:10<01:48,  4.52s/it]"
     ]
    },
    {
     "name": "stderr",
     "output_type": "stream",
     "text": [
      "\r",
      "TRAINING MODEL...:  42%|████▎     | 17/40 [01:15<01:47,  4.65s/it]"
     ]
    },
    {
     "name": "stderr",
     "output_type": "stream",
     "text": [
      "\r",
      "TRAINING MODEL...:  45%|████▌     | 18/40 [01:19<01:40,  4.55s/it]"
     ]
    },
    {
     "name": "stderr",
     "output_type": "stream",
     "text": [
      "\r",
      "TRAINING MODEL...:  48%|████▊     | 19/40 [01:23<01:32,  4.41s/it]"
     ]
    },
    {
     "name": "stderr",
     "output_type": "stream",
     "text": [
      "\r",
      "TRAINING MODEL...:  50%|█████     | 20/40 [01:27<01:27,  4.37s/it]"
     ]
    },
    {
     "name": "stderr",
     "output_type": "stream",
     "text": [
      "\r",
      "TRAINING MODEL...:  52%|█████▎    | 21/40 [01:31<01:20,  4.21s/it]"
     ]
    },
    {
     "name": "stderr",
     "output_type": "stream",
     "text": [
      "\r",
      "TRAINING MODEL...:  55%|█████▌    | 22/40 [01:38<01:27,  4.86s/it]"
     ]
    },
    {
     "name": "stderr",
     "output_type": "stream",
     "text": [
      "\r",
      "TRAINING MODEL...:  57%|█████▊    | 23/40 [01:42<01:22,  4.83s/it]"
     ]
    },
    {
     "name": "stderr",
     "output_type": "stream",
     "text": [
      "\r",
      "TRAINING MODEL...:  60%|██████    | 24/40 [01:47<01:16,  4.80s/it]"
     ]
    },
    {
     "name": "stderr",
     "output_type": "stream",
     "text": [
      "\r",
      "TRAINING MODEL...:  62%|██████▎   | 25/40 [01:51<01:08,  4.57s/it]"
     ]
    },
    {
     "name": "stderr",
     "output_type": "stream",
     "text": [
      "\r",
      "TRAINING MODEL...:  65%|██████▌   | 26/40 [01:56<01:05,  4.71s/it]"
     ]
    },
    {
     "name": "stderr",
     "output_type": "stream",
     "text": [
      "\r",
      "TRAINING MODEL...:  68%|██████▊   | 27/40 [02:00<00:59,  4.59s/it]"
     ]
    },
    {
     "name": "stderr",
     "output_type": "stream",
     "text": [
      "\r",
      "TRAINING MODEL...:  70%|███████   | 28/40 [02:04<00:52,  4.36s/it]"
     ]
    },
    {
     "name": "stderr",
     "output_type": "stream",
     "text": [
      "\r",
      "TRAINING MODEL...:  72%|███████▎  | 29/40 [02:09<00:48,  4.38s/it]"
     ]
    },
    {
     "name": "stderr",
     "output_type": "stream",
     "text": [
      "\r",
      "TRAINING MODEL...:  75%|███████▌  | 30/40 [02:14<00:45,  4.56s/it]"
     ]
    },
    {
     "name": "stderr",
     "output_type": "stream",
     "text": [
      "\r",
      "TRAINING MODEL...:  78%|███████▊  | 31/40 [02:18<00:40,  4.52s/it]"
     ]
    },
    {
     "name": "stderr",
     "output_type": "stream",
     "text": [
      "\r",
      "TRAINING MODEL...:  80%|████████  | 32/40 [02:23<00:36,  4.51s/it]"
     ]
    },
    {
     "name": "stderr",
     "output_type": "stream",
     "text": [
      "\r",
      "TRAINING MODEL...:  82%|████████▎ | 33/40 [02:27<00:30,  4.41s/it]"
     ]
    },
    {
     "name": "stderr",
     "output_type": "stream",
     "text": [
      "\r",
      "TRAINING MODEL...:  85%|████████▌ | 34/40 [02:31<00:26,  4.37s/it]"
     ]
    },
    {
     "name": "stderr",
     "output_type": "stream",
     "text": [
      "\r",
      "TRAINING MODEL...:  88%|████████▊ | 35/40 [02:36<00:22,  4.42s/it]"
     ]
    },
    {
     "name": "stderr",
     "output_type": "stream",
     "text": [
      "\r",
      "TRAINING MODEL...:  90%|█████████ | 36/40 [02:40<00:17,  4.30s/it]"
     ]
    },
    {
     "name": "stderr",
     "output_type": "stream",
     "text": [
      "\r",
      "TRAINING MODEL...:  92%|█████████▎| 37/40 [02:44<00:12,  4.29s/it]"
     ]
    },
    {
     "name": "stderr",
     "output_type": "stream",
     "text": [
      "\r",
      "TRAINING MODEL...:  95%|█████████▌| 38/40 [02:48<00:08,  4.38s/it]"
     ]
    },
    {
     "name": "stderr",
     "output_type": "stream",
     "text": [
      "\r",
      "TRAINING MODEL...:  98%|█████████▊| 39/40 [02:54<00:04,  4.71s/it]"
     ]
    },
    {
     "name": "stderr",
     "output_type": "stream",
     "text": [
      "\r",
      "TRAINING MODEL...: 100%|██████████| 40/40 [02:54<00:00,  3.41s/it]"
     ]
    },
    {
     "name": "stderr",
     "output_type": "stream",
     "text": [
      "\r",
      "TRAINING MODEL...: 100%|██████████| 40/40 [02:54<00:00,  4.37s/it]"
     ]
    },
    {
     "name": "stderr",
     "output_type": "stream",
     "text": [
      "\n"
     ]
    },
    {
     "name": "stderr",
     "output_type": "stream",
     "text": [
      "\r",
      "EVALUATING MODEL...:   0%|          | 0/10 [00:00<?, ?it/s]"
     ]
    },
    {
     "name": "stderr",
     "output_type": "stream",
     "text": [
      "\r",
      "EVALUATING MODEL...:  10%|█         | 1/10 [00:04<00:44,  4.93s/it]"
     ]
    },
    {
     "name": "stderr",
     "output_type": "stream",
     "text": [
      "\r",
      "EVALUATING MODEL...:  20%|██        | 2/10 [00:08<00:34,  4.33s/it]"
     ]
    },
    {
     "name": "stderr",
     "output_type": "stream",
     "text": [
      "\r",
      "EVALUATING MODEL...:  30%|███       | 3/10 [00:13<00:31,  4.50s/it]"
     ]
    },
    {
     "name": "stderr",
     "output_type": "stream",
     "text": [
      "\r",
      "EVALUATING MODEL...:  40%|████      | 4/10 [00:17<00:26,  4.35s/it]"
     ]
    },
    {
     "name": "stderr",
     "output_type": "stream",
     "text": [
      "\r",
      "EVALUATING MODEL...:  50%|█████     | 5/10 [00:23<00:25,  5.04s/it]"
     ]
    },
    {
     "name": "stderr",
     "output_type": "stream",
     "text": [
      "\r",
      "EVALUATING MODEL...:  60%|██████    | 6/10 [00:29<00:20,  5.11s/it]"
     ]
    },
    {
     "name": "stderr",
     "output_type": "stream",
     "text": [
      "\r",
      "EVALUATING MODEL...:  70%|███████   | 7/10 [00:34<00:15,  5.02s/it]"
     ]
    },
    {
     "name": "stderr",
     "output_type": "stream",
     "text": [
      "\r",
      "EVALUATING MODEL...:  80%|████████  | 8/10 [00:37<00:09,  4.69s/it]"
     ]
    },
    {
     "name": "stderr",
     "output_type": "stream",
     "text": [
      "\r",
      "EVALUATING MODEL...:  90%|█████████ | 9/10 [00:42<00:04,  4.75s/it]"
     ]
    },
    {
     "name": "stderr",
     "output_type": "stream",
     "text": [
      "\r",
      "EVALUATING MODEL...: 100%|██████████| 10/10 [00:46<00:00,  4.49s/it]"
     ]
    },
    {
     "name": "stderr",
     "output_type": "stream",
     "text": [
      "\r",
      "EVALUATING MODEL...: 100%|██████████| 10/10 [00:46<00:00,  4.68s/it]"
     ]
    },
    {
     "name": "stderr",
     "output_type": "stream",
     "text": [
      "\n"
     ]
    },
    {
     "name": "stdout",
     "output_type": "stream",
     "text": [
      "epoch: 6\n",
      "train_loss: 0.552, train_acc: 0.713\n",
      "validation_loss: 0.569, validation_acc: 0.699\n"
     ]
    },
    {
     "name": "stderr",
     "output_type": "stream",
     "text": [
      "\r",
      "TRAINING MODEL...:   0%|          | 0/40 [00:00<?, ?it/s]"
     ]
    },
    {
     "name": "stderr",
     "output_type": "stream",
     "text": [
      "\r",
      "TRAINING MODEL...:   2%|▎         | 1/40 [00:04<02:45,  4.24s/it]"
     ]
    },
    {
     "name": "stderr",
     "output_type": "stream",
     "text": [
      "\r",
      "TRAINING MODEL...:   5%|▌         | 2/40 [00:08<02:43,  4.30s/it]"
     ]
    },
    {
     "name": "stderr",
     "output_type": "stream",
     "text": [
      "\r",
      "TRAINING MODEL...:   8%|▊         | 3/40 [00:12<02:37,  4.25s/it]"
     ]
    },
    {
     "name": "stderr",
     "output_type": "stream",
     "text": [
      "\r",
      "TRAINING MODEL...:  10%|█         | 4/40 [00:16<02:30,  4.19s/it]"
     ]
    },
    {
     "name": "stderr",
     "output_type": "stream",
     "text": [
      "\r",
      "TRAINING MODEL...:  12%|█▎        | 5/40 [00:21<02:36,  4.46s/it]"
     ]
    },
    {
     "name": "stderr",
     "output_type": "stream",
     "text": [
      "\r",
      "TRAINING MODEL...:  15%|█▌        | 6/40 [00:27<02:46,  4.91s/it]"
     ]
    },
    {
     "name": "stderr",
     "output_type": "stream",
     "text": [
      "\r",
      "TRAINING MODEL...:  18%|█▊        | 7/40 [00:31<02:32,  4.62s/it]"
     ]
    },
    {
     "name": "stderr",
     "output_type": "stream",
     "text": [
      "\r",
      "TRAINING MODEL...:  20%|██        | 8/40 [00:37<02:39,  5.00s/it]"
     ]
    },
    {
     "name": "stderr",
     "output_type": "stream",
     "text": [
      "\r",
      "TRAINING MODEL...:  22%|██▎       | 9/40 [00:41<02:29,  4.84s/it]"
     ]
    },
    {
     "name": "stderr",
     "output_type": "stream",
     "text": [
      "\r",
      "TRAINING MODEL...:  25%|██▌       | 10/40 [00:46<02:19,  4.64s/it]"
     ]
    },
    {
     "name": "stderr",
     "output_type": "stream",
     "text": [
      "\r",
      "TRAINING MODEL...:  28%|██▊       | 11/40 [00:50<02:09,  4.46s/it]"
     ]
    },
    {
     "name": "stderr",
     "output_type": "stream",
     "text": [
      "\r",
      "TRAINING MODEL...:  30%|███       | 12/40 [00:54<02:08,  4.57s/it]"
     ]
    },
    {
     "name": "stderr",
     "output_type": "stream",
     "text": [
      "\r",
      "TRAINING MODEL...:  32%|███▎      | 13/40 [00:59<01:59,  4.42s/it]"
     ]
    },
    {
     "name": "stderr",
     "output_type": "stream",
     "text": [
      "\r",
      "TRAINING MODEL...:  35%|███▌      | 14/40 [01:03<01:55,  4.44s/it]"
     ]
    },
    {
     "name": "stderr",
     "output_type": "stream",
     "text": [
      "\r",
      "TRAINING MODEL...:  38%|███▊      | 15/40 [01:08<01:52,  4.49s/it]"
     ]
    },
    {
     "name": "stderr",
     "output_type": "stream",
     "text": [
      "\r",
      "TRAINING MODEL...:  40%|████      | 16/40 [01:12<01:47,  4.49s/it]"
     ]
    },
    {
     "name": "stderr",
     "output_type": "stream",
     "text": [
      "\r",
      "TRAINING MODEL...:  42%|████▎     | 17/40 [01:16<01:39,  4.34s/it]"
     ]
    },
    {
     "name": "stderr",
     "output_type": "stream",
     "text": [
      "\r",
      "TRAINING MODEL...:  45%|████▌     | 18/40 [01:21<01:38,  4.49s/it]"
     ]
    },
    {
     "name": "stderr",
     "output_type": "stream",
     "text": [
      "\r",
      "TRAINING MODEL...:  48%|████▊     | 19/40 [01:25<01:32,  4.41s/it]"
     ]
    },
    {
     "name": "stderr",
     "output_type": "stream",
     "text": [
      "\r",
      "TRAINING MODEL...:  50%|█████     | 20/40 [01:30<01:27,  4.40s/it]"
     ]
    },
    {
     "name": "stderr",
     "output_type": "stream",
     "text": [
      "\r",
      "TRAINING MODEL...:  52%|█████▎    | 21/40 [01:35<01:32,  4.85s/it]"
     ]
    },
    {
     "name": "stderr",
     "output_type": "stream",
     "text": [
      "\r",
      "TRAINING MODEL...:  55%|█████▌    | 22/40 [01:40<01:25,  4.77s/it]"
     ]
    },
    {
     "name": "stderr",
     "output_type": "stream",
     "text": [
      "\r",
      "TRAINING MODEL...:  57%|█████▊    | 23/40 [01:44<01:18,  4.63s/it]"
     ]
    },
    {
     "name": "stderr",
     "output_type": "stream",
     "text": [
      "\r",
      "TRAINING MODEL...:  60%|██████    | 24/40 [01:49<01:13,  4.62s/it]"
     ]
    },
    {
     "name": "stderr",
     "output_type": "stream",
     "text": [
      "\r",
      "TRAINING MODEL...:  62%|██████▎   | 25/40 [01:53<01:06,  4.42s/it]"
     ]
    },
    {
     "name": "stderr",
     "output_type": "stream",
     "text": [
      "\r",
      "TRAINING MODEL...:  65%|██████▌   | 26/40 [01:58<01:04,  4.59s/it]"
     ]
    },
    {
     "name": "stderr",
     "output_type": "stream",
     "text": [
      "\r",
      "TRAINING MODEL...:  68%|██████▊   | 27/40 [02:03<01:00,  4.63s/it]"
     ]
    },
    {
     "name": "stderr",
     "output_type": "stream",
     "text": [
      "\r",
      "TRAINING MODEL...:  70%|███████   | 28/40 [02:08<00:57,  4.78s/it]"
     ]
    },
    {
     "name": "stderr",
     "output_type": "stream",
     "text": [
      "\r",
      "TRAINING MODEL...:  72%|███████▎  | 29/40 [02:12<00:50,  4.59s/it]"
     ]
    },
    {
     "name": "stderr",
     "output_type": "stream",
     "text": [
      "\r",
      "TRAINING MODEL...:  75%|███████▌  | 30/40 [02:16<00:45,  4.57s/it]"
     ]
    },
    {
     "name": "stderr",
     "output_type": "stream",
     "text": [
      "\r",
      "TRAINING MODEL...:  78%|███████▊  | 31/40 [02:21<00:41,  4.57s/it]"
     ]
    },
    {
     "name": "stderr",
     "output_type": "stream",
     "text": [
      "\r",
      "TRAINING MODEL...:  80%|████████  | 32/40 [02:26<00:36,  4.62s/it]"
     ]
    },
    {
     "name": "stderr",
     "output_type": "stream",
     "text": [
      "\r",
      "TRAINING MODEL...:  82%|████████▎ | 33/40 [02:30<00:32,  4.66s/it]"
     ]
    },
    {
     "name": "stderr",
     "output_type": "stream",
     "text": [
      "\r",
      "TRAINING MODEL...:  85%|████████▌ | 34/40 [02:35<00:27,  4.62s/it]"
     ]
    },
    {
     "name": "stderr",
     "output_type": "stream",
     "text": [
      "\r",
      "TRAINING MODEL...:  88%|████████▊ | 35/40 [02:39<00:22,  4.58s/it]"
     ]
    },
    {
     "name": "stderr",
     "output_type": "stream",
     "text": [
      "\r",
      "TRAINING MODEL...:  90%|█████████ | 36/40 [02:44<00:18,  4.60s/it]"
     ]
    },
    {
     "name": "stderr",
     "output_type": "stream",
     "text": [
      "\r",
      "TRAINING MODEL...:  92%|█████████▎| 37/40 [02:49<00:13,  4.60s/it]"
     ]
    },
    {
     "name": "stderr",
     "output_type": "stream",
     "text": [
      "\r",
      "TRAINING MODEL...:  95%|█████████▌| 38/40 [02:53<00:08,  4.47s/it]"
     ]
    },
    {
     "name": "stderr",
     "output_type": "stream",
     "text": [
      "\r",
      "TRAINING MODEL...:  98%|█████████▊| 39/40 [02:57<00:04,  4.31s/it]"
     ]
    },
    {
     "name": "stderr",
     "output_type": "stream",
     "text": [
      "\r",
      "TRAINING MODEL...: 100%|██████████| 40/40 [02:57<00:00,  3.11s/it]"
     ]
    },
    {
     "name": "stderr",
     "output_type": "stream",
     "text": [
      "\r",
      "TRAINING MODEL...: 100%|██████████| 40/40 [02:57<00:00,  4.44s/it]"
     ]
    },
    {
     "name": "stderr",
     "output_type": "stream",
     "text": [
      "\n"
     ]
    },
    {
     "name": "stderr",
     "output_type": "stream",
     "text": [
      "\r",
      "EVALUATING MODEL...:   0%|          | 0/10 [00:00<?, ?it/s]"
     ]
    },
    {
     "name": "stderr",
     "output_type": "stream",
     "text": [
      "\r",
      "EVALUATING MODEL...:  10%|█         | 1/10 [00:05<00:45,  5.08s/it]"
     ]
    },
    {
     "name": "stderr",
     "output_type": "stream",
     "text": [
      "\r",
      "EVALUATING MODEL...:  20%|██        | 2/10 [00:09<00:35,  4.40s/it]"
     ]
    },
    {
     "name": "stderr",
     "output_type": "stream",
     "text": [
      "\r",
      "EVALUATING MODEL...:  30%|███       | 3/10 [00:13<00:29,  4.24s/it]"
     ]
    },
    {
     "name": "stderr",
     "output_type": "stream",
     "text": [
      "\r",
      "EVALUATING MODEL...:  40%|████      | 4/10 [00:17<00:25,  4.19s/it]"
     ]
    },
    {
     "name": "stderr",
     "output_type": "stream",
     "text": [
      "\r",
      "EVALUATING MODEL...:  50%|█████     | 5/10 [00:24<00:26,  5.22s/it]"
     ]
    },
    {
     "name": "stderr",
     "output_type": "stream",
     "text": [
      "\r",
      "EVALUATING MODEL...:  60%|██████    | 6/10 [00:29<00:20,  5.17s/it]"
     ]
    },
    {
     "name": "stderr",
     "output_type": "stream",
     "text": [
      "\r",
      "EVALUATING MODEL...:  70%|███████   | 7/10 [00:34<00:15,  5.06s/it]"
     ]
    },
    {
     "name": "stderr",
     "output_type": "stream",
     "text": [
      "\r",
      "EVALUATING MODEL...:  80%|████████  | 8/10 [00:38<00:09,  4.72s/it]"
     ]
    },
    {
     "name": "stderr",
     "output_type": "stream",
     "text": [
      "\r",
      "EVALUATING MODEL...:  90%|█████████ | 9/10 [00:43<00:04,  4.92s/it]"
     ]
    },
    {
     "name": "stderr",
     "output_type": "stream",
     "text": [
      "\r",
      "EVALUATING MODEL...: 100%|██████████| 10/10 [00:46<00:00,  4.49s/it]"
     ]
    },
    {
     "name": "stderr",
     "output_type": "stream",
     "text": [
      "\r",
      "EVALUATING MODEL...: 100%|██████████| 10/10 [00:46<00:00,  4.70s/it]"
     ]
    },
    {
     "name": "stderr",
     "output_type": "stream",
     "text": [
      "\n"
     ]
    },
    {
     "name": "stdout",
     "output_type": "stream",
     "text": [
      "epoch: 7\n",
      "train_loss: 0.538, train_acc: 0.720\n",
      "validation_loss: 0.618, validation_acc: 0.687\n"
     ]
    },
    {
     "name": "stderr",
     "output_type": "stream",
     "text": [
      "\r",
      "TRAINING MODEL...:   0%|          | 0/40 [00:00<?, ?it/s]"
     ]
    },
    {
     "name": "stderr",
     "output_type": "stream",
     "text": [
      "\r",
      "TRAINING MODEL...:   2%|▎         | 1/40 [00:04<02:57,  4.55s/it]"
     ]
    },
    {
     "name": "stderr",
     "output_type": "stream",
     "text": [
      "\r",
      "TRAINING MODEL...:   5%|▌         | 2/40 [00:08<02:39,  4.21s/it]"
     ]
    },
    {
     "name": "stderr",
     "output_type": "stream",
     "text": [
      "\r",
      "TRAINING MODEL...:   8%|▊         | 3/40 [00:12<02:32,  4.11s/it]"
     ]
    },
    {
     "name": "stderr",
     "output_type": "stream",
     "text": [
      "\r",
      "TRAINING MODEL...:  10%|█         | 4/40 [00:17<02:45,  4.60s/it]"
     ]
    },
    {
     "name": "stderr",
     "output_type": "stream",
     "text": [
      "\r",
      "TRAINING MODEL...:  12%|█▎        | 5/40 [00:22<02:36,  4.47s/it]"
     ]
    },
    {
     "name": "stderr",
     "output_type": "stream",
     "text": [
      "\r",
      "TRAINING MODEL...:  15%|█▌        | 6/40 [00:26<02:31,  4.45s/it]"
     ]
    },
    {
     "name": "stderr",
     "output_type": "stream",
     "text": [
      "\r",
      "TRAINING MODEL...:  18%|█▊        | 7/40 [00:31<02:27,  4.47s/it]"
     ]
    },
    {
     "name": "stderr",
     "output_type": "stream",
     "text": [
      "\r",
      "TRAINING MODEL...:  20%|██        | 8/40 [00:36<02:31,  4.72s/it]"
     ]
    },
    {
     "name": "stderr",
     "output_type": "stream",
     "text": [
      "\r",
      "TRAINING MODEL...:  22%|██▎       | 9/40 [00:41<02:34,  4.98s/it]"
     ]
    },
    {
     "name": "stderr",
     "output_type": "stream",
     "text": [
      "\r",
      "TRAINING MODEL...:  25%|██▌       | 10/40 [00:46<02:24,  4.81s/it]"
     ]
    },
    {
     "name": "stderr",
     "output_type": "stream",
     "text": [
      "\r",
      "TRAINING MODEL...:  28%|██▊       | 11/40 [00:52<02:32,  5.26s/it]"
     ]
    },
    {
     "name": "stderr",
     "output_type": "stream",
     "text": [
      "\r",
      "TRAINING MODEL...:  30%|███       | 12/40 [00:56<02:16,  4.87s/it]"
     ]
    },
    {
     "name": "stderr",
     "output_type": "stream",
     "text": [
      "\r",
      "TRAINING MODEL...:  32%|███▎      | 13/40 [01:00<02:07,  4.74s/it]"
     ]
    },
    {
     "name": "stderr",
     "output_type": "stream",
     "text": [
      "\r",
      "TRAINING MODEL...:  35%|███▌      | 14/40 [01:05<01:58,  4.54s/it]"
     ]
    },
    {
     "name": "stderr",
     "output_type": "stream",
     "text": [
      "\r",
      "TRAINING MODEL...:  38%|███▊      | 15/40 [01:09<01:49,  4.39s/it]"
     ]
    },
    {
     "name": "stderr",
     "output_type": "stream",
     "text": [
      "\r",
      "TRAINING MODEL...:  40%|████      | 16/40 [01:13<01:46,  4.43s/it]"
     ]
    },
    {
     "name": "stderr",
     "output_type": "stream",
     "text": [
      "\r",
      "TRAINING MODEL...:  42%|████▎     | 17/40 [01:17<01:39,  4.32s/it]"
     ]
    },
    {
     "name": "stderr",
     "output_type": "stream",
     "text": [
      "\r",
      "TRAINING MODEL...:  45%|████▌     | 18/40 [01:21<01:33,  4.24s/it]"
     ]
    },
    {
     "name": "stderr",
     "output_type": "stream",
     "text": [
      "\r",
      "TRAINING MODEL...:  48%|████▊     | 19/40 [01:27<01:40,  4.78s/it]"
     ]
    },
    {
     "name": "stderr",
     "output_type": "stream",
     "text": [
      "\r",
      "TRAINING MODEL...:  50%|█████     | 20/40 [01:32<01:38,  4.90s/it]"
     ]
    },
    {
     "name": "stderr",
     "output_type": "stream",
     "text": [
      "\r",
      "TRAINING MODEL...:  52%|█████▎    | 21/40 [01:37<01:30,  4.74s/it]"
     ]
    },
    {
     "name": "stderr",
     "output_type": "stream",
     "text": [
      "\r",
      "TRAINING MODEL...:  55%|█████▌    | 22/40 [01:41<01:24,  4.67s/it]"
     ]
    },
    {
     "name": "stderr",
     "output_type": "stream",
     "text": [
      "\r",
      "TRAINING MODEL...:  57%|█████▊    | 23/40 [01:46<01:18,  4.59s/it]"
     ]
    },
    {
     "name": "stderr",
     "output_type": "stream",
     "text": [
      "\r",
      "TRAINING MODEL...:  60%|██████    | 24/40 [01:50<01:12,  4.54s/it]"
     ]
    },
    {
     "name": "stderr",
     "output_type": "stream",
     "text": [
      "\r",
      "TRAINING MODEL...:  62%|██████▎   | 25/40 [01:54<01:06,  4.40s/it]"
     ]
    },
    {
     "name": "stderr",
     "output_type": "stream",
     "text": [
      "\r",
      "TRAINING MODEL...:  65%|██████▌   | 26/40 [01:59<01:01,  4.37s/it]"
     ]
    },
    {
     "name": "stderr",
     "output_type": "stream",
     "text": [
      "\r",
      "TRAINING MODEL...:  68%|██████▊   | 27/40 [02:03<00:58,  4.50s/it]"
     ]
    },
    {
     "name": "stderr",
     "output_type": "stream",
     "text": [
      "\r",
      "TRAINING MODEL...:  70%|███████   | 28/40 [02:08<00:55,  4.60s/it]"
     ]
    },
    {
     "name": "stderr",
     "output_type": "stream",
     "text": [
      "\r",
      "TRAINING MODEL...:  72%|███████▎  | 29/40 [02:12<00:49,  4.48s/it]"
     ]
    },
    {
     "name": "stderr",
     "output_type": "stream",
     "text": [
      "\r",
      "TRAINING MODEL...:  75%|███████▌  | 30/40 [02:17<00:45,  4.51s/it]"
     ]
    },
    {
     "name": "stderr",
     "output_type": "stream",
     "text": [
      "\r",
      "TRAINING MODEL...:  78%|███████▊  | 31/40 [02:21<00:40,  4.50s/it]"
     ]
    },
    {
     "name": "stderr",
     "output_type": "stream",
     "text": [
      "\r",
      "TRAINING MODEL...:  80%|████████  | 32/40 [02:26<00:35,  4.45s/it]"
     ]
    },
    {
     "name": "stderr",
     "output_type": "stream",
     "text": [
      "\r",
      "TRAINING MODEL...:  82%|████████▎ | 33/40 [02:30<00:30,  4.42s/it]"
     ]
    },
    {
     "name": "stderr",
     "output_type": "stream",
     "text": [
      "\r",
      "TRAINING MODEL...:  85%|████████▌ | 34/40 [02:34<00:26,  4.40s/it]"
     ]
    },
    {
     "name": "stderr",
     "output_type": "stream",
     "text": [
      "\r",
      "TRAINING MODEL...:  88%|████████▊ | 35/40 [02:39<00:22,  4.45s/it]"
     ]
    },
    {
     "name": "stderr",
     "output_type": "stream",
     "text": [
      "\r",
      "TRAINING MODEL...:  90%|█████████ | 36/40 [02:44<00:17,  4.49s/it]"
     ]
    },
    {
     "name": "stderr",
     "output_type": "stream",
     "text": [
      "\r",
      "TRAINING MODEL...:  92%|█████████▎| 37/40 [02:48<00:13,  4.48s/it]"
     ]
    },
    {
     "name": "stderr",
     "output_type": "stream",
     "text": [
      "\r",
      "TRAINING MODEL...:  95%|█████████▌| 38/40 [02:53<00:08,  4.49s/it]"
     ]
    },
    {
     "name": "stderr",
     "output_type": "stream",
     "text": [
      "\r",
      "TRAINING MODEL...:  98%|█████████▊| 39/40 [02:57<00:04,  4.47s/it]"
     ]
    },
    {
     "name": "stderr",
     "output_type": "stream",
     "text": [
      "\r",
      "TRAINING MODEL...: 100%|██████████| 40/40 [02:57<00:00,  3.24s/it]"
     ]
    },
    {
     "name": "stderr",
     "output_type": "stream",
     "text": [
      "\r",
      "TRAINING MODEL...: 100%|██████████| 40/40 [02:57<00:00,  4.45s/it]"
     ]
    },
    {
     "name": "stderr",
     "output_type": "stream",
     "text": [
      "\n"
     ]
    },
    {
     "name": "stderr",
     "output_type": "stream",
     "text": [
      "\r",
      "EVALUATING MODEL...:   0%|          | 0/10 [00:00<?, ?it/s]"
     ]
    },
    {
     "name": "stderr",
     "output_type": "stream",
     "text": [
      "\r",
      "EVALUATING MODEL...:  10%|█         | 1/10 [00:05<00:48,  5.41s/it]"
     ]
    },
    {
     "name": "stderr",
     "output_type": "stream",
     "text": [
      "\r",
      "EVALUATING MODEL...:  20%|██        | 2/10 [00:09<00:37,  4.66s/it]"
     ]
    },
    {
     "name": "stderr",
     "output_type": "stream",
     "text": [
      "\r",
      "EVALUATING MODEL...:  30%|███       | 3/10 [00:13<00:30,  4.39s/it]"
     ]
    },
    {
     "name": "stderr",
     "output_type": "stream",
     "text": [
      "\r",
      "EVALUATING MODEL...:  40%|████      | 4/10 [00:17<00:25,  4.29s/it]"
     ]
    },
    {
     "name": "stderr",
     "output_type": "stream",
     "text": [
      "\r",
      "EVALUATING MODEL...:  50%|█████     | 5/10 [00:24<00:25,  5.13s/it]"
     ]
    },
    {
     "name": "stderr",
     "output_type": "stream",
     "text": [
      "\r",
      "EVALUATING MODEL...:  60%|██████    | 6/10 [00:29<00:20,  5.09s/it]"
     ]
    },
    {
     "name": "stderr",
     "output_type": "stream",
     "text": [
      "\r",
      "EVALUATING MODEL...:  70%|███████   | 7/10 [00:34<00:15,  5.01s/it]"
     ]
    },
    {
     "name": "stderr",
     "output_type": "stream",
     "text": [
      "\r",
      "EVALUATING MODEL...:  80%|████████  | 8/10 [00:38<00:09,  4.68s/it]"
     ]
    },
    {
     "name": "stderr",
     "output_type": "stream",
     "text": [
      "\r",
      "EVALUATING MODEL...:  90%|█████████ | 9/10 [00:43<00:04,  4.90s/it]"
     ]
    },
    {
     "name": "stderr",
     "output_type": "stream",
     "text": [
      "\r",
      "EVALUATING MODEL...: 100%|██████████| 10/10 [00:47<00:00,  4.47s/it]"
     ]
    },
    {
     "name": "stderr",
     "output_type": "stream",
     "text": [
      "\r",
      "EVALUATING MODEL...: 100%|██████████| 10/10 [00:47<00:00,  4.71s/it]"
     ]
    },
    {
     "name": "stderr",
     "output_type": "stream",
     "text": [
      "\n"
     ]
    },
    {
     "name": "stdout",
     "output_type": "stream",
     "text": [
      "epoch: 8\n",
      "train_loss: 0.544, train_acc: 0.717\n",
      "validation_loss: 0.546, validation_acc: 0.707\n"
     ]
    },
    {
     "name": "stderr",
     "output_type": "stream",
     "text": [
      "\r",
      "TRAINING MODEL...:   0%|          | 0/40 [00:00<?, ?it/s]"
     ]
    },
    {
     "name": "stderr",
     "output_type": "stream",
     "text": [
      "\r",
      "TRAINING MODEL...:   2%|▎         | 1/40 [00:04<02:38,  4.07s/it]"
     ]
    },
    {
     "name": "stderr",
     "output_type": "stream",
     "text": [
      "\r",
      "TRAINING MODEL...:   5%|▌         | 2/40 [00:08<02:40,  4.23s/it]"
     ]
    },
    {
     "name": "stderr",
     "output_type": "stream",
     "text": [
      "\r",
      "TRAINING MODEL...:   8%|▊         | 3/40 [00:12<02:42,  4.38s/it]"
     ]
    },
    {
     "name": "stderr",
     "output_type": "stream",
     "text": [
      "\r",
      "TRAINING MODEL...:  10%|█         | 4/40 [00:18<02:57,  4.94s/it]"
     ]
    },
    {
     "name": "stderr",
     "output_type": "stream",
     "text": [
      "\r",
      "TRAINING MODEL...:  12%|█▎        | 5/40 [00:22<02:43,  4.66s/it]"
     ]
    },
    {
     "name": "stderr",
     "output_type": "stream",
     "text": [
      "\r",
      "TRAINING MODEL...:  15%|█▌        | 6/40 [00:29<02:56,  5.18s/it]"
     ]
    },
    {
     "name": "stderr",
     "output_type": "stream",
     "text": [
      "\r",
      "TRAINING MODEL...:  18%|█▊        | 7/40 [00:32<02:36,  4.74s/it]"
     ]
    },
    {
     "name": "stderr",
     "output_type": "stream",
     "text": [
      "\r",
      "TRAINING MODEL...:  20%|██        | 8/40 [00:37<02:29,  4.66s/it]"
     ]
    },
    {
     "name": "stderr",
     "output_type": "stream",
     "text": [
      "\r",
      "TRAINING MODEL...:  22%|██▎       | 9/40 [00:41<02:20,  4.53s/it]"
     ]
    },
    {
     "name": "stderr",
     "output_type": "stream",
     "text": [
      "\r",
      "TRAINING MODEL...:  25%|██▌       | 10/40 [00:45<02:13,  4.46s/it]"
     ]
    },
    {
     "name": "stderr",
     "output_type": "stream",
     "text": [
      "\r",
      "TRAINING MODEL...:  28%|██▊       | 11/40 [00:49<02:05,  4.32s/it]"
     ]
    },
    {
     "name": "stderr",
     "output_type": "stream",
     "text": [
      "\r",
      "TRAINING MODEL...:  30%|███       | 12/40 [00:54<01:59,  4.27s/it]"
     ]
    },
    {
     "name": "stderr",
     "output_type": "stream",
     "text": [
      "\r",
      "TRAINING MODEL...:  32%|███▎      | 13/40 [00:58<01:56,  4.33s/it]"
     ]
    },
    {
     "name": "stderr",
     "output_type": "stream",
     "text": [
      "\r",
      "TRAINING MODEL...:  35%|███▌      | 14/40 [01:03<01:55,  4.43s/it]"
     ]
    },
    {
     "name": "stderr",
     "output_type": "stream",
     "text": [
      "\r",
      "TRAINING MODEL...:  38%|███▊      | 15/40 [01:07<01:47,  4.31s/it]"
     ]
    },
    {
     "name": "stderr",
     "output_type": "stream",
     "text": [
      "\r",
      "TRAINING MODEL...:  40%|████      | 16/40 [01:11<01:41,  4.23s/it]"
     ]
    },
    {
     "name": "stderr",
     "output_type": "stream",
     "text": [
      "\r",
      "TRAINING MODEL...:  42%|████▎     | 17/40 [01:15<01:35,  4.16s/it]"
     ]
    },
    {
     "name": "stderr",
     "output_type": "stream",
     "text": [
      "\r",
      "TRAINING MODEL...:  45%|████▌     | 18/40 [01:20<01:36,  4.37s/it]"
     ]
    },
    {
     "name": "stderr",
     "output_type": "stream",
     "text": [
      "\r",
      "TRAINING MODEL...:  48%|████▊     | 19/40 [01:24<01:31,  4.34s/it]"
     ]
    },
    {
     "name": "stderr",
     "output_type": "stream",
     "text": [
      "\r",
      "TRAINING MODEL...:  50%|█████     | 20/40 [01:29<01:29,  4.45s/it]"
     ]
    },
    {
     "name": "stderr",
     "output_type": "stream",
     "text": [
      "\r",
      "TRAINING MODEL...:  52%|█████▎    | 21/40 [01:34<01:26,  4.58s/it]"
     ]
    },
    {
     "name": "stderr",
     "output_type": "stream",
     "text": [
      "\r",
      "TRAINING MODEL...:  55%|█████▌    | 22/40 [01:38<01:21,  4.54s/it]"
     ]
    },
    {
     "name": "stderr",
     "output_type": "stream",
     "text": [
      "\r",
      "TRAINING MODEL...:  57%|█████▊    | 23/40 [01:43<01:17,  4.56s/it]"
     ]
    },
    {
     "name": "stderr",
     "output_type": "stream",
     "text": [
      "\r",
      "TRAINING MODEL...:  60%|██████    | 24/40 [01:47<01:14,  4.63s/it]"
     ]
    },
    {
     "name": "stderr",
     "output_type": "stream",
     "text": [
      "\r",
      "TRAINING MODEL...:  62%|██████▎   | 25/40 [01:52<01:10,  4.68s/it]"
     ]
    },
    {
     "name": "stderr",
     "output_type": "stream",
     "text": [
      "\r",
      "TRAINING MODEL...:  65%|██████▌   | 26/40 [01:56<01:03,  4.53s/it]"
     ]
    },
    {
     "name": "stderr",
     "output_type": "stream",
     "text": [
      "\r",
      "TRAINING MODEL...:  68%|██████▊   | 27/40 [02:00<00:57,  4.40s/it]"
     ]
    },
    {
     "name": "stderr",
     "output_type": "stream",
     "text": [
      "\r",
      "TRAINING MODEL...:  70%|███████   | 28/40 [02:05<00:53,  4.43s/it]"
     ]
    },
    {
     "name": "stderr",
     "output_type": "stream",
     "text": [
      "\r",
      "TRAINING MODEL...:  72%|███████▎  | 29/40 [02:10<00:49,  4.46s/it]"
     ]
    },
    {
     "name": "stderr",
     "output_type": "stream",
     "text": [
      "\r",
      "TRAINING MODEL...:  75%|███████▌  | 30/40 [02:14<00:44,  4.50s/it]"
     ]
    },
    {
     "name": "stderr",
     "output_type": "stream",
     "text": [
      "\r",
      "TRAINING MODEL...:  78%|███████▊  | 31/40 [02:18<00:38,  4.29s/it]"
     ]
    },
    {
     "name": "stderr",
     "output_type": "stream",
     "text": [
      "\r",
      "TRAINING MODEL...:  80%|████████  | 32/40 [02:22<00:34,  4.29s/it]"
     ]
    },
    {
     "name": "stderr",
     "output_type": "stream",
     "text": [
      "\r",
      "TRAINING MODEL...:  82%|████████▎ | 33/40 [02:27<00:30,  4.43s/it]"
     ]
    },
    {
     "name": "stderr",
     "output_type": "stream",
     "text": [
      "\r",
      "TRAINING MODEL...:  85%|████████▌ | 34/40 [02:32<00:27,  4.64s/it]"
     ]
    },
    {
     "name": "stderr",
     "output_type": "stream",
     "text": [
      "\r",
      "TRAINING MODEL...:  88%|████████▊ | 35/40 [02:37<00:23,  4.61s/it]"
     ]
    },
    {
     "name": "stderr",
     "output_type": "stream",
     "text": [
      "\r",
      "TRAINING MODEL...:  90%|█████████ | 36/40 [02:41<00:18,  4.51s/it]"
     ]
    },
    {
     "name": "stderr",
     "output_type": "stream",
     "text": [
      "\r",
      "TRAINING MODEL...:  92%|█████████▎| 37/40 [02:45<00:13,  4.52s/it]"
     ]
    },
    {
     "name": "stderr",
     "output_type": "stream",
     "text": [
      "\r",
      "TRAINING MODEL...:  95%|█████████▌| 38/40 [02:52<00:10,  5.04s/it]"
     ]
    },
    {
     "name": "stderr",
     "output_type": "stream",
     "text": [
      "\r",
      "TRAINING MODEL...:  98%|█████████▊| 39/40 [02:56<00:04,  4.74s/it]"
     ]
    },
    {
     "name": "stderr",
     "output_type": "stream",
     "text": [
      "\r",
      "TRAINING MODEL...: 100%|██████████| 40/40 [02:56<00:00,  3.42s/it]"
     ]
    },
    {
     "name": "stderr",
     "output_type": "stream",
     "text": [
      "\r",
      "TRAINING MODEL...: 100%|██████████| 40/40 [02:56<00:00,  4.41s/it]"
     ]
    },
    {
     "name": "stderr",
     "output_type": "stream",
     "text": [
      "\n"
     ]
    },
    {
     "name": "stderr",
     "output_type": "stream",
     "text": [
      "\r",
      "EVALUATING MODEL...:   0%|          | 0/10 [00:00<?, ?it/s]"
     ]
    },
    {
     "name": "stderr",
     "output_type": "stream",
     "text": [
      "\r",
      "EVALUATING MODEL...:  10%|█         | 1/10 [00:04<00:43,  4.81s/it]"
     ]
    },
    {
     "name": "stderr",
     "output_type": "stream",
     "text": [
      "\r",
      "EVALUATING MODEL...:  20%|██        | 2/10 [00:08<00:34,  4.32s/it]"
     ]
    },
    {
     "name": "stderr",
     "output_type": "stream",
     "text": [
      "\r",
      "EVALUATING MODEL...:  30%|███       | 3/10 [00:13<00:30,  4.37s/it]"
     ]
    },
    {
     "name": "stderr",
     "output_type": "stream",
     "text": [
      "\r",
      "EVALUATING MODEL...:  40%|████      | 4/10 [00:17<00:25,  4.28s/it]"
     ]
    },
    {
     "name": "stderr",
     "output_type": "stream",
     "text": [
      "\r",
      "EVALUATING MODEL...:  50%|█████     | 5/10 [00:23<00:24,  4.99s/it]"
     ]
    },
    {
     "name": "stderr",
     "output_type": "stream",
     "text": [
      "\r",
      "EVALUATING MODEL...:  60%|██████    | 6/10 [00:29<00:20,  5.19s/it]"
     ]
    },
    {
     "name": "stderr",
     "output_type": "stream",
     "text": [
      "\r",
      "EVALUATING MODEL...:  70%|███████   | 7/10 [00:34<00:15,  5.07s/it]"
     ]
    },
    {
     "name": "stderr",
     "output_type": "stream",
     "text": [
      "\r",
      "EVALUATING MODEL...:  80%|████████  | 8/10 [00:38<00:09,  4.78s/it]"
     ]
    },
    {
     "name": "stderr",
     "output_type": "stream",
     "text": [
      "\r",
      "EVALUATING MODEL...:  90%|█████████ | 9/10 [00:43<00:04,  4.80s/it]"
     ]
    },
    {
     "name": "stderr",
     "output_type": "stream",
     "text": [
      "\r",
      "EVALUATING MODEL...: 100%|██████████| 10/10 [00:46<00:00,  4.53s/it]"
     ]
    },
    {
     "name": "stderr",
     "output_type": "stream",
     "text": [
      "\r",
      "EVALUATING MODEL...: 100%|██████████| 10/10 [00:46<00:00,  4.69s/it]"
     ]
    },
    {
     "name": "stdout",
     "output_type": "stream",
     "text": [
      "epoch: 9\n",
      "train_loss: 0.533, train_acc: 0.729\n",
      "validation_loss: 0.533, validation_acc: 0.720\n"
     ]
    },
    {
     "name": "stderr",
     "output_type": "stream",
     "text": [
      "\n"
     ]
    }
   ],
   "source": [
    "n_epochs = 10\n",
    "best_validation_loss = float(\"inf\")\n",
    "\n",
    "metrics = collections.defaultdict(list)\n",
    "\n",
    "for epoch in range(n_epochs):\n",
    "    train_loss, train_acc = run(\n",
    "        train_dataloader, model_glove, criterion, optimizer_glove, device, embedding=\"glove_embeddings\"\n",
    "    )\n",
    "    validation_loss, validation_acc = run(validation_dataloader, model_glove, criterion, optimizer_glove, device, embedding=\"glove_embeddings\", is_eval=True)\n",
    "    metrics[\"train_losses\"].append(train_loss)\n",
    "    metrics[\"train_accs\"].append(train_acc)\n",
    "    metrics[\"validation_losses\"].append(validation_loss)\n",
    "    metrics[\"validation_accs\"].append(validation_acc)\n",
    "    if validation_loss < best_validation_loss:\n",
    "        best_validation_loss = validation_loss\n",
    "        torch.save(model_glove.state_dict(), \"lstm.pt\")\n",
    "    print(f\"epoch: {epoch}\")\n",
    "    print(f\"train_loss: {train_loss:.3f}, train_acc: {train_acc:.3f}\")\n",
    "    print(f\"validation_loss: {validation_loss:.3f}, validation_acc: {validation_acc:.3f}\")"
   ]
  },
  {
   "cell_type": "code",
   "execution_count": 28,
   "id": "d7db4e42",
   "metadata": {
    "execution": {
     "iopub.execute_input": "2024-05-06T19:51:37.616220Z",
     "iopub.status.busy": "2024-05-06T19:51:37.615931Z",
     "iopub.status.idle": "2024-05-06T19:51:38.014359Z",
     "shell.execute_reply": "2024-05-06T19:51:38.013824Z"
    },
    "papermill": {
     "duration": 0.433434,
     "end_time": "2024-05-06T19:51:38.015888",
     "exception": false,
     "start_time": "2024-05-06T19:51:37.582454",
     "status": "completed"
    },
    "tags": []
   },
   "outputs": [
    {
     "data": {
      "image/png": "[encoded data removed]",
      "text/plain": [
       "<Figure size 1200x800 with 1 Axes>"
      ]
     },
     "metadata": {},
     "output_type": "display_data"
    }
   ],
   "source": [
    "fig = plt.figure(figsize=(12, 8))\n",
    "ax = fig.add_subplot(1, 1, 1)\n",
    "ax.plot(metrics[\"train_losses\"], label=\"train loss\")\n",
    "ax.plot(metrics[\"validation_losses\"], label=\"validation loss\")\n",
    "ax.set_xlabel(\"epoch\")\n",
    "ax.set_ylabel(\"loss\")\n",
    "ax.set_xticks(range(n_epochs))\n",
    "ax.legend()\n",
    "ax.grid()"
   ]
  },
  {
   "cell_type": "code",
   "execution_count": 29,
   "id": "21639302",
   "metadata": {
    "execution": {
     "iopub.execute_input": "2024-05-06T19:51:38.092691Z",
     "iopub.status.busy": "2024-05-06T19:51:38.092336Z",
     "iopub.status.idle": "2024-05-06T19:51:38.346352Z",
     "shell.execute_reply": "2024-05-06T19:51:38.345820Z"
    },
    "papermill": {
     "duration": 0.298298,
     "end_time": "2024-05-06T19:51:38.348240",
     "exception": false,
     "start_time": "2024-05-06T19:51:38.049942",
     "status": "completed"
    },
    "tags": []
   },
   "outputs": [
    {
     "data": {
      "image/png": "[encoded data removed]",
      "text/plain": [
       "<Figure size 1200x800 with 1 Axes>"
      ]
     },
     "metadata": {},
     "output_type": "display_data"
    }
   ],
   "source": [
    "fig = plt.figure(figsize=(12, 8))\n",
    "ax = fig.add_subplot(1, 1, 1)\n",
    "ax.plot(metrics[\"train_accs\"], label=\"train accuracy\")\n",
    "ax.plot(metrics[\"validation_accs\"], label=\"validation accuracy\")\n",
    "ax.set_xlabel(\"epoch\")\n",
    "ax.set_ylabel(\"accuracy\")\n",
    "ax.set_xticks(range(n_epochs))\n",
    "ax.legend()\n",
    "ax.grid()"
   ]
  },
  {
   "cell_type": "code",
   "execution_count": 30,
   "id": "8ca124c7",
   "metadata": {
    "execution": {
     "iopub.execute_input": "2024-05-06T19:51:38.417905Z",
     "iopub.status.busy": "2024-05-06T19:51:38.417444Z",
     "iopub.status.idle": "2024-05-06T19:55:24.104860Z",
     "shell.execute_reply": "2024-05-06T19:55:24.103968Z"
    },
    "papermill": {
     "duration": 225.723292,
     "end_time": "2024-05-06T19:55:24.106168",
     "exception": false,
     "start_time": "2024-05-06T19:51:38.382876",
     "status": "completed"
    },
    "tags": []
   },
   "outputs": [
    {
     "name": "stderr",
     "output_type": "stream",
     "text": [
      "\r",
      "EVALUATING MODEL...:   0%|          | 0/49 [00:00<?, ?it/s]"
     ]
    },
    {
     "name": "stderr",
     "output_type": "stream",
     "text": [
      "\r",
      "EVALUATING MODEL...:   2%|▏         | 1/49 [00:05<04:23,  5.48s/it]"
     ]
    },
    {
     "name": "stderr",
     "output_type": "stream",
     "text": [
      "\r",
      "EVALUATING MODEL...:   4%|▍         | 2/49 [00:09<03:47,  4.84s/it]"
     ]
    },
    {
     "name": "stderr",
     "output_type": "stream",
     "text": [
      "\r",
      "EVALUATING MODEL...:   6%|▌         | 3/49 [00:15<03:51,  5.04s/it]"
     ]
    },
    {
     "name": "stderr",
     "output_type": "stream",
     "text": [
      "\r",
      "EVALUATING MODEL...:   8%|▊         | 4/49 [00:20<03:55,  5.23s/it]"
     ]
    },
    {
     "name": "stderr",
     "output_type": "stream",
     "text": [
      "\r",
      "EVALUATING MODEL...:  10%|█         | 5/49 [00:24<03:31,  4.82s/it]"
     ]
    },
    {
     "name": "stderr",
     "output_type": "stream",
     "text": [
      "\r",
      "EVALUATING MODEL...:  12%|█▏        | 6/49 [00:28<03:15,  4.56s/it]"
     ]
    },
    {
     "name": "stderr",
     "output_type": "stream",
     "text": [
      "\r",
      "EVALUATING MODEL...:  14%|█▍        | 7/49 [00:33<03:13,  4.60s/it]"
     ]
    },
    {
     "name": "stderr",
     "output_type": "stream",
     "text": [
      "\r",
      "EVALUATING MODEL...:  16%|█▋        | 8/49 [00:37<03:03,  4.47s/it]"
     ]
    },
    {
     "name": "stderr",
     "output_type": "stream",
     "text": [
      "\r",
      "EVALUATING MODEL...:  18%|█▊        | 9/49 [00:42<02:58,  4.47s/it]"
     ]
    },
    {
     "name": "stderr",
     "output_type": "stream",
     "text": [
      "\r",
      "EVALUATING MODEL...:  20%|██        | 10/49 [00:46<02:57,  4.55s/it]"
     ]
    },
    {
     "name": "stderr",
     "output_type": "stream",
     "text": [
      "\r",
      "EVALUATING MODEL...:  22%|██▏       | 11/49 [00:51<02:50,  4.49s/it]"
     ]
    },
    {
     "name": "stderr",
     "output_type": "stream",
     "text": [
      "\r",
      "EVALUATING MODEL...:  24%|██▍       | 12/49 [00:55<02:43,  4.42s/it]"
     ]
    },
    {
     "name": "stderr",
     "output_type": "stream",
     "text": [
      "\r",
      "EVALUATING MODEL...:  27%|██▋       | 13/49 [01:00<02:46,  4.62s/it]"
     ]
    },
    {
     "name": "stderr",
     "output_type": "stream",
     "text": [
      "\r",
      "EVALUATING MODEL...:  29%|██▊       | 14/49 [01:04<02:37,  4.51s/it]"
     ]
    },
    {
     "name": "stderr",
     "output_type": "stream",
     "text": [
      "\r",
      "EVALUATING MODEL...:  31%|███       | 15/49 [01:10<02:41,  4.74s/it]"
     ]
    },
    {
     "name": "stderr",
     "output_type": "stream",
     "text": [
      "\r",
      "EVALUATING MODEL...:  33%|███▎      | 16/49 [01:15<02:39,  4.84s/it]"
     ]
    },
    {
     "name": "stderr",
     "output_type": "stream",
     "text": [
      "\r",
      "EVALUATING MODEL...:  35%|███▍      | 17/49 [01:19<02:33,  4.80s/it]"
     ]
    },
    {
     "name": "stderr",
     "output_type": "stream",
     "text": [
      "\r",
      "EVALUATING MODEL...:  37%|███▋      | 18/49 [01:24<02:25,  4.68s/it]"
     ]
    },
    {
     "name": "stderr",
     "output_type": "stream",
     "text": [
      "\r",
      "EVALUATING MODEL...:  39%|███▉      | 19/49 [01:28<02:18,  4.62s/it]"
     ]
    },
    {
     "name": "stderr",
     "output_type": "stream",
     "text": [
      "\r",
      "EVALUATING MODEL...:  41%|████      | 20/49 [01:33<02:10,  4.50s/it]"
     ]
    },
    {
     "name": "stderr",
     "output_type": "stream",
     "text": [
      "\r",
      "EVALUATING MODEL...:  43%|████▎     | 21/49 [01:37<02:09,  4.61s/it]"
     ]
    },
    {
     "name": "stderr",
     "output_type": "stream",
     "text": [
      "\r",
      "EVALUATING MODEL...:  45%|████▍     | 22/49 [01:42<02:04,  4.60s/it]"
     ]
    },
    {
     "name": "stderr",
     "output_type": "stream",
     "text": [
      "\r",
      "EVALUATING MODEL...:  47%|████▋     | 23/49 [01:46<01:57,  4.52s/it]"
     ]
    },
    {
     "name": "stderr",
     "output_type": "stream",
     "text": [
      "\r",
      "EVALUATING MODEL...:  49%|████▉     | 24/49 [01:51<01:57,  4.69s/it]"
     ]
    },
    {
     "name": "stderr",
     "output_type": "stream",
     "text": [
      "\r",
      "EVALUATING MODEL...:  51%|█████     | 25/49 [01:56<01:50,  4.62s/it]"
     ]
    },
    {
     "name": "stderr",
     "output_type": "stream",
     "text": [
      "\r",
      "EVALUATING MODEL...:  53%|█████▎    | 26/49 [02:02<01:55,  5.02s/it]"
     ]
    },
    {
     "name": "stderr",
     "output_type": "stream",
     "text": [
      "\r",
      "EVALUATING MODEL...:  55%|█████▌    | 27/49 [02:06<01:44,  4.73s/it]"
     ]
    },
    {
     "name": "stderr",
     "output_type": "stream",
     "text": [
      "\r",
      "EVALUATING MODEL...:  57%|█████▋    | 28/49 [02:10<01:38,  4.69s/it]"
     ]
    },
    {
     "name": "stderr",
     "output_type": "stream",
     "text": [
      "\r",
      "EVALUATING MODEL...:  59%|█████▉    | 29/49 [02:15<01:30,  4.51s/it]"
     ]
    },
    {
     "name": "stderr",
     "output_type": "stream",
     "text": [
      "\r",
      "EVALUATING MODEL...:  61%|██████    | 30/49 [02:19<01:25,  4.50s/it]"
     ]
    },
    {
     "name": "stderr",
     "output_type": "stream",
     "text": [
      "\r",
      "EVALUATING MODEL...:  63%|██████▎   | 31/49 [02:23<01:20,  4.45s/it]"
     ]
    },
    {
     "name": "stderr",
     "output_type": "stream",
     "text": [
      "\r",
      "EVALUATING MODEL...:  65%|██████▌   | 32/49 [02:28<01:14,  4.38s/it]"
     ]
    },
    {
     "name": "stderr",
     "output_type": "stream",
     "text": [
      "\r",
      "EVALUATING MODEL...:  67%|██████▋   | 33/49 [02:33<01:13,  4.62s/it]"
     ]
    },
    {
     "name": "stderr",
     "output_type": "stream",
     "text": [
      "\r",
      "EVALUATING MODEL...:  69%|██████▉   | 34/49 [02:37<01:08,  4.56s/it]"
     ]
    },
    {
     "name": "stderr",
     "output_type": "stream",
     "text": [
      "\r",
      "EVALUATING MODEL...:  71%|███████▏  | 35/49 [02:42<01:03,  4.51s/it]"
     ]
    },
    {
     "name": "stderr",
     "output_type": "stream",
     "text": [
      "\r",
      "EVALUATING MODEL...:  73%|███████▎  | 36/49 [02:46<00:56,  4.38s/it]"
     ]
    },
    {
     "name": "stderr",
     "output_type": "stream",
     "text": [
      "\r",
      "EVALUATING MODEL...:  76%|███████▌  | 37/49 [02:50<00:52,  4.34s/it]"
     ]
    },
    {
     "name": "stderr",
     "output_type": "stream",
     "text": [
      "\r",
      "EVALUATING MODEL...:  78%|███████▊  | 38/49 [02:54<00:48,  4.37s/it]"
     ]
    },
    {
     "name": "stderr",
     "output_type": "stream",
     "text": [
      "\r",
      "EVALUATING MODEL...:  80%|███████▉  | 39/49 [02:58<00:42,  4.27s/it]"
     ]
    },
    {
     "name": "stderr",
     "output_type": "stream",
     "text": [
      "\r",
      "EVALUATING MODEL...:  82%|████████▏ | 40/49 [03:02<00:37,  4.14s/it]"
     ]
    },
    {
     "name": "stderr",
     "output_type": "stream",
     "text": [
      "\r",
      "EVALUATING MODEL...:  84%|████████▎ | 41/49 [03:06<00:33,  4.16s/it]"
     ]
    },
    {
     "name": "stderr",
     "output_type": "stream",
     "text": [
      "\r",
      "EVALUATING MODEL...:  86%|████████▌ | 42/49 [03:11<00:29,  4.16s/it]"
     ]
    },
    {
     "name": "stderr",
     "output_type": "stream",
     "text": [
      "\r",
      "EVALUATING MODEL...:  88%|████████▊ | 43/49 [03:15<00:26,  4.35s/it]"
     ]
    },
    {
     "name": "stderr",
     "output_type": "stream",
     "text": [
      "\r",
      "EVALUATING MODEL...:  90%|████████▉ | 44/49 [03:20<00:21,  4.39s/it]"
     ]
    },
    {
     "name": "stderr",
     "output_type": "stream",
     "text": [
      "\r",
      "EVALUATING MODEL...:  92%|█████████▏| 45/49 [03:26<00:19,  4.88s/it]"
     ]
    },
    {
     "name": "stderr",
     "output_type": "stream",
     "text": [
      "\r",
      "EVALUATING MODEL...:  94%|█████████▍| 46/49 [03:30<00:13,  4.57s/it]"
     ]
    },
    {
     "name": "stderr",
     "output_type": "stream",
     "text": [
      "\r",
      "EVALUATING MODEL...:  96%|█████████▌| 47/49 [03:35<00:09,  4.66s/it]"
     ]
    },
    {
     "name": "stderr",
     "output_type": "stream",
     "text": [
      "\r",
      "EVALUATING MODEL...:  98%|█████████▊| 48/49 [03:39<00:04,  4.53s/it]"
     ]
    },
    {
     "name": "stderr",
     "output_type": "stream",
     "text": [
      "\r",
      "EVALUATING MODEL...: 100%|██████████| 49/49 [03:45<00:00,  5.08s/it]"
     ]
    },
    {
     "name": "stderr",
     "output_type": "stream",
     "text": [
      "\r",
      "EVALUATING MODEL...: 100%|██████████| 49/49 [03:45<00:00,  4.60s/it]"
     ]
    },
    {
     "name": "stdout",
     "output_type": "stream",
     "text": [
      "test_loss: 0.539, test_acc: 0.721\n"
     ]
    },
    {
     "name": "stderr",
     "output_type": "stream",
     "text": [
      "\n"
     ]
    }
   ],
   "source": [
    "model_glove.load_state_dict(torch.load(\"lstm.pt\"))\n",
    "\n",
    "test_loss, test_acc = run(test_dataloader, model_glove, criterion, optimizer_glove, device, embedding=\"glove_embeddings\", is_eval=True)\n",
    "\n",
    "print(f\"test_loss: {test_loss:.3f}, test_acc: {test_acc:.3f}\")"
   ]
  },
  {
   "cell_type": "code",
   "execution_count": 33,
   "id": "8ba11c2f",
   "metadata": {
    "execution": {
     "iopub.execute_input": "2024-05-06T19:55:24.337661Z",
     "iopub.status.busy": "2024-05-06T19:55:24.337351Z",
     "iopub.status.idle": "2024-05-06T21:13:51.768330Z",
     "shell.execute_reply": "2024-05-06T21:13:51.767590Z"
    },
    "papermill": {
     "duration": 4707.469341,
     "end_time": "2024-05-06T21:13:51.769984",
     "exception": false,
     "start_time": "2024-05-06T19:55:24.300643",
     "status": "completed"
    },
    "tags": []
   },
   "outputs": [
    {
     "name": "stderr",
     "output_type": "stream",
     "text": [
      "\r",
      "TRAINING MODEL...:   0%|          | 0/40 [00:00<?, ?it/s]"
     ]
    },
    {
     "name": "stderr",
     "output_type": "stream",
     "text": [
      "\r",
      "TRAINING MODEL...:   2%|▎         | 1/40 [00:12<07:50, 12.07s/it]"
     ]
    },
    {
     "name": "stderr",
     "output_type": "stream",
     "text": [
      "\r",
      "TRAINING MODEL...:   5%|▌         | 2/40 [00:24<07:56, 12.53s/it]"
     ]
    },
    {
     "name": "stderr",
     "output_type": "stream",
     "text": [
      "\r",
      "TRAINING MODEL...:   8%|▊         | 3/40 [00:34<06:57, 11.29s/it]"
     ]
    },
    {
     "name": "stderr",
     "output_type": "stream",
     "text": [
      "\r",
      "TRAINING MODEL...:  10%|█         | 4/40 [00:46<06:53, 11.49s/it]"
     ]
    },
    {
     "name": "stderr",
     "output_type": "stream",
     "text": [
      "\r",
      "TRAINING MODEL...:  12%|█▎        | 5/40 [00:58<06:42, 11.51s/it]"
     ]
    },
    {
     "name": "stderr",
     "output_type": "stream",
     "text": [
      "\r",
      "TRAINING MODEL...:  15%|█▌        | 6/40 [01:08<06:17, 11.10s/it]"
     ]
    },
    {
     "name": "stderr",
     "output_type": "stream",
     "text": [
      "\r",
      "TRAINING MODEL...:  18%|█▊        | 7/40 [01:19<06:04, 11.04s/it]"
     ]
    },
    {
     "name": "stderr",
     "output_type": "stream",
     "text": [
      "\r",
      "TRAINING MODEL...:  20%|██        | 8/40 [01:30<05:53, 11.06s/it]"
     ]
    },
    {
     "name": "stderr",
     "output_type": "stream",
     "text": [
      "\r",
      "TRAINING MODEL...:  22%|██▎       | 9/40 [01:40<05:34, 10.80s/it]"
     ]
    },
    {
     "name": "stderr",
     "output_type": "stream",
     "text": [
      "\r",
      "TRAINING MODEL...:  25%|██▌       | 10/40 [01:52<05:32, 11.08s/it]"
     ]
    },
    {
     "name": "stderr",
     "output_type": "stream",
     "text": [
      "\r",
      "TRAINING MODEL...:  28%|██▊       | 11/40 [02:03<05:22, 11.10s/it]"
     ]
    },
    {
     "name": "stderr",
     "output_type": "stream",
     "text": [
      "\r",
      "TRAINING MODEL...:  30%|███       | 12/40 [02:16<05:31, 11.83s/it]"
     ]
    },
    {
     "name": "stderr",
     "output_type": "stream",
     "text": [
      "\r",
      "TRAINING MODEL...:  32%|███▎      | 13/40 [02:27<05:07, 11.39s/it]"
     ]
    },
    {
     "name": "stderr",
     "output_type": "stream",
     "text": [
      "\r",
      "TRAINING MODEL...:  35%|███▌      | 14/40 [02:41<05:20, 12.33s/it]"
     ]
    },
    {
     "name": "stderr",
     "output_type": "stream",
     "text": [
      "\r",
      "TRAINING MODEL...:  38%|███▊      | 15/40 [02:52<04:58, 11.93s/it]"
     ]
    },
    {
     "name": "stderr",
     "output_type": "stream",
     "text": [
      "\r",
      "TRAINING MODEL...:  40%|████      | 16/40 [03:03<04:34, 11.43s/it]"
     ]
    },
    {
     "name": "stderr",
     "output_type": "stream",
     "text": [
      "\r",
      "TRAINING MODEL...:  42%|████▎     | 17/40 [03:13<04:14, 11.08s/it]"
     ]
    },
    {
     "name": "stderr",
     "output_type": "stream",
     "text": [
      "\r",
      "TRAINING MODEL...:  45%|████▌     | 18/40 [03:22<03:53, 10.62s/it]"
     ]
    },
    {
     "name": "stderr",
     "output_type": "stream",
     "text": [
      "\r",
      "TRAINING MODEL...:  48%|████▊     | 19/40 [03:33<03:40, 10.50s/it]"
     ]
    },
    {
     "name": "stderr",
     "output_type": "stream",
     "text": [
      "\r",
      "TRAINING MODEL...:  50%|█████     | 20/40 [03:44<03:37, 10.87s/it]"
     ]
    },
    {
     "name": "stderr",
     "output_type": "stream",
     "text": [
      "\r",
      "TRAINING MODEL...:  52%|█████▎    | 21/40 [03:55<03:27, 10.90s/it]"
     ]
    },
    {
     "name": "stderr",
     "output_type": "stream",
     "text": [
      "\r",
      "TRAINING MODEL...:  55%|█████▌    | 22/40 [04:06<03:15, 10.84s/it]"
     ]
    },
    {
     "name": "stderr",
     "output_type": "stream",
     "text": [
      "\r",
      "TRAINING MODEL...:  57%|█████▊    | 23/40 [04:17<03:04, 10.86s/it]"
     ]
    },
    {
     "name": "stderr",
     "output_type": "stream",
     "text": [
      "\r",
      "TRAINING MODEL...:  60%|██████    | 24/40 [04:29<02:56, 11.06s/it]"
     ]
    },
    {
     "name": "stderr",
     "output_type": "stream",
     "text": [
      "\r",
      "TRAINING MODEL...:  62%|██████▎   | 25/40 [04:39<02:42, 10.83s/it]"
     ]
    },
    {
     "name": "stderr",
     "output_type": "stream",
     "text": [
      "\r",
      "TRAINING MODEL...:  65%|██████▌   | 26/40 [04:49<02:29, 10.65s/it]"
     ]
    },
    {
     "name": "stderr",
     "output_type": "stream",
     "text": [
      "\r",
      "TRAINING MODEL...:  68%|██████▊   | 27/40 [05:00<02:18, 10.69s/it]"
     ]
    },
    {
     "name": "stderr",
     "output_type": "stream",
     "text": [
      "\r",
      "TRAINING MODEL...:  70%|███████   | 28/40 [05:11<02:10, 10.90s/it]"
     ]
    },
    {
     "name": "stderr",
     "output_type": "stream",
     "text": [
      "\r",
      "TRAINING MODEL...:  72%|███████▎  | 29/40 [05:22<01:57, 10.72s/it]"
     ]
    },
    {
     "name": "stderr",
     "output_type": "stream",
     "text": [
      "\r",
      "TRAINING MODEL...:  75%|███████▌  | 30/40 [05:32<01:46, 10.68s/it]"
     ]
    },
    {
     "name": "stderr",
     "output_type": "stream",
     "text": [
      "\r",
      "TRAINING MODEL...:  78%|███████▊  | 31/40 [05:47<01:48, 12.09s/it]"
     ]
    },
    {
     "name": "stderr",
     "output_type": "stream",
     "text": [
      "\r",
      "TRAINING MODEL...:  80%|████████  | 32/40 [05:58<01:32, 11.56s/it]"
     ]
    },
    {
     "name": "stderr",
     "output_type": "stream",
     "text": [
      "\r",
      "TRAINING MODEL...:  82%|████████▎ | 33/40 [06:08<01:18, 11.19s/it]"
     ]
    },
    {
     "name": "stderr",
     "output_type": "stream",
     "text": [
      "\r",
      "TRAINING MODEL...:  85%|████████▌ | 34/40 [06:18<01:04, 10.81s/it]"
     ]
    },
    {
     "name": "stderr",
     "output_type": "stream",
     "text": [
      "\r",
      "TRAINING MODEL...:  88%|████████▊ | 35/40 [06:29<00:53, 10.74s/it]"
     ]
    },
    {
     "name": "stderr",
     "output_type": "stream",
     "text": [
      "\r",
      "TRAINING MODEL...:  90%|█████████ | 36/40 [06:39<00:42, 10.73s/it]"
     ]
    },
    {
     "name": "stderr",
     "output_type": "stream",
     "text": [
      "\r",
      "TRAINING MODEL...:  92%|█████████▎| 37/40 [06:49<00:31, 10.51s/it]"
     ]
    },
    {
     "name": "stderr",
     "output_type": "stream",
     "text": [
      "\r",
      "TRAINING MODEL...:  95%|█████████▌| 38/40 [07:01<00:21, 10.90s/it]"
     ]
    },
    {
     "name": "stderr",
     "output_type": "stream",
     "text": [
      "\r",
      "TRAINING MODEL...:  98%|█████████▊| 39/40 [07:12<00:10, 10.90s/it]"
     ]
    },
    {
     "name": "stderr",
     "output_type": "stream",
     "text": [
      "\r",
      "TRAINING MODEL...: 100%|██████████| 40/40 [07:13<00:00,  7.84s/it]"
     ]
    },
    {
     "name": "stderr",
     "output_type": "stream",
     "text": [
      "\r",
      "TRAINING MODEL...: 100%|██████████| 40/40 [07:13<00:00, 10.83s/it]"
     ]
    },
    {
     "name": "stderr",
     "output_type": "stream",
     "text": [
      "\n"
     ]
    },
    {
     "name": "stderr",
     "output_type": "stream",
     "text": [
      "\r",
      "EVALUATING MODEL...:   0%|          | 0/10 [00:00<?, ?it/s]"
     ]
    },
    {
     "name": "stderr",
     "output_type": "stream",
     "text": [
      "\r",
      "EVALUATING MODEL...:  10%|█         | 1/10 [00:04<00:43,  4.83s/it]"
     ]
    },
    {
     "name": "stderr",
     "output_type": "stream",
     "text": [
      "\r",
      "EVALUATING MODEL...:  20%|██        | 2/10 [00:08<00:34,  4.35s/it]"
     ]
    },
    {
     "name": "stderr",
     "output_type": "stream",
     "text": [
      "\r",
      "EVALUATING MODEL...:  30%|███       | 3/10 [00:13<00:31,  4.48s/it]"
     ]
    },
    {
     "name": "stderr",
     "output_type": "stream",
     "text": [
      "\r",
      "EVALUATING MODEL...:  40%|████      | 4/10 [00:17<00:26,  4.36s/it]"
     ]
    },
    {
     "name": "stderr",
     "output_type": "stream",
     "text": [
      "\r",
      "EVALUATING MODEL...:  50%|█████     | 5/10 [00:24<00:25,  5.14s/it]"
     ]
    },
    {
     "name": "stderr",
     "output_type": "stream",
     "text": [
      "\r",
      "EVALUATING MODEL...:  60%|██████    | 6/10 [00:29<00:20,  5.21s/it]"
     ]
    },
    {
     "name": "stderr",
     "output_type": "stream",
     "text": [
      "\r",
      "EVALUATING MODEL...:  70%|███████   | 7/10 [00:34<00:15,  5.26s/it]"
     ]
    },
    {
     "name": "stderr",
     "output_type": "stream",
     "text": [
      "\r",
      "EVALUATING MODEL...:  80%|████████  | 8/10 [00:38<00:09,  4.86s/it]"
     ]
    },
    {
     "name": "stderr",
     "output_type": "stream",
     "text": [
      "\r",
      "EVALUATING MODEL...:  90%|█████████ | 9/10 [00:43<00:04,  4.87s/it]"
     ]
    },
    {
     "name": "stderr",
     "output_type": "stream",
     "text": [
      "\r",
      "EVALUATING MODEL...: 100%|██████████| 10/10 [00:47<00:00,  4.57s/it]"
     ]
    },
    {
     "name": "stderr",
     "output_type": "stream",
     "text": [
      "\r",
      "EVALUATING MODEL...: 100%|██████████| 10/10 [00:47<00:00,  4.77s/it]"
     ]
    },
    {
     "name": "stderr",
     "output_type": "stream",
     "text": [
      "\n"
     ]
    },
    {
     "name": "stdout",
     "output_type": "stream",
     "text": [
      "epoch: 0\n",
      "train_loss: 0.603, train_acc: 0.661\n",
      "validation_loss: 0.533, validation_acc: 0.720\n"
     ]
    },
    {
     "name": "stderr",
     "output_type": "stream",
     "text": [
      "\r",
      "TRAINING MODEL...:   0%|          | 0/40 [00:00<?, ?it/s]"
     ]
    },
    {
     "name": "stderr",
     "output_type": "stream",
     "text": [
      "\r",
      "TRAINING MODEL...:   2%|▎         | 1/40 [00:14<09:22, 14.43s/it]"
     ]
    },
    {
     "name": "stderr",
     "output_type": "stream",
     "text": [
      "\r",
      "TRAINING MODEL...:   5%|▌         | 2/40 [00:25<07:54, 12.49s/it]"
     ]
    },
    {
     "name": "stderr",
     "output_type": "stream",
     "text": [
      "\r",
      "TRAINING MODEL...:   8%|▊         | 3/40 [00:35<06:57, 11.29s/it]"
     ]
    },
    {
     "name": "stderr",
     "output_type": "stream",
     "text": [
      "\r",
      "TRAINING MODEL...:  10%|█         | 4/40 [00:45<06:27, 10.75s/it]"
     ]
    },
    {
     "name": "stderr",
     "output_type": "stream",
     "text": [
      "\r",
      "TRAINING MODEL...:  12%|█▎        | 5/40 [00:56<06:15, 10.73s/it]"
     ]
    },
    {
     "name": "stderr",
     "output_type": "stream",
     "text": [
      "\r",
      "TRAINING MODEL...:  15%|█▌        | 6/40 [01:06<05:58, 10.55s/it]"
     ]
    },
    {
     "name": "stderr",
     "output_type": "stream",
     "text": [
      "\r",
      "TRAINING MODEL...:  18%|█▊        | 7/40 [01:16<05:44, 10.43s/it]"
     ]
    },
    {
     "name": "stderr",
     "output_type": "stream",
     "text": [
      "\r",
      "TRAINING MODEL...:  20%|██        | 8/40 [01:26<05:25, 10.17s/it]"
     ]
    },
    {
     "name": "stderr",
     "output_type": "stream",
     "text": [
      "\r",
      "TRAINING MODEL...:  22%|██▎       | 9/40 [01:36<05:20, 10.33s/it]"
     ]
    },
    {
     "name": "stderr",
     "output_type": "stream",
     "text": [
      "\r",
      "TRAINING MODEL...:  25%|██▌       | 10/40 [01:48<05:20, 10.69s/it]"
     ]
    },
    {
     "name": "stderr",
     "output_type": "stream",
     "text": [
      "\r",
      "TRAINING MODEL...:  28%|██▊       | 11/40 [01:57<05:00, 10.36s/it]"
     ]
    },
    {
     "name": "stderr",
     "output_type": "stream",
     "text": [
      "\r",
      "TRAINING MODEL...:  30%|███       | 12/40 [02:07<04:47, 10.28s/it]"
     ]
    },
    {
     "name": "stderr",
     "output_type": "stream",
     "text": [
      "\r",
      "TRAINING MODEL...:  32%|███▎      | 13/40 [02:17<04:29,  9.99s/it]"
     ]
    },
    {
     "name": "stderr",
     "output_type": "stream",
     "text": [
      "\r",
      "TRAINING MODEL...:  35%|███▌      | 14/40 [02:28<04:31, 10.44s/it]"
     ]
    },
    {
     "name": "stderr",
     "output_type": "stream",
     "text": [
      "\r",
      "TRAINING MODEL...:  38%|███▊      | 15/40 [02:38<04:12, 10.11s/it]"
     ]
    },
    {
     "name": "stderr",
     "output_type": "stream",
     "text": [
      "\r",
      "TRAINING MODEL...:  40%|████      | 16/40 [02:47<04:01, 10.05s/it]"
     ]
    },
    {
     "name": "stderr",
     "output_type": "stream",
     "text": [
      "\r",
      "TRAINING MODEL...:  42%|████▎     | 17/40 [02:57<03:48,  9.92s/it]"
     ]
    },
    {
     "name": "stderr",
     "output_type": "stream",
     "text": [
      "\r",
      "TRAINING MODEL...:  45%|████▌     | 18/40 [03:11<04:03, 11.08s/it]"
     ]
    },
    {
     "name": "stderr",
     "output_type": "stream",
     "text": [
      "\r",
      "TRAINING MODEL...:  48%|████▊     | 19/40 [03:21<03:46, 10.81s/it]"
     ]
    },
    {
     "name": "stderr",
     "output_type": "stream",
     "text": [
      "\r",
      "TRAINING MODEL...:  50%|█████     | 20/40 [03:31<03:33, 10.66s/it]"
     ]
    },
    {
     "name": "stderr",
     "output_type": "stream",
     "text": [
      "\r",
      "TRAINING MODEL...:  52%|█████▎    | 21/40 [03:42<03:22, 10.68s/it]"
     ]
    },
    {
     "name": "stderr",
     "output_type": "stream",
     "text": [
      "\r",
      "TRAINING MODEL...:  55%|█████▌    | 22/40 [03:54<03:18, 11.02s/it]"
     ]
    },
    {
     "name": "stderr",
     "output_type": "stream",
     "text": [
      "\r",
      "TRAINING MODEL...:  57%|█████▊    | 23/40 [04:03<02:59, 10.58s/it]"
     ]
    },
    {
     "name": "stderr",
     "output_type": "stream",
     "text": [
      "\r",
      "TRAINING MODEL...:  60%|██████    | 24/40 [04:14<02:48, 10.55s/it]"
     ]
    },
    {
     "name": "stderr",
     "output_type": "stream",
     "text": [
      "\r",
      "TRAINING MODEL...:  62%|██████▎   | 25/40 [04:26<02:43, 10.90s/it]"
     ]
    },
    {
     "name": "stderr",
     "output_type": "stream",
     "text": [
      "\r",
      "TRAINING MODEL...:  65%|██████▌   | 26/40 [04:36<02:31, 10.80s/it]"
     ]
    },
    {
     "name": "stderr",
     "output_type": "stream",
     "text": [
      "\r",
      "TRAINING MODEL...:  68%|██████▊   | 27/40 [04:47<02:20, 10.80s/it]"
     ]
    },
    {
     "name": "stderr",
     "output_type": "stream",
     "text": [
      "\r",
      "TRAINING MODEL...:  70%|███████   | 28/40 [04:58<02:09, 10.78s/it]"
     ]
    },
    {
     "name": "stderr",
     "output_type": "stream",
     "text": [
      "\r",
      "TRAINING MODEL...:  72%|███████▎  | 29/40 [05:12<02:09, 11.81s/it]"
     ]
    },
    {
     "name": "stderr",
     "output_type": "stream",
     "text": [
      "\r",
      "TRAINING MODEL...:  75%|███████▌  | 30/40 [05:22<01:52, 11.22s/it]"
     ]
    },
    {
     "name": "stderr",
     "output_type": "stream",
     "text": [
      "\r",
      "TRAINING MODEL...:  78%|███████▊  | 31/40 [05:31<01:36, 10.71s/it]"
     ]
    },
    {
     "name": "stderr",
     "output_type": "stream",
     "text": [
      "\r",
      "TRAINING MODEL...:  80%|████████  | 32/40 [05:41<01:22, 10.37s/it]"
     ]
    },
    {
     "name": "stderr",
     "output_type": "stream",
     "text": [
      "\r",
      "TRAINING MODEL...:  82%|████████▎ | 33/40 [05:50<01:10, 10.12s/it]"
     ]
    },
    {
     "name": "stderr",
     "output_type": "stream",
     "text": [
      "\r",
      "TRAINING MODEL...:  85%|████████▌ | 34/40 [06:00<01:00, 10.03s/it]"
     ]
    },
    {
     "name": "stderr",
     "output_type": "stream",
     "text": [
      "\r",
      "TRAINING MODEL...:  88%|████████▊ | 35/40 [06:11<00:51, 10.26s/it]"
     ]
    },
    {
     "name": "stderr",
     "output_type": "stream",
     "text": [
      "\r",
      "TRAINING MODEL...:  90%|█████████ | 36/40 [06:21<00:40, 10.05s/it]"
     ]
    },
    {
     "name": "stderr",
     "output_type": "stream",
     "text": [
      "\r",
      "TRAINING MODEL...:  92%|█████████▎| 37/40 [06:31<00:30, 10.25s/it]"
     ]
    },
    {
     "name": "stderr",
     "output_type": "stream",
     "text": [
      "\r",
      "TRAINING MODEL...:  95%|█████████▌| 38/40 [06:41<00:20, 10.02s/it]"
     ]
    },
    {
     "name": "stderr",
     "output_type": "stream",
     "text": [
      "\r",
      "TRAINING MODEL...:  98%|█████████▊| 39/40 [06:51<00:09,  9.92s/it]"
     ]
    },
    {
     "name": "stderr",
     "output_type": "stream",
     "text": [
      "\r",
      "TRAINING MODEL...: 100%|██████████| 40/40 [06:51<00:00,  7.14s/it]"
     ]
    },
    {
     "name": "stderr",
     "output_type": "stream",
     "text": [
      "\r",
      "TRAINING MODEL...: 100%|██████████| 40/40 [06:51<00:00, 10.29s/it]"
     ]
    },
    {
     "name": "stderr",
     "output_type": "stream",
     "text": [
      "\n"
     ]
    },
    {
     "name": "stderr",
     "output_type": "stream",
     "text": [
      "\r",
      "EVALUATING MODEL...:   0%|          | 0/10 [00:00<?, ?it/s]"
     ]
    },
    {
     "name": "stderr",
     "output_type": "stream",
     "text": [
      "\r",
      "EVALUATING MODEL...:  10%|█         | 1/10 [00:05<00:47,  5.30s/it]"
     ]
    },
    {
     "name": "stderr",
     "output_type": "stream",
     "text": [
      "\r",
      "EVALUATING MODEL...:  20%|██        | 2/10 [00:09<00:36,  4.53s/it]"
     ]
    },
    {
     "name": "stderr",
     "output_type": "stream",
     "text": [
      "\r",
      "EVALUATING MODEL...:  30%|███       | 3/10 [00:13<00:31,  4.45s/it]"
     ]
    },
    {
     "name": "stderr",
     "output_type": "stream",
     "text": [
      "\r",
      "EVALUATING MODEL...:  40%|████      | 4/10 [00:17<00:26,  4.34s/it]"
     ]
    },
    {
     "name": "stderr",
     "output_type": "stream",
     "text": [
      "\r",
      "EVALUATING MODEL...:  50%|█████     | 5/10 [00:24<00:25,  5.17s/it]"
     ]
    },
    {
     "name": "stderr",
     "output_type": "stream",
     "text": [
      "\r",
      "EVALUATING MODEL...:  60%|██████    | 6/10 [00:29<00:20,  5.12s/it]"
     ]
    },
    {
     "name": "stderr",
     "output_type": "stream",
     "text": [
      "\r",
      "EVALUATING MODEL...:  70%|███████   | 7/10 [00:34<00:15,  5.04s/it]"
     ]
    },
    {
     "name": "stderr",
     "output_type": "stream",
     "text": [
      "\r",
      "EVALUATING MODEL...:  80%|████████  | 8/10 [00:38<00:09,  4.72s/it]"
     ]
    },
    {
     "name": "stderr",
     "output_type": "stream",
     "text": [
      "\r",
      "EVALUATING MODEL...:  90%|█████████ | 9/10 [00:43<00:04,  4.89s/it]"
     ]
    },
    {
     "name": "stderr",
     "output_type": "stream",
     "text": [
      "\r",
      "EVALUATING MODEL...: 100%|██████████| 10/10 [00:47<00:00,  4.47s/it]"
     ]
    },
    {
     "name": "stderr",
     "output_type": "stream",
     "text": [
      "\r",
      "EVALUATING MODEL...: 100%|██████████| 10/10 [00:47<00:00,  4.72s/it]"
     ]
    },
    {
     "name": "stderr",
     "output_type": "stream",
     "text": [
      "\n"
     ]
    },
    {
     "name": "stdout",
     "output_type": "stream",
     "text": [
      "epoch: 1\n",
      "train_loss: 0.527, train_acc: 0.733\n",
      "validation_loss: 0.519, validation_acc: 0.734\n"
     ]
    },
    {
     "name": "stderr",
     "output_type": "stream",
     "text": [
      "\r",
      "TRAINING MODEL...:   0%|          | 0/40 [00:00<?, ?it/s]"
     ]
    },
    {
     "name": "stderr",
     "output_type": "stream",
     "text": [
      "\r",
      "TRAINING MODEL...:   2%|▎         | 1/40 [00:10<06:39, 10.23s/it]"
     ]
    },
    {
     "name": "stderr",
     "output_type": "stream",
     "text": [
      "\r",
      "TRAINING MODEL...:   5%|▌         | 2/40 [00:24<07:56, 12.55s/it]"
     ]
    },
    {
     "name": "stderr",
     "output_type": "stream",
     "text": [
      "\r",
      "TRAINING MODEL...:   8%|▊         | 3/40 [00:38<08:06, 13.15s/it]"
     ]
    },
    {
     "name": "stderr",
     "output_type": "stream",
     "text": [
      "\r",
      "TRAINING MODEL...:  10%|█         | 4/40 [00:48<07:09, 11.93s/it]"
     ]
    },
    {
     "name": "stderr",
     "output_type": "stream",
     "text": [
      "\r",
      "TRAINING MODEL...:  12%|█▎        | 5/40 [01:00<06:54, 11.84s/it]"
     ]
    },
    {
     "name": "stderr",
     "output_type": "stream",
     "text": [
      "\r",
      "TRAINING MODEL...:  15%|█▌        | 6/40 [01:10<06:26, 11.36s/it]"
     ]
    },
    {
     "name": "stderr",
     "output_type": "stream",
     "text": [
      "\r",
      "TRAINING MODEL...:  18%|█▊        | 7/40 [01:19<05:54, 10.76s/it]"
     ]
    },
    {
     "name": "stderr",
     "output_type": "stream",
     "text": [
      "\r",
      "TRAINING MODEL...:  20%|██        | 8/40 [01:31<05:50, 10.96s/it]"
     ]
    },
    {
     "name": "stderr",
     "output_type": "stream",
     "text": [
      "\r",
      "TRAINING MODEL...:  22%|██▎       | 9/40 [01:40<05:24, 10.48s/it]"
     ]
    },
    {
     "name": "stderr",
     "output_type": "stream",
     "text": [
      "\r",
      "TRAINING MODEL...:  25%|██▌       | 10/40 [01:51<05:19, 10.65s/it]"
     ]
    },
    {
     "name": "stderr",
     "output_type": "stream",
     "text": [
      "\r",
      "TRAINING MODEL...:  28%|██▊       | 11/40 [02:02<05:06, 10.58s/it]"
     ]
    },
    {
     "name": "stderr",
     "output_type": "stream",
     "text": [
      "\r",
      "TRAINING MODEL...:  30%|███       | 12/40 [02:12<04:51, 10.43s/it]"
     ]
    },
    {
     "name": "stderr",
     "output_type": "stream",
     "text": [
      "\r",
      "TRAINING MODEL...:  32%|███▎      | 13/40 [02:22<04:40, 10.39s/it]"
     ]
    },
    {
     "name": "stderr",
     "output_type": "stream",
     "text": [
      "\r",
      "TRAINING MODEL...:  35%|███▌      | 14/40 [02:32<04:25, 10.22s/it]"
     ]
    },
    {
     "name": "stderr",
     "output_type": "stream",
     "text": [
      "\r",
      "TRAINING MODEL...:  38%|███▊      | 15/40 [02:41<04:10, 10.02s/it]"
     ]
    },
    {
     "name": "stderr",
     "output_type": "stream",
     "text": [
      "\r",
      "TRAINING MODEL...:  40%|████      | 16/40 [02:52<04:03, 10.16s/it]"
     ]
    },
    {
     "name": "stderr",
     "output_type": "stream",
     "text": [
      "\r",
      "TRAINING MODEL...:  42%|████▎     | 17/40 [03:02<03:51, 10.05s/it]"
     ]
    },
    {
     "name": "stderr",
     "output_type": "stream",
     "text": [
      "\r",
      "TRAINING MODEL...:  45%|████▌     | 18/40 [03:13<03:46, 10.29s/it]"
     ]
    },
    {
     "name": "stderr",
     "output_type": "stream",
     "text": [
      "\r",
      "TRAINING MODEL...:  48%|████▊     | 19/40 [03:22<03:33, 10.16s/it]"
     ]
    },
    {
     "name": "stderr",
     "output_type": "stream",
     "text": [
      "\r",
      "TRAINING MODEL...:  50%|█████     | 20/40 [03:32<03:19,  9.98s/it]"
     ]
    },
    {
     "name": "stderr",
     "output_type": "stream",
     "text": [
      "\r",
      "TRAINING MODEL...:  52%|█████▎    | 21/40 [03:42<03:10, 10.05s/it]"
     ]
    },
    {
     "name": "stderr",
     "output_type": "stream",
     "text": [
      "\r",
      "TRAINING MODEL...:  55%|█████▌    | 22/40 [03:53<03:02, 10.16s/it]"
     ]
    },
    {
     "name": "stderr",
     "output_type": "stream",
     "text": [
      "\r",
      "TRAINING MODEL...:  57%|█████▊    | 23/40 [04:04<02:58, 10.50s/it]"
     ]
    },
    {
     "name": "stderr",
     "output_type": "stream",
     "text": [
      "\r",
      "TRAINING MODEL...:  60%|██████    | 24/40 [04:15<02:52, 10.77s/it]"
     ]
    },
    {
     "name": "stderr",
     "output_type": "stream",
     "text": [
      "\r",
      "TRAINING MODEL...:  62%|██████▎   | 25/40 [04:27<02:47, 11.14s/it]"
     ]
    },
    {
     "name": "stderr",
     "output_type": "stream",
     "text": [
      "\r",
      "TRAINING MODEL...:  65%|██████▌   | 26/40 [04:37<02:27, 10.56s/it]"
     ]
    },
    {
     "name": "stderr",
     "output_type": "stream",
     "text": [
      "\r",
      "TRAINING MODEL...:  68%|██████▊   | 27/40 [04:47<02:17, 10.55s/it]"
     ]
    },
    {
     "name": "stderr",
     "output_type": "stream",
     "text": [
      "\r",
      "TRAINING MODEL...:  70%|███████   | 28/40 [05:01<02:19, 11.66s/it]"
     ]
    },
    {
     "name": "stderr",
     "output_type": "stream",
     "text": [
      "\r",
      "TRAINING MODEL...:  72%|███████▎  | 29/40 [05:13<02:07, 11.56s/it]"
     ]
    },
    {
     "name": "stderr",
     "output_type": "stream",
     "text": [
      "\r",
      "TRAINING MODEL...:  75%|███████▌  | 30/40 [05:23<01:52, 11.26s/it]"
     ]
    },
    {
     "name": "stderr",
     "output_type": "stream",
     "text": [
      "\r",
      "TRAINING MODEL...:  78%|███████▊  | 31/40 [05:33<01:38, 10.89s/it]"
     ]
    },
    {
     "name": "stderr",
     "output_type": "stream",
     "text": [
      "\r",
      "TRAINING MODEL...:  80%|████████  | 32/40 [05:44<01:25, 10.70s/it]"
     ]
    },
    {
     "name": "stderr",
     "output_type": "stream",
     "text": [
      "\r",
      "TRAINING MODEL...:  82%|████████▎ | 33/40 [05:55<01:17, 11.01s/it]"
     ]
    },
    {
     "name": "stderr",
     "output_type": "stream",
     "text": [
      "\r",
      "TRAINING MODEL...:  85%|████████▌ | 34/40 [06:07<01:06, 11.08s/it]"
     ]
    },
    {
     "name": "stderr",
     "output_type": "stream",
     "text": [
      "\r",
      "TRAINING MODEL...:  88%|████████▊ | 35/40 [06:18<00:55, 11.16s/it]"
     ]
    },
    {
     "name": "stderr",
     "output_type": "stream",
     "text": [
      "\r",
      "TRAINING MODEL...:  90%|█████████ | 36/40 [06:28<00:42, 10.74s/it]"
     ]
    },
    {
     "name": "stderr",
     "output_type": "stream",
     "text": [
      "\r",
      "TRAINING MODEL...:  92%|█████████▎| 37/40 [06:38<00:31, 10.51s/it]"
     ]
    },
    {
     "name": "stderr",
     "output_type": "stream",
     "text": [
      "\r",
      "TRAINING MODEL...:  95%|█████████▌| 38/40 [06:47<00:20, 10.18s/it]"
     ]
    },
    {
     "name": "stderr",
     "output_type": "stream",
     "text": [
      "\r",
      "TRAINING MODEL...:  98%|█████████▊| 39/40 [06:56<00:09,  9.95s/it]"
     ]
    },
    {
     "name": "stderr",
     "output_type": "stream",
     "text": [
      "\r",
      "TRAINING MODEL...: 100%|██████████| 40/40 [06:57<00:00,  7.18s/it]"
     ]
    },
    {
     "name": "stderr",
     "output_type": "stream",
     "text": [
      "\r",
      "TRAINING MODEL...: 100%|██████████| 40/40 [06:57<00:00, 10.44s/it]"
     ]
    },
    {
     "name": "stderr",
     "output_type": "stream",
     "text": [
      "\n"
     ]
    },
    {
     "name": "stderr",
     "output_type": "stream",
     "text": [
      "\r",
      "EVALUATING MODEL...:   0%|          | 0/10 [00:00<?, ?it/s]"
     ]
    },
    {
     "name": "stderr",
     "output_type": "stream",
     "text": [
      "\r",
      "EVALUATING MODEL...:  10%|█         | 1/10 [00:05<00:46,  5.20s/it]"
     ]
    },
    {
     "name": "stderr",
     "output_type": "stream",
     "text": [
      "\r",
      "EVALUATING MODEL...:  20%|██        | 2/10 [00:09<00:35,  4.47s/it]"
     ]
    },
    {
     "name": "stderr",
     "output_type": "stream",
     "text": [
      "\r",
      "EVALUATING MODEL...:  30%|███       | 3/10 [00:13<00:30,  4.31s/it]"
     ]
    },
    {
     "name": "stderr",
     "output_type": "stream",
     "text": [
      "\r",
      "EVALUATING MODEL...:  40%|████      | 4/10 [00:17<00:25,  4.28s/it]"
     ]
    },
    {
     "name": "stderr",
     "output_type": "stream",
     "text": [
      "\r",
      "EVALUATING MODEL...:  50%|█████     | 5/10 [00:24<00:25,  5.10s/it]"
     ]
    },
    {
     "name": "stderr",
     "output_type": "stream",
     "text": [
      "\r",
      "EVALUATING MODEL...:  60%|██████    | 6/10 [00:29<00:20,  5.20s/it]"
     ]
    },
    {
     "name": "stderr",
     "output_type": "stream",
     "text": [
      "\r",
      "EVALUATING MODEL...:  70%|███████   | 7/10 [00:34<00:15,  5.08s/it]"
     ]
    },
    {
     "name": "stderr",
     "output_type": "stream",
     "text": [
      "\r",
      "EVALUATING MODEL...:  80%|████████  | 8/10 [00:38<00:09,  4.73s/it]"
     ]
    },
    {
     "name": "stderr",
     "output_type": "stream",
     "text": [
      "\r",
      "EVALUATING MODEL...:  90%|█████████ | 9/10 [00:43<00:04,  4.89s/it]"
     ]
    },
    {
     "name": "stderr",
     "output_type": "stream",
     "text": [
      "\r",
      "EVALUATING MODEL...: 100%|██████████| 10/10 [00:47<00:00,  4.49s/it]"
     ]
    },
    {
     "name": "stderr",
     "output_type": "stream",
     "text": [
      "\r",
      "EVALUATING MODEL...: 100%|██████████| 10/10 [00:47<00:00,  4.71s/it]"
     ]
    },
    {
     "name": "stderr",
     "output_type": "stream",
     "text": [
      "\n"
     ]
    },
    {
     "name": "stdout",
     "output_type": "stream",
     "text": [
      "epoch: 2\n",
      "train_loss: 0.508, train_acc: 0.746\n",
      "validation_loss: 0.498, validation_acc: 0.751\n"
     ]
    },
    {
     "name": "stderr",
     "output_type": "stream",
     "text": [
      "\r",
      "TRAINING MODEL...:   0%|          | 0/40 [00:00<?, ?it/s]"
     ]
    },
    {
     "name": "stderr",
     "output_type": "stream",
     "text": [
      "\r",
      "TRAINING MODEL...:   2%|▎         | 1/40 [00:10<06:39, 10.25s/it]"
     ]
    },
    {
     "name": "stderr",
     "output_type": "stream",
     "text": [
      "\r",
      "TRAINING MODEL...:   5%|▌         | 2/40 [00:20<06:39, 10.50s/it]"
     ]
    },
    {
     "name": "stderr",
     "output_type": "stream",
     "text": [
      "\r",
      "TRAINING MODEL...:   8%|▊         | 3/40 [00:31<06:36, 10.71s/it]"
     ]
    },
    {
     "name": "stderr",
     "output_type": "stream",
     "text": [
      "\r",
      "TRAINING MODEL...:  10%|█         | 4/40 [00:42<06:26, 10.74s/it]"
     ]
    },
    {
     "name": "stderr",
     "output_type": "stream",
     "text": [
      "\r",
      "TRAINING MODEL...:  12%|█▎        | 5/40 [00:52<06:01, 10.34s/it]"
     ]
    },
    {
     "name": "stderr",
     "output_type": "stream",
     "text": [
      "\r",
      "TRAINING MODEL...:  15%|█▌        | 6/40 [01:01<05:39,  9.99s/it]"
     ]
    },
    {
     "name": "stderr",
     "output_type": "stream",
     "text": [
      "\r",
      "TRAINING MODEL...:  18%|█▊        | 7/40 [01:12<05:36, 10.19s/it]"
     ]
    },
    {
     "name": "stderr",
     "output_type": "stream",
     "text": [
      "\r",
      "TRAINING MODEL...:  20%|██        | 8/40 [01:23<05:34, 10.44s/it]"
     ]
    },
    {
     "name": "stderr",
     "output_type": "stream",
     "text": [
      "\r",
      "TRAINING MODEL...:  22%|██▎       | 9/40 [01:33<05:19, 10.29s/it]"
     ]
    },
    {
     "name": "stderr",
     "output_type": "stream",
     "text": [
      "\r",
      "TRAINING MODEL...:  25%|██▌       | 10/40 [01:42<05:02, 10.08s/it]"
     ]
    },
    {
     "name": "stderr",
     "output_type": "stream",
     "text": [
      "\r",
      "TRAINING MODEL...:  28%|██▊       | 11/40 [01:53<05:01, 10.41s/it]"
     ]
    },
    {
     "name": "stderr",
     "output_type": "stream",
     "text": [
      "\r",
      "TRAINING MODEL...:  30%|███       | 12/40 [02:05<05:05, 10.90s/it]"
     ]
    },
    {
     "name": "stderr",
     "output_type": "stream",
     "text": [
      "\r",
      "TRAINING MODEL...:  32%|███▎      | 13/40 [02:17<04:56, 10.97s/it]"
     ]
    },
    {
     "name": "stderr",
     "output_type": "stream",
     "text": [
      "\r",
      "TRAINING MODEL...:  35%|███▌      | 14/40 [02:27<04:44, 10.95s/it]"
     ]
    },
    {
     "name": "stderr",
     "output_type": "stream",
     "text": [
      "\r",
      "TRAINING MODEL...:  38%|███▊      | 15/40 [02:38<04:28, 10.75s/it]"
     ]
    },
    {
     "name": "stderr",
     "output_type": "stream",
     "text": [
      "\r",
      "TRAINING MODEL...:  40%|████      | 16/40 [02:52<04:42, 11.77s/it]"
     ]
    },
    {
     "name": "stderr",
     "output_type": "stream",
     "text": [
      "\r",
      "TRAINING MODEL...:  42%|████▎     | 17/40 [03:04<04:33, 11.88s/it]"
     ]
    },
    {
     "name": "stderr",
     "output_type": "stream",
     "text": [
      "\r",
      "TRAINING MODEL...:  45%|████▌     | 18/40 [03:14<04:09, 11.35s/it]"
     ]
    },
    {
     "name": "stderr",
     "output_type": "stream",
     "text": [
      "\r",
      "TRAINING MODEL...:  48%|████▊     | 19/40 [03:25<03:57, 11.30s/it]"
     ]
    },
    {
     "name": "stderr",
     "output_type": "stream",
     "text": [
      "\r",
      "TRAINING MODEL...:  50%|█████     | 20/40 [03:35<03:37, 10.87s/it]"
     ]
    },
    {
     "name": "stderr",
     "output_type": "stream",
     "text": [
      "\r",
      "TRAINING MODEL...:  52%|█████▎    | 21/40 [03:45<03:20, 10.53s/it]"
     ]
    },
    {
     "name": "stderr",
     "output_type": "stream",
     "text": [
      "\r",
      "TRAINING MODEL...:  55%|█████▌    | 22/40 [03:54<03:02, 10.16s/it]"
     ]
    },
    {
     "name": "stderr",
     "output_type": "stream",
     "text": [
      "\r",
      "TRAINING MODEL...:  57%|█████▊    | 23/40 [04:06<03:01, 10.70s/it]"
     ]
    },
    {
     "name": "stderr",
     "output_type": "stream",
     "text": [
      "\r",
      "TRAINING MODEL...:  60%|██████    | 24/40 [04:16<02:47, 10.48s/it]"
     ]
    },
    {
     "name": "stderr",
     "output_type": "stream",
     "text": [
      "\r",
      "TRAINING MODEL...:  62%|██████▎   | 25/40 [04:27<02:37, 10.47s/it]"
     ]
    },
    {
     "name": "stderr",
     "output_type": "stream",
     "text": [
      "\r",
      "TRAINING MODEL...:  65%|██████▌   | 26/40 [04:37<02:24, 10.33s/it]"
     ]
    },
    {
     "name": "stderr",
     "output_type": "stream",
     "text": [
      "\r",
      "TRAINING MODEL...:  68%|██████▊   | 27/40 [04:52<02:32, 11.73s/it]"
     ]
    },
    {
     "name": "stderr",
     "output_type": "stream",
     "text": [
      "\r",
      "TRAINING MODEL...:  70%|███████   | 28/40 [05:02<02:17, 11.42s/it]"
     ]
    },
    {
     "name": "stderr",
     "output_type": "stream",
     "text": [
      "\r",
      "TRAINING MODEL...:  72%|███████▎  | 29/40 [05:12<02:00, 10.99s/it]"
     ]
    },
    {
     "name": "stderr",
     "output_type": "stream",
     "text": [
      "\r",
      "TRAINING MODEL...:  75%|███████▌  | 30/40 [05:26<01:57, 11.78s/it]"
     ]
    },
    {
     "name": "stderr",
     "output_type": "stream",
     "text": [
      "\r",
      "TRAINING MODEL...:  78%|███████▊  | 31/40 [05:37<01:44, 11.62s/it]"
     ]
    },
    {
     "name": "stderr",
     "output_type": "stream",
     "text": [
      "\r",
      "TRAINING MODEL...:  80%|████████  | 32/40 [05:48<01:31, 11.48s/it]"
     ]
    },
    {
     "name": "stderr",
     "output_type": "stream",
     "text": [
      "\r",
      "TRAINING MODEL...:  82%|████████▎ | 33/40 [05:58<01:17, 11.04s/it]"
     ]
    },
    {
     "name": "stderr",
     "output_type": "stream",
     "text": [
      "\r",
      "TRAINING MODEL...:  85%|████████▌ | 34/40 [06:09<01:06, 11.04s/it]"
     ]
    },
    {
     "name": "stderr",
     "output_type": "stream",
     "text": [
      "\r",
      "TRAINING MODEL...:  88%|████████▊ | 35/40 [06:20<00:54, 10.91s/it]"
     ]
    },
    {
     "name": "stderr",
     "output_type": "stream",
     "text": [
      "\r",
      "TRAINING MODEL...:  90%|█████████ | 36/40 [06:31<00:44, 11.07s/it]"
     ]
    },
    {
     "name": "stderr",
     "output_type": "stream",
     "text": [
      "\r",
      "TRAINING MODEL...:  92%|█████████▎| 37/40 [06:41<00:32, 10.68s/it]"
     ]
    },
    {
     "name": "stderr",
     "output_type": "stream",
     "text": [
      "\r",
      "TRAINING MODEL...:  95%|█████████▌| 38/40 [06:51<00:20, 10.28s/it]"
     ]
    },
    {
     "name": "stderr",
     "output_type": "stream",
     "text": [
      "\r",
      "TRAINING MODEL...:  98%|█████████▊| 39/40 [07:01<00:10, 10.30s/it]"
     ]
    },
    {
     "name": "stderr",
     "output_type": "stream",
     "text": [
      "\r",
      "TRAINING MODEL...: 100%|██████████| 40/40 [07:02<00:00,  7.43s/it]"
     ]
    },
    {
     "name": "stderr",
     "output_type": "stream",
     "text": [
      "\r",
      "TRAINING MODEL...: 100%|██████████| 40/40 [07:02<00:00, 10.55s/it]"
     ]
    },
    {
     "name": "stderr",
     "output_type": "stream",
     "text": [
      "\n"
     ]
    },
    {
     "name": "stderr",
     "output_type": "stream",
     "text": [
      "\r",
      "EVALUATING MODEL...:   0%|          | 0/10 [00:00<?, ?it/s]"
     ]
    },
    {
     "name": "stderr",
     "output_type": "stream",
     "text": [
      "\r",
      "EVALUATING MODEL...:  10%|█         | 1/10 [00:05<00:48,  5.38s/it]"
     ]
    },
    {
     "name": "stderr",
     "output_type": "stream",
     "text": [
      "\r",
      "EVALUATING MODEL...:  20%|██        | 2/10 [00:09<00:36,  4.56s/it]"
     ]
    },
    {
     "name": "stderr",
     "output_type": "stream",
     "text": [
      "\r",
      "EVALUATING MODEL...:  30%|███       | 3/10 [00:13<00:30,  4.36s/it]"
     ]
    },
    {
     "name": "stderr",
     "output_type": "stream",
     "text": [
      "\r",
      "EVALUATING MODEL...:  40%|████      | 4/10 [00:17<00:26,  4.35s/it]"
     ]
    },
    {
     "name": "stderr",
     "output_type": "stream",
     "text": [
      "\r",
      "EVALUATING MODEL...:  50%|█████     | 5/10 [00:24<00:25,  5.14s/it]"
     ]
    },
    {
     "name": "stderr",
     "output_type": "stream",
     "text": [
      "\r",
      "EVALUATING MODEL...:  60%|██████    | 6/10 [00:29<00:20,  5.21s/it]"
     ]
    },
    {
     "name": "stderr",
     "output_type": "stream",
     "text": [
      "\r",
      "EVALUATING MODEL...:  70%|███████   | 7/10 [00:34<00:15,  5.10s/it]"
     ]
    },
    {
     "name": "stderr",
     "output_type": "stream",
     "text": [
      "\r",
      "EVALUATING MODEL...:  80%|████████  | 8/10 [00:38<00:09,  4.76s/it]"
     ]
    },
    {
     "name": "stderr",
     "output_type": "stream",
     "text": [
      "\r",
      "EVALUATING MODEL...:  90%|█████████ | 9/10 [00:43<00:04,  4.91s/it]"
     ]
    },
    {
     "name": "stderr",
     "output_type": "stream",
     "text": [
      "\r",
      "EVALUATING MODEL...: 100%|██████████| 10/10 [00:47<00:00,  4.49s/it]"
     ]
    },
    {
     "name": "stderr",
     "output_type": "stream",
     "text": [
      "\r",
      "EVALUATING MODEL...: 100%|██████████| 10/10 [00:47<00:00,  4.74s/it]"
     ]
    },
    {
     "name": "stderr",
     "output_type": "stream",
     "text": [
      "\n"
     ]
    },
    {
     "name": "stdout",
     "output_type": "stream",
     "text": [
      "epoch: 3\n",
      "train_loss: 0.479, train_acc: 0.765\n",
      "validation_loss: 0.589, validation_acc: 0.707\n"
     ]
    },
    {
     "name": "stderr",
     "output_type": "stream",
     "text": [
      "\r",
      "TRAINING MODEL...:   0%|          | 0/40 [00:00<?, ?it/s]"
     ]
    },
    {
     "name": "stderr",
     "output_type": "stream",
     "text": [
      "\r",
      "TRAINING MODEL...:   2%|▎         | 1/40 [00:11<07:13, 11.11s/it]"
     ]
    },
    {
     "name": "stderr",
     "output_type": "stream",
     "text": [
      "\r",
      "TRAINING MODEL...:   5%|▌         | 2/40 [00:20<06:34, 10.39s/it]"
     ]
    },
    {
     "name": "stderr",
     "output_type": "stream",
     "text": [
      "\r",
      "TRAINING MODEL...:   8%|▊         | 3/40 [00:30<06:15, 10.15s/it]"
     ]
    },
    {
     "name": "stderr",
     "output_type": "stream",
     "text": [
      "\r",
      "TRAINING MODEL...:  10%|█         | 4/40 [00:42<06:26, 10.72s/it]"
     ]
    },
    {
     "name": "stderr",
     "output_type": "stream",
     "text": [
      "\r",
      "TRAINING MODEL...:  12%|█▎        | 5/40 [00:52<06:04, 10.42s/it]"
     ]
    },
    {
     "name": "stderr",
     "output_type": "stream",
     "text": [
      "\r",
      "TRAINING MODEL...:  15%|█▌        | 6/40 [01:03<05:57, 10.50s/it]"
     ]
    },
    {
     "name": "stderr",
     "output_type": "stream",
     "text": [
      "\r",
      "TRAINING MODEL...:  18%|█▊        | 7/40 [01:17<06:26, 11.70s/it]"
     ]
    },
    {
     "name": "stderr",
     "output_type": "stream",
     "text": [
      "\r",
      "TRAINING MODEL...:  20%|██        | 8/40 [01:29<06:21, 11.92s/it]"
     ]
    },
    {
     "name": "stderr",
     "output_type": "stream",
     "text": [
      "\r",
      "TRAINING MODEL...:  22%|██▎       | 9/40 [01:40<06:01, 11.67s/it]"
     ]
    },
    {
     "name": "stderr",
     "output_type": "stream",
     "text": [
      "\r",
      "TRAINING MODEL...:  25%|██▌       | 10/40 [01:50<05:37, 11.23s/it]"
     ]
    },
    {
     "name": "stderr",
     "output_type": "stream",
     "text": [
      "\r",
      "TRAINING MODEL...:  28%|██▊       | 11/40 [02:02<05:24, 11.20s/it]"
     ]
    },
    {
     "name": "stderr",
     "output_type": "stream",
     "text": [
      "\r",
      "TRAINING MODEL...:  30%|███       | 12/40 [02:12<05:10, 11.10s/it]"
     ]
    },
    {
     "name": "stderr",
     "output_type": "stream",
     "text": [
      "\r",
      "TRAINING MODEL...:  32%|███▎      | 13/40 [02:28<05:32, 12.32s/it]"
     ]
    },
    {
     "name": "stderr",
     "output_type": "stream",
     "text": [
      "\r",
      "TRAINING MODEL...:  35%|███▌      | 14/40 [02:41<05:30, 12.70s/it]"
     ]
    },
    {
     "name": "stderr",
     "output_type": "stream",
     "text": [
      "\r",
      "TRAINING MODEL...:  38%|███▊      | 15/40 [02:51<04:57, 11.88s/it]"
     ]
    },
    {
     "name": "stderr",
     "output_type": "stream",
     "text": [
      "\r",
      "TRAINING MODEL...:  40%|████      | 16/40 [03:02<04:37, 11.57s/it]"
     ]
    },
    {
     "name": "stderr",
     "output_type": "stream",
     "text": [
      "\r",
      "TRAINING MODEL...:  42%|████▎     | 17/40 [03:12<04:15, 11.11s/it]"
     ]
    },
    {
     "name": "stderr",
     "output_type": "stream",
     "text": [
      "\r",
      "TRAINING MODEL...:  45%|████▌     | 18/40 [03:23<04:03, 11.08s/it]"
     ]
    },
    {
     "name": "stderr",
     "output_type": "stream",
     "text": [
      "\r",
      "TRAINING MODEL...:  48%|████▊     | 19/40 [03:34<03:50, 10.99s/it]"
     ]
    },
    {
     "name": "stderr",
     "output_type": "stream",
     "text": [
      "\r",
      "TRAINING MODEL...:  50%|█████     | 20/40 [03:44<03:34, 10.74s/it]"
     ]
    },
    {
     "name": "stderr",
     "output_type": "stream",
     "text": [
      "\r",
      "TRAINING MODEL...:  52%|█████▎    | 21/40 [03:53<03:16, 10.32s/it]"
     ]
    },
    {
     "name": "stderr",
     "output_type": "stream",
     "text": [
      "\r",
      "TRAINING MODEL...:  55%|█████▌    | 22/40 [04:04<03:08, 10.49s/it]"
     ]
    },
    {
     "name": "stderr",
     "output_type": "stream",
     "text": [
      "\r",
      "TRAINING MODEL...:  57%|█████▊    | 23/40 [04:14<02:55, 10.31s/it]"
     ]
    },
    {
     "name": "stderr",
     "output_type": "stream",
     "text": [
      "\r",
      "TRAINING MODEL...:  60%|██████    | 24/40 [04:25<02:49, 10.60s/it]"
     ]
    },
    {
     "name": "stderr",
     "output_type": "stream",
     "text": [
      "\r",
      "TRAINING MODEL...:  62%|██████▎   | 25/40 [04:36<02:38, 10.55s/it]"
     ]
    },
    {
     "name": "stderr",
     "output_type": "stream",
     "text": [
      "\r",
      "TRAINING MODEL...:  65%|██████▌   | 26/40 [04:45<02:23, 10.27s/it]"
     ]
    },
    {
     "name": "stderr",
     "output_type": "stream",
     "text": [
      "\r",
      "TRAINING MODEL...:  68%|██████▊   | 27/40 [04:56<02:16, 10.50s/it]"
     ]
    },
    {
     "name": "stderr",
     "output_type": "stream",
     "text": [
      "\r",
      "TRAINING MODEL...:  70%|███████   | 28/40 [05:06<02:03, 10.32s/it]"
     ]
    },
    {
     "name": "stderr",
     "output_type": "stream",
     "text": [
      "\r",
      "TRAINING MODEL...:  72%|███████▎  | 29/40 [05:18<01:56, 10.57s/it]"
     ]
    },
    {
     "name": "stderr",
     "output_type": "stream",
     "text": [
      "\r",
      "TRAINING MODEL...:  75%|███████▌  | 30/40 [05:28<01:45, 10.52s/it]"
     ]
    },
    {
     "name": "stderr",
     "output_type": "stream",
     "text": [
      "\r",
      "TRAINING MODEL...:  78%|███████▊  | 31/40 [05:39<01:36, 10.72s/it]"
     ]
    },
    {
     "name": "stderr",
     "output_type": "stream",
     "text": [
      "\r",
      "TRAINING MODEL...:  80%|████████  | 32/40 [05:51<01:28, 11.07s/it]"
     ]
    },
    {
     "name": "stderr",
     "output_type": "stream",
     "text": [
      "\r",
      "TRAINING MODEL...:  82%|████████▎ | 33/40 [06:01<01:15, 10.79s/it]"
     ]
    },
    {
     "name": "stderr",
     "output_type": "stream",
     "text": [
      "\r",
      "TRAINING MODEL...:  85%|████████▌ | 34/40 [06:12<01:05, 10.86s/it]"
     ]
    },
    {
     "name": "stderr",
     "output_type": "stream",
     "text": [
      "\r",
      "TRAINING MODEL...:  88%|████████▊ | 35/40 [06:24<00:56, 11.24s/it]"
     ]
    },
    {
     "name": "stderr",
     "output_type": "stream",
     "text": [
      "\r",
      "TRAINING MODEL...:  90%|█████████ | 36/40 [06:35<00:43, 10.95s/it]"
     ]
    },
    {
     "name": "stderr",
     "output_type": "stream",
     "text": [
      "\r",
      "TRAINING MODEL...:  92%|█████████▎| 37/40 [06:45<00:32, 10.84s/it]"
     ]
    },
    {
     "name": "stderr",
     "output_type": "stream",
     "text": [
      "\r",
      "TRAINING MODEL...:  95%|█████████▌| 38/40 [06:55<00:20, 10.40s/it]"
     ]
    },
    {
     "name": "stderr",
     "output_type": "stream",
     "text": [
      "\r",
      "TRAINING MODEL...:  98%|█████████▊| 39/40 [07:06<00:10, 10.72s/it]"
     ]
    },
    {
     "name": "stderr",
     "output_type": "stream",
     "text": [
      "\r",
      "TRAINING MODEL...: 100%|██████████| 40/40 [07:07<00:00,  7.73s/it]"
     ]
    },
    {
     "name": "stderr",
     "output_type": "stream",
     "text": [
      "\r",
      "TRAINING MODEL...: 100%|██████████| 40/40 [07:07<00:00, 10.68s/it]"
     ]
    },
    {
     "name": "stderr",
     "output_type": "stream",
     "text": [
      "\n"
     ]
    },
    {
     "name": "stderr",
     "output_type": "stream",
     "text": [
      "\r",
      "EVALUATING MODEL...:   0%|          | 0/10 [00:00<?, ?it/s]"
     ]
    },
    {
     "name": "stderr",
     "output_type": "stream",
     "text": [
      "\r",
      "EVALUATING MODEL...:  10%|█         | 1/10 [00:05<00:46,  5.18s/it]"
     ]
    },
    {
     "name": "stderr",
     "output_type": "stream",
     "text": [
      "\r",
      "EVALUATING MODEL...:  20%|██        | 2/10 [00:09<00:36,  4.59s/it]"
     ]
    },
    {
     "name": "stderr",
     "output_type": "stream",
     "text": [
      "\r",
      "EVALUATING MODEL...:  30%|███       | 3/10 [00:13<00:31,  4.45s/it]"
     ]
    },
    {
     "name": "stderr",
     "output_type": "stream",
     "text": [
      "\r",
      "EVALUATING MODEL...:  40%|████      | 4/10 [00:17<00:26,  4.34s/it]"
     ]
    },
    {
     "name": "stderr",
     "output_type": "stream",
     "text": [
      "\r",
      "EVALUATING MODEL...:  50%|█████     | 5/10 [00:24<00:25,  5.15s/it]"
     ]
    },
    {
     "name": "stderr",
     "output_type": "stream",
     "text": [
      "\r",
      "EVALUATING MODEL...:  60%|██████    | 6/10 [00:29<00:20,  5.20s/it]"
     ]
    },
    {
     "name": "stderr",
     "output_type": "stream",
     "text": [
      "\r",
      "EVALUATING MODEL...:  70%|███████   | 7/10 [00:34<00:15,  5.08s/it]"
     ]
    },
    {
     "name": "stderr",
     "output_type": "stream",
     "text": [
      "\r",
      "EVALUATING MODEL...:  80%|████████  | 8/10 [00:38<00:09,  4.75s/it]"
     ]
    },
    {
     "name": "stderr",
     "output_type": "stream",
     "text": [
      "\r",
      "EVALUATING MODEL...:  90%|█████████ | 9/10 [00:44<00:05,  5.00s/it]"
     ]
    },
    {
     "name": "stderr",
     "output_type": "stream",
     "text": [
      "\r",
      "EVALUATING MODEL...: 100%|██████████| 10/10 [00:47<00:00,  4.60s/it]"
     ]
    },
    {
     "name": "stderr",
     "output_type": "stream",
     "text": [
      "\r",
      "EVALUATING MODEL...: 100%|██████████| 10/10 [00:47<00:00,  4.78s/it]"
     ]
    },
    {
     "name": "stderr",
     "output_type": "stream",
     "text": [
      "\n"
     ]
    },
    {
     "name": "stdout",
     "output_type": "stream",
     "text": [
      "epoch: 4\n",
      "train_loss: 0.480, train_acc: 0.766\n",
      "validation_loss: 0.482, validation_acc: 0.760\n"
     ]
    },
    {
     "name": "stderr",
     "output_type": "stream",
     "text": [
      "\r",
      "TRAINING MODEL...:   0%|          | 0/40 [00:00<?, ?it/s]"
     ]
    },
    {
     "name": "stderr",
     "output_type": "stream",
     "text": [
      "\r",
      "TRAINING MODEL...:   2%|▎         | 1/40 [00:09<05:55,  9.11s/it]"
     ]
    },
    {
     "name": "stderr",
     "output_type": "stream",
     "text": [
      "\r",
      "TRAINING MODEL...:   5%|▌         | 2/40 [00:19<06:16,  9.91s/it]"
     ]
    },
    {
     "name": "stderr",
     "output_type": "stream",
     "text": [
      "\r",
      "TRAINING MODEL...:   8%|▊         | 3/40 [00:31<06:35, 10.68s/it]"
     ]
    },
    {
     "name": "stderr",
     "output_type": "stream",
     "text": [
      "\r",
      "TRAINING MODEL...:  10%|█         | 4/40 [00:42<06:37, 11.04s/it]"
     ]
    },
    {
     "name": "stderr",
     "output_type": "stream",
     "text": [
      "\r",
      "TRAINING MODEL...:  12%|█▎        | 5/40 [00:52<06:15, 10.74s/it]"
     ]
    },
    {
     "name": "stderr",
     "output_type": "stream",
     "text": [
      "\r",
      "TRAINING MODEL...:  15%|█▌        | 6/40 [01:07<06:47, 11.98s/it]"
     ]
    },
    {
     "name": "stderr",
     "output_type": "stream",
     "text": [
      "\r",
      "TRAINING MODEL...:  18%|█▊        | 7/40 [01:17<06:11, 11.27s/it]"
     ]
    },
    {
     "name": "stderr",
     "output_type": "stream",
     "text": [
      "\r",
      "TRAINING MODEL...:  20%|██        | 8/40 [01:31<06:36, 12.38s/it]"
     ]
    },
    {
     "name": "stderr",
     "output_type": "stream",
     "text": [
      "\r",
      "TRAINING MODEL...:  22%|██▎       | 9/40 [01:42<06:01, 11.66s/it]"
     ]
    },
    {
     "name": "stderr",
     "output_type": "stream",
     "text": [
      "\r",
      "TRAINING MODEL...:  25%|██▌       | 10/40 [01:52<05:43, 11.45s/it]"
     ]
    },
    {
     "name": "stderr",
     "output_type": "stream",
     "text": [
      "\r",
      "TRAINING MODEL...:  28%|██▊       | 11/40 [02:06<05:49, 12.05s/it]"
     ]
    },
    {
     "name": "stderr",
     "output_type": "stream",
     "text": [
      "\r",
      "TRAINING MODEL...:  30%|███       | 12/40 [02:17<05:27, 11.70s/it]"
     ]
    },
    {
     "name": "stderr",
     "output_type": "stream",
     "text": [
      "\r",
      "TRAINING MODEL...:  32%|███▎      | 13/40 [02:26<04:59, 11.10s/it]"
     ]
    },
    {
     "name": "stderr",
     "output_type": "stream",
     "text": [
      "\r",
      "TRAINING MODEL...:  35%|███▌      | 14/40 [02:38<04:48, 11.09s/it]"
     ]
    },
    {
     "name": "stderr",
     "output_type": "stream",
     "text": [
      "\r",
      "TRAINING MODEL...:  38%|███▊      | 15/40 [02:49<04:42, 11.30s/it]"
     ]
    },
    {
     "name": "stderr",
     "output_type": "stream",
     "text": [
      "\r",
      "TRAINING MODEL...:  40%|████      | 16/40 [02:59<04:22, 10.95s/it]"
     ]
    },
    {
     "name": "stderr",
     "output_type": "stream",
     "text": [
      "\r",
      "TRAINING MODEL...:  42%|████▎     | 17/40 [03:11<04:16, 11.16s/it]"
     ]
    },
    {
     "name": "stderr",
     "output_type": "stream",
     "text": [
      "\r",
      "TRAINING MODEL...:  45%|████▌     | 18/40 [03:22<04:02, 11.04s/it]"
     ]
    },
    {
     "name": "stderr",
     "output_type": "stream",
     "text": [
      "\r",
      "TRAINING MODEL...:  48%|████▊     | 19/40 [03:32<03:43, 10.65s/it]"
     ]
    },
    {
     "name": "stderr",
     "output_type": "stream",
     "text": [
      "\r",
      "TRAINING MODEL...:  50%|█████     | 20/40 [03:41<03:27, 10.37s/it]"
     ]
    },
    {
     "name": "stderr",
     "output_type": "stream",
     "text": [
      "\r",
      "TRAINING MODEL...:  52%|█████▎    | 21/40 [03:51<03:14, 10.23s/it]"
     ]
    },
    {
     "name": "stderr",
     "output_type": "stream",
     "text": [
      "\r",
      "TRAINING MODEL...:  55%|█████▌    | 22/40 [04:03<03:11, 10.66s/it]"
     ]
    },
    {
     "name": "stderr",
     "output_type": "stream",
     "text": [
      "\r",
      "TRAINING MODEL...:  57%|█████▊    | 23/40 [04:14<03:01, 10.68s/it]"
     ]
    },
    {
     "name": "stderr",
     "output_type": "stream",
     "text": [
      "\r",
      "TRAINING MODEL...:  60%|██████    | 24/40 [04:24<02:50, 10.65s/it]"
     ]
    },
    {
     "name": "stderr",
     "output_type": "stream",
     "text": [
      "\r",
      "TRAINING MODEL...:  62%|██████▎   | 25/40 [04:34<02:37, 10.48s/it]"
     ]
    },
    {
     "name": "stderr",
     "output_type": "stream",
     "text": [
      "\r",
      "TRAINING MODEL...:  65%|██████▌   | 26/40 [04:46<02:31, 10.79s/it]"
     ]
    },
    {
     "name": "stderr",
     "output_type": "stream",
     "text": [
      "\r",
      "TRAINING MODEL...:  68%|██████▊   | 27/40 [04:58<02:24, 11.12s/it]"
     ]
    },
    {
     "name": "stderr",
     "output_type": "stream",
     "text": [
      "\r",
      "TRAINING MODEL...:  70%|███████   | 28/40 [05:08<02:11, 10.93s/it]"
     ]
    },
    {
     "name": "stderr",
     "output_type": "stream",
     "text": [
      "\r",
      "TRAINING MODEL...:  72%|███████▎  | 29/40 [05:18<01:57, 10.66s/it]"
     ]
    },
    {
     "name": "stderr",
     "output_type": "stream",
     "text": [
      "\r",
      "TRAINING MODEL...:  75%|███████▌  | 30/40 [05:29<01:45, 10.57s/it]"
     ]
    },
    {
     "name": "stderr",
     "output_type": "stream",
     "text": [
      "\r",
      "TRAINING MODEL...:  78%|███████▊  | 31/40 [05:39<01:33, 10.38s/it]"
     ]
    },
    {
     "name": "stderr",
     "output_type": "stream",
     "text": [
      "\r",
      "TRAINING MODEL...:  80%|████████  | 32/40 [05:50<01:26, 10.77s/it]"
     ]
    },
    {
     "name": "stderr",
     "output_type": "stream",
     "text": [
      "\r",
      "TRAINING MODEL...:  82%|████████▎ | 33/40 [06:00<01:13, 10.48s/it]"
     ]
    },
    {
     "name": "stderr",
     "output_type": "stream",
     "text": [
      "\r",
      "TRAINING MODEL...:  85%|████████▌ | 34/40 [06:11<01:03, 10.52s/it]"
     ]
    },
    {
     "name": "stderr",
     "output_type": "stream",
     "text": [
      "\r",
      "TRAINING MODEL...:  88%|████████▊ | 35/40 [06:20<00:50, 10.19s/it]"
     ]
    },
    {
     "name": "stderr",
     "output_type": "stream",
     "text": [
      "\r",
      "TRAINING MODEL...:  90%|█████████ | 36/40 [06:30<00:40, 10.08s/it]"
     ]
    },
    {
     "name": "stderr",
     "output_type": "stream",
     "text": [
      "\r",
      "TRAINING MODEL...:  92%|█████████▎| 37/40 [06:40<00:30, 10.16s/it]"
     ]
    },
    {
     "name": "stderr",
     "output_type": "stream",
     "text": [
      "\r",
      "TRAINING MODEL...:  95%|█████████▌| 38/40 [06:52<00:21, 10.54s/it]"
     ]
    },
    {
     "name": "stderr",
     "output_type": "stream",
     "text": [
      "\r",
      "TRAINING MODEL...:  98%|█████████▊| 39/40 [07:02<00:10, 10.36s/it]"
     ]
    },
    {
     "name": "stderr",
     "output_type": "stream",
     "text": [
      "\r",
      "TRAINING MODEL...: 100%|██████████| 40/40 [07:02<00:00,  7.46s/it]"
     ]
    },
    {
     "name": "stderr",
     "output_type": "stream",
     "text": [
      "\r",
      "TRAINING MODEL...: 100%|██████████| 40/40 [07:02<00:00, 10.57s/it]"
     ]
    },
    {
     "name": "stderr",
     "output_type": "stream",
     "text": [
      "\n"
     ]
    },
    {
     "name": "stderr",
     "output_type": "stream",
     "text": [
      "\r",
      "EVALUATING MODEL...:   0%|          | 0/10 [00:00<?, ?it/s]"
     ]
    },
    {
     "name": "stderr",
     "output_type": "stream",
     "text": [
      "\r",
      "EVALUATING MODEL...:  10%|█         | 1/10 [00:04<00:43,  4.84s/it]"
     ]
    },
    {
     "name": "stderr",
     "output_type": "stream",
     "text": [
      "\r",
      "EVALUATING MODEL...:  20%|██        | 2/10 [00:09<00:35,  4.49s/it]"
     ]
    },
    {
     "name": "stderr",
     "output_type": "stream",
     "text": [
      "\r",
      "EVALUATING MODEL...:  30%|███       | 3/10 [00:13<00:30,  4.32s/it]"
     ]
    },
    {
     "name": "stderr",
     "output_type": "stream",
     "text": [
      "\r",
      "EVALUATING MODEL...:  40%|████      | 4/10 [00:17<00:25,  4.30s/it]"
     ]
    },
    {
     "name": "stderr",
     "output_type": "stream",
     "text": [
      "\r",
      "EVALUATING MODEL...:  50%|█████     | 5/10 [00:23<00:24,  5.00s/it]"
     ]
    },
    {
     "name": "stderr",
     "output_type": "stream",
     "text": [
      "\r",
      "EVALUATING MODEL...:  60%|██████    | 6/10 [00:29<00:20,  5.19s/it]"
     ]
    },
    {
     "name": "stderr",
     "output_type": "stream",
     "text": [
      "\r",
      "EVALUATING MODEL...:  70%|███████   | 7/10 [00:34<00:15,  5.11s/it]"
     ]
    },
    {
     "name": "stderr",
     "output_type": "stream",
     "text": [
      "\r",
      "EVALUATING MODEL...:  80%|████████  | 8/10 [00:38<00:09,  4.76s/it]"
     ]
    },
    {
     "name": "stderr",
     "output_type": "stream",
     "text": [
      "\r",
      "EVALUATING MODEL...:  90%|█████████ | 9/10 [00:43<00:04,  4.81s/it]"
     ]
    },
    {
     "name": "stderr",
     "output_type": "stream",
     "text": [
      "\r",
      "EVALUATING MODEL...: 100%|██████████| 10/10 [00:46<00:00,  4.42s/it]"
     ]
    },
    {
     "name": "stderr",
     "output_type": "stream",
     "text": [
      "\r",
      "EVALUATING MODEL...: 100%|██████████| 10/10 [00:46<00:00,  4.67s/it]"
     ]
    },
    {
     "name": "stderr",
     "output_type": "stream",
     "text": [
      "\n"
     ]
    },
    {
     "name": "stdout",
     "output_type": "stream",
     "text": [
      "epoch: 5\n",
      "train_loss: 0.445, train_acc: 0.788\n",
      "validation_loss: 0.511, validation_acc: 0.738\n"
     ]
    },
    {
     "name": "stderr",
     "output_type": "stream",
     "text": [
      "\r",
      "TRAINING MODEL...:   0%|          | 0/40 [00:00<?, ?it/s]"
     ]
    },
    {
     "name": "stderr",
     "output_type": "stream",
     "text": [
      "\r",
      "TRAINING MODEL...:   2%|▎         | 1/40 [00:14<09:13, 14.20s/it]"
     ]
    },
    {
     "name": "stderr",
     "output_type": "stream",
     "text": [
      "\r",
      "TRAINING MODEL...:   5%|▌         | 2/40 [00:24<07:25, 11.73s/it]"
     ]
    },
    {
     "name": "stderr",
     "output_type": "stream",
     "text": [
      "\r",
      "TRAINING MODEL...:   8%|▊         | 3/40 [00:33<06:31, 10.58s/it]"
     ]
    },
    {
     "name": "stderr",
     "output_type": "stream",
     "text": [
      "\r",
      "TRAINING MODEL...:  10%|█         | 4/40 [00:43<06:14, 10.40s/it]"
     ]
    },
    {
     "name": "stderr",
     "output_type": "stream",
     "text": [
      "\r",
      "TRAINING MODEL...:  12%|█▎        | 5/40 [00:58<06:59, 11.99s/it]"
     ]
    },
    {
     "name": "stderr",
     "output_type": "stream",
     "text": [
      "\r",
      "TRAINING MODEL...:  15%|█▌        | 6/40 [01:09<06:38, 11.73s/it]"
     ]
    },
    {
     "name": "stderr",
     "output_type": "stream",
     "text": [
      "\r",
      "TRAINING MODEL...:  18%|█▊        | 7/40 [01:19<06:03, 11.03s/it]"
     ]
    },
    {
     "name": "stderr",
     "output_type": "stream",
     "text": [
      "\r",
      "TRAINING MODEL...:  20%|██        | 8/40 [01:30<05:53, 11.04s/it]"
     ]
    },
    {
     "name": "stderr",
     "output_type": "stream",
     "text": [
      "\r",
      "TRAINING MODEL...:  22%|██▎       | 9/40 [01:39<05:28, 10.59s/it]"
     ]
    },
    {
     "name": "stderr",
     "output_type": "stream",
     "text": [
      "\r",
      "TRAINING MODEL...:  25%|██▌       | 10/40 [01:51<05:23, 10.78s/it]"
     ]
    },
    {
     "name": "stderr",
     "output_type": "stream",
     "text": [
      "\r",
      "TRAINING MODEL...:  28%|██▊       | 11/40 [02:00<05:03, 10.47s/it]"
     ]
    },
    {
     "name": "stderr",
     "output_type": "stream",
     "text": [
      "\r",
      "TRAINING MODEL...:  30%|███       | 12/40 [02:10<04:46, 10.25s/it]"
     ]
    },
    {
     "name": "stderr",
     "output_type": "stream",
     "text": [
      "\r",
      "TRAINING MODEL...:  32%|███▎      | 13/40 [02:20<04:34, 10.16s/it]"
     ]
    },
    {
     "name": "stderr",
     "output_type": "stream",
     "text": [
      "\r",
      "TRAINING MODEL...:  35%|███▌      | 14/40 [02:31<04:31, 10.46s/it]"
     ]
    },
    {
     "name": "stderr",
     "output_type": "stream",
     "text": [
      "\r",
      "TRAINING MODEL...:  38%|███▊      | 15/40 [02:42<04:20, 10.44s/it]"
     ]
    },
    {
     "name": "stderr",
     "output_type": "stream",
     "text": [
      "\r",
      "TRAINING MODEL...:  40%|████      | 16/40 [02:52<04:13, 10.55s/it]"
     ]
    },
    {
     "name": "stderr",
     "output_type": "stream",
     "text": [
      "\r",
      "TRAINING MODEL...:  42%|████▎     | 17/40 [03:02<03:54, 10.19s/it]"
     ]
    },
    {
     "name": "stderr",
     "output_type": "stream",
     "text": [
      "\r",
      "TRAINING MODEL...:  45%|████▌     | 18/40 [03:13<03:51, 10.53s/it]"
     ]
    },
    {
     "name": "stderr",
     "output_type": "stream",
     "text": [
      "\r",
      "TRAINING MODEL...:  48%|████▊     | 19/40 [03:23<03:35, 10.24s/it]"
     ]
    },
    {
     "name": "stderr",
     "output_type": "stream",
     "text": [
      "\r",
      "TRAINING MODEL...:  50%|█████     | 20/40 [03:35<03:35, 10.79s/it]"
     ]
    },
    {
     "name": "stderr",
     "output_type": "stream",
     "text": [
      "\r",
      "TRAINING MODEL...:  52%|█████▎    | 21/40 [03:45<03:21, 10.61s/it]"
     ]
    },
    {
     "name": "stderr",
     "output_type": "stream",
     "text": [
      "\r",
      "TRAINING MODEL...:  55%|█████▌    | 22/40 [03:55<03:07, 10.39s/it]"
     ]
    },
    {
     "name": "stderr",
     "output_type": "stream",
     "text": [
      "\r",
      "TRAINING MODEL...:  57%|█████▊    | 23/40 [04:06<03:02, 10.76s/it]"
     ]
    },
    {
     "name": "stderr",
     "output_type": "stream",
     "text": [
      "\r",
      "TRAINING MODEL...:  60%|██████    | 24/40 [04:17<02:53, 10.86s/it]"
     ]
    },
    {
     "name": "stderr",
     "output_type": "stream",
     "text": [
      "\r",
      "TRAINING MODEL...:  62%|██████▎   | 25/40 [04:28<02:40, 10.72s/it]"
     ]
    },
    {
     "name": "stderr",
     "output_type": "stream",
     "text": [
      "\r",
      "TRAINING MODEL...:  65%|██████▌   | 26/40 [04:39<02:32, 10.87s/it]"
     ]
    },
    {
     "name": "stderr",
     "output_type": "stream",
     "text": [
      "\r",
      "TRAINING MODEL...:  68%|██████▊   | 27/40 [04:50<02:21, 10.89s/it]"
     ]
    },
    {
     "name": "stderr",
     "output_type": "stream",
     "text": [
      "\r",
      "TRAINING MODEL...:  70%|███████   | 28/40 [05:01<02:11, 10.94s/it]"
     ]
    },
    {
     "name": "stderr",
     "output_type": "stream",
     "text": [
      "\r",
      "TRAINING MODEL...:  72%|███████▎  | 29/40 [05:12<02:01, 11.08s/it]"
     ]
    },
    {
     "name": "stderr",
     "output_type": "stream",
     "text": [
      "\r",
      "TRAINING MODEL...:  75%|███████▌  | 30/40 [05:23<01:48, 10.86s/it]"
     ]
    },
    {
     "name": "stderr",
     "output_type": "stream",
     "text": [
      "\r",
      "TRAINING MODEL...:  78%|███████▊  | 31/40 [05:35<01:41, 11.23s/it]"
     ]
    },
    {
     "name": "stderr",
     "output_type": "stream",
     "text": [
      "\r",
      "TRAINING MODEL...:  80%|████████  | 32/40 [05:44<01:25, 10.65s/it]"
     ]
    },
    {
     "name": "stderr",
     "output_type": "stream",
     "text": [
      "\r",
      "TRAINING MODEL...:  82%|████████▎ | 33/40 [05:56<01:16, 10.92s/it]"
     ]
    },
    {
     "name": "stderr",
     "output_type": "stream",
     "text": [
      "\r",
      "TRAINING MODEL...:  85%|████████▌ | 34/40 [06:06<01:03, 10.60s/it]"
     ]
    },
    {
     "name": "stderr",
     "output_type": "stream",
     "text": [
      "\r",
      "TRAINING MODEL...:  88%|████████▊ | 35/40 [06:15<00:51, 10.27s/it]"
     ]
    },
    {
     "name": "stderr",
     "output_type": "stream",
     "text": [
      "\r",
      "TRAINING MODEL...:  90%|█████████ | 36/40 [06:25<00:40, 10.06s/it]"
     ]
    },
    {
     "name": "stderr",
     "output_type": "stream",
     "text": [
      "\r",
      "TRAINING MODEL...:  92%|█████████▎| 37/40 [06:35<00:30, 10.24s/it]"
     ]
    },
    {
     "name": "stderr",
     "output_type": "stream",
     "text": [
      "\r",
      "TRAINING MODEL...:  95%|█████████▌| 38/40 [06:46<00:20, 10.47s/it]"
     ]
    },
    {
     "name": "stderr",
     "output_type": "stream",
     "text": [
      "\r",
      "TRAINING MODEL...:  98%|█████████▊| 39/40 [06:56<00:10, 10.23s/it]"
     ]
    },
    {
     "name": "stderr",
     "output_type": "stream",
     "text": [
      "\r",
      "TRAINING MODEL...: 100%|██████████| 40/40 [06:57<00:00,  7.39s/it]"
     ]
    },
    {
     "name": "stderr",
     "output_type": "stream",
     "text": [
      "\r",
      "TRAINING MODEL...: 100%|██████████| 40/40 [06:57<00:00, 10.43s/it]"
     ]
    },
    {
     "name": "stderr",
     "output_type": "stream",
     "text": [
      "\n"
     ]
    },
    {
     "name": "stderr",
     "output_type": "stream",
     "text": [
      "\r",
      "EVALUATING MODEL...:   0%|          | 0/10 [00:00<?, ?it/s]"
     ]
    },
    {
     "name": "stderr",
     "output_type": "stream",
     "text": [
      "\r",
      "EVALUATING MODEL...:  10%|█         | 1/10 [00:04<00:43,  4.86s/it]"
     ]
    },
    {
     "name": "stderr",
     "output_type": "stream",
     "text": [
      "\r",
      "EVALUATING MODEL...:  20%|██        | 2/10 [00:08<00:35,  4.39s/it]"
     ]
    },
    {
     "name": "stderr",
     "output_type": "stream",
     "text": [
      "\r",
      "EVALUATING MODEL...:  30%|███       | 3/10 [00:13<00:31,  4.47s/it]"
     ]
    },
    {
     "name": "stderr",
     "output_type": "stream",
     "text": [
      "\r",
      "EVALUATING MODEL...:  40%|████      | 4/10 [00:17<00:26,  4.34s/it]"
     ]
    },
    {
     "name": "stderr",
     "output_type": "stream",
     "text": [
      "\r",
      "EVALUATING MODEL...:  50%|█████     | 5/10 [00:23<00:25,  5.02s/it]"
     ]
    },
    {
     "name": "stderr",
     "output_type": "stream",
     "text": [
      "\r",
      "EVALUATING MODEL...:  60%|██████    | 6/10 [00:29<00:20,  5.10s/it]"
     ]
    },
    {
     "name": "stderr",
     "output_type": "stream",
     "text": [
      "\r",
      "EVALUATING MODEL...:  70%|███████   | 7/10 [00:33<00:15,  5.02s/it]"
     ]
    },
    {
     "name": "stderr",
     "output_type": "stream",
     "text": [
      "\r",
      "EVALUATING MODEL...:  80%|████████  | 8/10 [00:38<00:09,  4.73s/it]"
     ]
    },
    {
     "name": "stderr",
     "output_type": "stream",
     "text": [
      "\r",
      "EVALUATING MODEL...:  90%|█████████ | 9/10 [00:42<00:04,  4.78s/it]"
     ]
    },
    {
     "name": "stderr",
     "output_type": "stream",
     "text": [
      "\r",
      "EVALUATING MODEL...: 100%|██████████| 10/10 [00:46<00:00,  4.51s/it]"
     ]
    },
    {
     "name": "stderr",
     "output_type": "stream",
     "text": [
      "\r",
      "EVALUATING MODEL...: 100%|██████████| 10/10 [00:46<00:00,  4.69s/it]"
     ]
    },
    {
     "name": "stderr",
     "output_type": "stream",
     "text": [
      "\n"
     ]
    },
    {
     "name": "stdout",
     "output_type": "stream",
     "text": [
      "epoch: 6\n",
      "train_loss: 0.440, train_acc: 0.790\n",
      "validation_loss: 0.478, validation_acc: 0.772\n"
     ]
    },
    {
     "name": "stderr",
     "output_type": "stream",
     "text": [
      "\r",
      "TRAINING MODEL...:   0%|          | 0/40 [00:00<?, ?it/s]"
     ]
    },
    {
     "name": "stderr",
     "output_type": "stream",
     "text": [
      "\r",
      "TRAINING MODEL...:   2%|▎         | 1/40 [00:09<06:03,  9.31s/it]"
     ]
    },
    {
     "name": "stderr",
     "output_type": "stream",
     "text": [
      "\r",
      "TRAINING MODEL...:   5%|▌         | 2/40 [00:20<06:28, 10.22s/it]"
     ]
    },
    {
     "name": "stderr",
     "output_type": "stream",
     "text": [
      "\r",
      "TRAINING MODEL...:   8%|▊         | 3/40 [00:29<06:09,  9.98s/it]"
     ]
    },
    {
     "name": "stderr",
     "output_type": "stream",
     "text": [
      "\r",
      "TRAINING MODEL...:  10%|█         | 4/40 [00:40<06:04, 10.12s/it]"
     ]
    },
    {
     "name": "stderr",
     "output_type": "stream",
     "text": [
      "\r",
      "TRAINING MODEL...:  12%|█▎        | 5/40 [00:51<06:03, 10.37s/it]"
     ]
    },
    {
     "name": "stderr",
     "output_type": "stream",
     "text": [
      "\r",
      "TRAINING MODEL...:  15%|█▌        | 6/40 [01:01<05:57, 10.53s/it]"
     ]
    },
    {
     "name": "stderr",
     "output_type": "stream",
     "text": [
      "\r",
      "TRAINING MODEL...:  18%|█▊        | 7/40 [01:12<05:53, 10.73s/it]"
     ]
    },
    {
     "name": "stderr",
     "output_type": "stream",
     "text": [
      "\r",
      "TRAINING MODEL...:  20%|██        | 8/40 [01:22<05:33, 10.43s/it]"
     ]
    },
    {
     "name": "stderr",
     "output_type": "stream",
     "text": [
      "\r",
      "TRAINING MODEL...:  22%|██▎       | 9/40 [01:32<05:18, 10.26s/it]"
     ]
    },
    {
     "name": "stderr",
     "output_type": "stream",
     "text": [
      "\r",
      "TRAINING MODEL...:  25%|██▌       | 10/40 [01:44<05:20, 10.68s/it]"
     ]
    },
    {
     "name": "stderr",
     "output_type": "stream",
     "text": [
      "\r",
      "TRAINING MODEL...:  28%|██▊       | 11/40 [01:53<04:59, 10.33s/it]"
     ]
    },
    {
     "name": "stderr",
     "output_type": "stream",
     "text": [
      "\r",
      "TRAINING MODEL...:  30%|███       | 12/40 [02:04<04:48, 10.31s/it]"
     ]
    },
    {
     "name": "stderr",
     "output_type": "stream",
     "text": [
      "\r",
      "TRAINING MODEL...:  32%|███▎      | 13/40 [02:13<04:34, 10.17s/it]"
     ]
    },
    {
     "name": "stderr",
     "output_type": "stream",
     "text": [
      "\r",
      "TRAINING MODEL...:  35%|███▌      | 14/40 [02:23<04:18,  9.93s/it]"
     ]
    },
    {
     "name": "stderr",
     "output_type": "stream",
     "text": [
      "\r",
      "TRAINING MODEL...:  38%|███▊      | 15/40 [02:33<04:13, 10.15s/it]"
     ]
    },
    {
     "name": "stderr",
     "output_type": "stream",
     "text": [
      "\r",
      "TRAINING MODEL...:  40%|████      | 16/40 [02:44<04:05, 10.23s/it]"
     ]
    },
    {
     "name": "stderr",
     "output_type": "stream",
     "text": [
      "\r",
      "TRAINING MODEL...:  42%|████▎     | 17/40 [02:54<03:57, 10.35s/it]"
     ]
    },
    {
     "name": "stderr",
     "output_type": "stream",
     "text": [
      "\r",
      "TRAINING MODEL...:  45%|████▌     | 18/40 [03:08<04:08, 11.28s/it]"
     ]
    },
    {
     "name": "stderr",
     "output_type": "stream",
     "text": [
      "\r",
      "TRAINING MODEL...:  48%|████▊     | 19/40 [03:19<03:53, 11.10s/it]"
     ]
    },
    {
     "name": "stderr",
     "output_type": "stream",
     "text": [
      "\r",
      "TRAINING MODEL...:  50%|█████     | 20/40 [03:29<03:35, 10.78s/it]"
     ]
    },
    {
     "name": "stderr",
     "output_type": "stream",
     "text": [
      "\r",
      "TRAINING MODEL...:  52%|█████▎    | 21/40 [03:40<03:27, 10.91s/it]"
     ]
    },
    {
     "name": "stderr",
     "output_type": "stream",
     "text": [
      "\r",
      "TRAINING MODEL...:  55%|█████▌    | 22/40 [03:54<03:33, 11.84s/it]"
     ]
    },
    {
     "name": "stderr",
     "output_type": "stream",
     "text": [
      "\r",
      "TRAINING MODEL...:  57%|█████▊    | 23/40 [04:06<03:20, 11.78s/it]"
     ]
    },
    {
     "name": "stderr",
     "output_type": "stream",
     "text": [
      "\r",
      "TRAINING MODEL...:  60%|██████    | 24/40 [04:16<03:00, 11.27s/it]"
     ]
    },
    {
     "name": "stderr",
     "output_type": "stream",
     "text": [
      "\r",
      "TRAINING MODEL...:  62%|██████▎   | 25/40 [04:30<03:03, 12.21s/it]"
     ]
    },
    {
     "name": "stderr",
     "output_type": "stream",
     "text": [
      "\r",
      "TRAINING MODEL...:  65%|██████▌   | 26/40 [04:41<02:46, 11.87s/it]"
     ]
    },
    {
     "name": "stderr",
     "output_type": "stream",
     "text": [
      "\r",
      "TRAINING MODEL...:  68%|██████▊   | 27/40 [04:51<02:27, 11.37s/it]"
     ]
    },
    {
     "name": "stderr",
     "output_type": "stream",
     "text": [
      "\r",
      "TRAINING MODEL...:  70%|███████   | 28/40 [05:02<02:14, 11.22s/it]"
     ]
    },
    {
     "name": "stderr",
     "output_type": "stream",
     "text": [
      "\r",
      "TRAINING MODEL...:  72%|███████▎  | 29/40 [05:13<02:03, 11.18s/it]"
     ]
    },
    {
     "name": "stderr",
     "output_type": "stream",
     "text": [
      "\r",
      "TRAINING MODEL...:  75%|███████▌  | 30/40 [05:24<01:51, 11.16s/it]"
     ]
    },
    {
     "name": "stderr",
     "output_type": "stream",
     "text": [
      "\r",
      "TRAINING MODEL...:  78%|███████▊  | 31/40 [05:34<01:36, 10.72s/it]"
     ]
    },
    {
     "name": "stderr",
     "output_type": "stream",
     "text": [
      "\r",
      "TRAINING MODEL...:  80%|████████  | 32/40 [05:44<01:24, 10.56s/it]"
     ]
    },
    {
     "name": "stderr",
     "output_type": "stream",
     "text": [
      "\r",
      "TRAINING MODEL...:  82%|████████▎ | 33/40 [05:56<01:16, 10.87s/it]"
     ]
    },
    {
     "name": "stderr",
     "output_type": "stream",
     "text": [
      "\r",
      "TRAINING MODEL...:  85%|████████▌ | 34/40 [06:08<01:06, 11.13s/it]"
     ]
    },
    {
     "name": "stderr",
     "output_type": "stream",
     "text": [
      "\r",
      "TRAINING MODEL...:  88%|████████▊ | 35/40 [06:18<00:54, 10.95s/it]"
     ]
    },
    {
     "name": "stderr",
     "output_type": "stream",
     "text": [
      "\r",
      "TRAINING MODEL...:  90%|█████████ | 36/40 [06:28<00:42, 10.58s/it]"
     ]
    },
    {
     "name": "stderr",
     "output_type": "stream",
     "text": [
      "\r",
      "TRAINING MODEL...:  92%|█████████▎| 37/40 [06:38<00:31, 10.45s/it]"
     ]
    },
    {
     "name": "stderr",
     "output_type": "stream",
     "text": [
      "\r",
      "TRAINING MODEL...:  95%|█████████▌| 38/40 [06:49<00:21, 10.71s/it]"
     ]
    },
    {
     "name": "stderr",
     "output_type": "stream",
     "text": [
      "\r",
      "TRAINING MODEL...:  98%|█████████▊| 39/40 [07:01<00:10, 10.95s/it]"
     ]
    },
    {
     "name": "stderr",
     "output_type": "stream",
     "text": [
      "\r",
      "TRAINING MODEL...: 100%|██████████| 40/40 [07:02<00:00,  7.89s/it]"
     ]
    },
    {
     "name": "stderr",
     "output_type": "stream",
     "text": [
      "\r",
      "TRAINING MODEL...: 100%|██████████| 40/40 [07:02<00:00, 10.55s/it]"
     ]
    },
    {
     "name": "stderr",
     "output_type": "stream",
     "text": [
      "\n"
     ]
    },
    {
     "name": "stderr",
     "output_type": "stream",
     "text": [
      "\r",
      "EVALUATING MODEL...:   0%|          | 0/10 [00:00<?, ?it/s]"
     ]
    },
    {
     "name": "stderr",
     "output_type": "stream",
     "text": [
      "\r",
      "EVALUATING MODEL...:  10%|█         | 1/10 [00:04<00:43,  4.81s/it]"
     ]
    },
    {
     "name": "stderr",
     "output_type": "stream",
     "text": [
      "\r",
      "EVALUATING MODEL...:  20%|██        | 2/10 [00:09<00:36,  4.51s/it]"
     ]
    },
    {
     "name": "stderr",
     "output_type": "stream",
     "text": [
      "\r",
      "EVALUATING MODEL...:  30%|███       | 3/10 [00:13<00:30,  4.32s/it]"
     ]
    },
    {
     "name": "stderr",
     "output_type": "stream",
     "text": [
      "\r",
      "EVALUATING MODEL...:  40%|████      | 4/10 [00:17<00:25,  4.25s/it]"
     ]
    },
    {
     "name": "stderr",
     "output_type": "stream",
     "text": [
      "\r",
      "EVALUATING MODEL...:  50%|█████     | 5/10 [00:23<00:24,  4.97s/it]"
     ]
    },
    {
     "name": "stderr",
     "output_type": "stream",
     "text": [
      "\r",
      "EVALUATING MODEL...:  60%|██████    | 6/10 [00:29<00:20,  5.12s/it]"
     ]
    },
    {
     "name": "stderr",
     "output_type": "stream",
     "text": [
      "\r",
      "EVALUATING MODEL...:  70%|███████   | 7/10 [00:34<00:15,  5.14s/it]"
     ]
    },
    {
     "name": "stderr",
     "output_type": "stream",
     "text": [
      "\r",
      "EVALUATING MODEL...:  80%|████████  | 8/10 [00:38<00:09,  4.77s/it]"
     ]
    },
    {
     "name": "stderr",
     "output_type": "stream",
     "text": [
      "\r",
      "EVALUATING MODEL...:  90%|█████████ | 9/10 [00:43<00:04,  4.87s/it]"
     ]
    },
    {
     "name": "stderr",
     "output_type": "stream",
     "text": [
      "\r",
      "EVALUATING MODEL...: 100%|██████████| 10/10 [00:47<00:00,  4.53s/it]"
     ]
    },
    {
     "name": "stderr",
     "output_type": "stream",
     "text": [
      "\r",
      "EVALUATING MODEL...: 100%|██████████| 10/10 [00:47<00:00,  4.70s/it]"
     ]
    },
    {
     "name": "stderr",
     "output_type": "stream",
     "text": [
      "\n"
     ]
    },
    {
     "name": "stdout",
     "output_type": "stream",
     "text": [
      "epoch: 7\n",
      "train_loss: 0.415, train_acc: 0.804\n",
      "validation_loss: 0.473, validation_acc: 0.768\n"
     ]
    },
    {
     "name": "stderr",
     "output_type": "stream",
     "text": [
      "\r",
      "TRAINING MODEL...:   0%|          | 0/40 [00:00<?, ?it/s]"
     ]
    },
    {
     "name": "stderr",
     "output_type": "stream",
     "text": [
      "\r",
      "TRAINING MODEL...:   2%|▎         | 1/40 [00:14<09:11, 14.15s/it]"
     ]
    },
    {
     "name": "stderr",
     "output_type": "stream",
     "text": [
      "\r",
      "TRAINING MODEL...:   5%|▌         | 2/40 [00:25<07:48, 12.34s/it]"
     ]
    },
    {
     "name": "stderr",
     "output_type": "stream",
     "text": [
      "\r",
      "TRAINING MODEL...:   8%|▊         | 3/40 [00:35<07:08, 11.59s/it]"
     ]
    },
    {
     "name": "stderr",
     "output_type": "stream",
     "text": [
      "\r",
      "TRAINING MODEL...:  10%|█         | 4/40 [00:46<06:48, 11.35s/it]"
     ]
    },
    {
     "name": "stderr",
     "output_type": "stream",
     "text": [
      "\r",
      "TRAINING MODEL...:  12%|█▎        | 5/40 [00:57<06:22, 10.92s/it]"
     ]
    },
    {
     "name": "stderr",
     "output_type": "stream",
     "text": [
      "\r",
      "TRAINING MODEL...:  15%|█▌        | 6/40 [01:11<06:55, 12.23s/it]"
     ]
    },
    {
     "name": "stderr",
     "output_type": "stream",
     "text": [
      "\r",
      "TRAINING MODEL...:  18%|█▊        | 7/40 [01:21<06:17, 11.44s/it]"
     ]
    },
    {
     "name": "stderr",
     "output_type": "stream",
     "text": [
      "\r",
      "TRAINING MODEL...:  20%|██        | 8/40 [01:32<06:04, 11.38s/it]"
     ]
    },
    {
     "name": "stderr",
     "output_type": "stream",
     "text": [
      "\r",
      "TRAINING MODEL...:  22%|██▎       | 9/40 [01:43<05:43, 11.07s/it]"
     ]
    },
    {
     "name": "stderr",
     "output_type": "stream",
     "text": [
      "\r",
      "TRAINING MODEL...:  25%|██▌       | 10/40 [01:54<05:32, 11.07s/it]"
     ]
    },
    {
     "name": "stderr",
     "output_type": "stream",
     "text": [
      "\r",
      "TRAINING MODEL...:  28%|██▊       | 11/40 [02:05<05:20, 11.04s/it]"
     ]
    },
    {
     "name": "stderr",
     "output_type": "stream",
     "text": [
      "\r",
      "TRAINING MODEL...:  30%|███       | 12/40 [02:14<04:55, 10.56s/it]"
     ]
    },
    {
     "name": "stderr",
     "output_type": "stream",
     "text": [
      "\r",
      "TRAINING MODEL...:  32%|███▎      | 13/40 [02:26<04:53, 10.88s/it]"
     ]
    },
    {
     "name": "stderr",
     "output_type": "stream",
     "text": [
      "\r",
      "TRAINING MODEL...:  35%|███▌      | 14/40 [02:36<04:35, 10.58s/it]"
     ]
    },
    {
     "name": "stderr",
     "output_type": "stream",
     "text": [
      "\r",
      "TRAINING MODEL...:  38%|███▊      | 15/40 [02:47<04:26, 10.65s/it]"
     ]
    },
    {
     "name": "stderr",
     "output_type": "stream",
     "text": [
      "\r",
      "TRAINING MODEL...:  40%|████      | 16/40 [02:58<04:23, 10.99s/it]"
     ]
    },
    {
     "name": "stderr",
     "output_type": "stream",
     "text": [
      "\r",
      "TRAINING MODEL...:  42%|████▎     | 17/40 [03:09<04:12, 10.96s/it]"
     ]
    },
    {
     "name": "stderr",
     "output_type": "stream",
     "text": [
      "\r",
      "TRAINING MODEL...:  45%|████▌     | 18/40 [03:19<03:52, 10.57s/it]"
     ]
    },
    {
     "name": "stderr",
     "output_type": "stream",
     "text": [
      "\r",
      "TRAINING MODEL...:  48%|████▊     | 19/40 [03:30<03:45, 10.75s/it]"
     ]
    },
    {
     "name": "stderr",
     "output_type": "stream",
     "text": [
      "\r",
      "TRAINING MODEL...:  50%|█████     | 20/40 [03:40<03:28, 10.43s/it]"
     ]
    },
    {
     "name": "stderr",
     "output_type": "stream",
     "text": [
      "\r",
      "TRAINING MODEL...:  52%|█████▎    | 21/40 [03:50<03:16, 10.34s/it]"
     ]
    },
    {
     "name": "stderr",
     "output_type": "stream",
     "text": [
      "\r",
      "TRAINING MODEL...:  55%|█████▌    | 22/40 [04:01<03:09, 10.52s/it]"
     ]
    },
    {
     "name": "stderr",
     "output_type": "stream",
     "text": [
      "\r",
      "TRAINING MODEL...:  57%|█████▊    | 23/40 [04:11<02:57, 10.43s/it]"
     ]
    },
    {
     "name": "stderr",
     "output_type": "stream",
     "text": [
      "\r",
      "TRAINING MODEL...:  60%|██████    | 24/40 [04:21<02:44, 10.27s/it]"
     ]
    },
    {
     "name": "stderr",
     "output_type": "stream",
     "text": [
      "\r",
      "TRAINING MODEL...:  62%|██████▎   | 25/40 [04:33<02:39, 10.64s/it]"
     ]
    },
    {
     "name": "stderr",
     "output_type": "stream",
     "text": [
      "\r",
      "TRAINING MODEL...:  65%|██████▌   | 26/40 [04:43<02:30, 10.73s/it]"
     ]
    },
    {
     "name": "stderr",
     "output_type": "stream",
     "text": [
      "\r",
      "TRAINING MODEL...:  68%|██████▊   | 27/40 [04:55<02:23, 11.01s/it]"
     ]
    },
    {
     "name": "stderr",
     "output_type": "stream",
     "text": [
      "\r",
      "TRAINING MODEL...:  70%|███████   | 28/40 [05:05<02:08, 10.72s/it]"
     ]
    },
    {
     "name": "stderr",
     "output_type": "stream",
     "text": [
      "\r",
      "TRAINING MODEL...:  72%|███████▎  | 29/40 [05:15<01:56, 10.57s/it]"
     ]
    },
    {
     "name": "stderr",
     "output_type": "stream",
     "text": [
      "\r",
      "TRAINING MODEL...:  75%|███████▌  | 30/40 [05:26<01:45, 10.58s/it]"
     ]
    },
    {
     "name": "stderr",
     "output_type": "stream",
     "text": [
      "\r",
      "TRAINING MODEL...:  78%|███████▊  | 31/40 [05:36<01:33, 10.41s/it]"
     ]
    },
    {
     "name": "stderr",
     "output_type": "stream",
     "text": [
      "\r",
      "TRAINING MODEL...:  80%|████████  | 32/40 [05:46<01:22, 10.30s/it]"
     ]
    },
    {
     "name": "stderr",
     "output_type": "stream",
     "text": [
      "\r",
      "TRAINING MODEL...:  82%|████████▎ | 33/40 [06:00<01:19, 11.41s/it]"
     ]
    },
    {
     "name": "stderr",
     "output_type": "stream",
     "text": [
      "\r",
      "TRAINING MODEL...:  85%|████████▌ | 34/40 [06:11<01:07, 11.29s/it]"
     ]
    },
    {
     "name": "stderr",
     "output_type": "stream",
     "text": [
      "\r",
      "TRAINING MODEL...:  88%|████████▊ | 35/40 [06:21<00:54, 10.95s/it]"
     ]
    },
    {
     "name": "stderr",
     "output_type": "stream",
     "text": [
      "\r",
      "TRAINING MODEL...:  90%|█████████ | 36/40 [06:32<00:44, 11.00s/it]"
     ]
    },
    {
     "name": "stderr",
     "output_type": "stream",
     "text": [
      "\r",
      "TRAINING MODEL...:  92%|█████████▎| 37/40 [06:42<00:32, 10.72s/it]"
     ]
    },
    {
     "name": "stderr",
     "output_type": "stream",
     "text": [
      "\r",
      "TRAINING MODEL...:  95%|█████████▌| 38/40 [06:53<00:21, 10.69s/it]"
     ]
    },
    {
     "name": "stderr",
     "output_type": "stream",
     "text": [
      "\r",
      "TRAINING MODEL...:  98%|█████████▊| 39/40 [07:03<00:10, 10.50s/it]"
     ]
    },
    {
     "name": "stderr",
     "output_type": "stream",
     "text": [
      "\r",
      "TRAINING MODEL...: 100%|██████████| 40/40 [07:04<00:00,  7.55s/it]"
     ]
    },
    {
     "name": "stderr",
     "output_type": "stream",
     "text": [
      "\r",
      "TRAINING MODEL...: 100%|██████████| 40/40 [07:04<00:00, 10.61s/it]"
     ]
    },
    {
     "name": "stderr",
     "output_type": "stream",
     "text": [
      "\n"
     ]
    },
    {
     "name": "stderr",
     "output_type": "stream",
     "text": [
      "\r",
      "EVALUATING MODEL...:   0%|          | 0/10 [00:00<?, ?it/s]"
     ]
    },
    {
     "name": "stderr",
     "output_type": "stream",
     "text": [
      "\r",
      "EVALUATING MODEL...:  10%|█         | 1/10 [00:05<00:45,  5.02s/it]"
     ]
    },
    {
     "name": "stderr",
     "output_type": "stream",
     "text": [
      "\r",
      "EVALUATING MODEL...:  20%|██        | 2/10 [00:09<00:35,  4.42s/it]"
     ]
    },
    {
     "name": "stderr",
     "output_type": "stream",
     "text": [
      "\r",
      "EVALUATING MODEL...:  30%|███       | 3/10 [00:13<00:29,  4.27s/it]"
     ]
    },
    {
     "name": "stderr",
     "output_type": "stream",
     "text": [
      "\r",
      "EVALUATING MODEL...:  40%|████      | 4/10 [00:17<00:26,  4.35s/it]"
     ]
    },
    {
     "name": "stderr",
     "output_type": "stream",
     "text": [
      "\r",
      "EVALUATING MODEL...:  50%|█████     | 5/10 [00:23<00:25,  5.05s/it]"
     ]
    },
    {
     "name": "stderr",
     "output_type": "stream",
     "text": [
      "\r",
      "EVALUATING MODEL...:  60%|██████    | 6/10 [00:28<00:20,  5.03s/it]"
     ]
    },
    {
     "name": "stderr",
     "output_type": "stream",
     "text": [
      "\r",
      "EVALUATING MODEL...:  70%|███████   | 7/10 [00:34<00:15,  5.08s/it]"
     ]
    },
    {
     "name": "stderr",
     "output_type": "stream",
     "text": [
      "\r",
      "EVALUATING MODEL...:  80%|████████  | 8/10 [00:38<00:09,  4.82s/it]"
     ]
    },
    {
     "name": "stderr",
     "output_type": "stream",
     "text": [
      "\r",
      "EVALUATING MODEL...:  90%|█████████ | 9/10 [00:43<00:04,  4.91s/it]"
     ]
    },
    {
     "name": "stderr",
     "output_type": "stream",
     "text": [
      "\r",
      "EVALUATING MODEL...: 100%|██████████| 10/10 [00:47<00:00,  4.55s/it]"
     ]
    },
    {
     "name": "stderr",
     "output_type": "stream",
     "text": [
      "\r",
      "EVALUATING MODEL...: 100%|██████████| 10/10 [00:47<00:00,  4.72s/it]"
     ]
    },
    {
     "name": "stderr",
     "output_type": "stream",
     "text": [
      "\n"
     ]
    },
    {
     "name": "stdout",
     "output_type": "stream",
     "text": [
      "epoch: 8\n",
      "train_loss: 0.384, train_acc: 0.822\n",
      "validation_loss: 0.495, validation_acc: 0.762\n"
     ]
    },
    {
     "name": "stderr",
     "output_type": "stream",
     "text": [
      "\r",
      "TRAINING MODEL...:   0%|          | 0/40 [00:00<?, ?it/s]"
     ]
    },
    {
     "name": "stderr",
     "output_type": "stream",
     "text": [
      "\r",
      "TRAINING MODEL...:   2%|▎         | 1/40 [00:11<07:23, 11.36s/it]"
     ]
    },
    {
     "name": "stderr",
     "output_type": "stream",
     "text": [
      "\r",
      "TRAINING MODEL...:   5%|▌         | 2/40 [00:23<07:38, 12.06s/it]"
     ]
    },
    {
     "name": "stderr",
     "output_type": "stream",
     "text": [
      "\r",
      "TRAINING MODEL...:   8%|▊         | 3/40 [00:35<07:18, 11.86s/it]"
     ]
    },
    {
     "name": "stderr",
     "output_type": "stream",
     "text": [
      "\r",
      "TRAINING MODEL...:  10%|█         | 4/40 [00:47<07:10, 11.96s/it]"
     ]
    },
    {
     "name": "stderr",
     "output_type": "stream",
     "text": [
      "\r",
      "TRAINING MODEL...:  12%|█▎        | 5/40 [00:59<07:02, 12.07s/it]"
     ]
    },
    {
     "name": "stderr",
     "output_type": "stream",
     "text": [
      "\r",
      "TRAINING MODEL...:  15%|█▌        | 6/40 [01:12<06:51, 12.09s/it]"
     ]
    },
    {
     "name": "stderr",
     "output_type": "stream",
     "text": [
      "\r",
      "TRAINING MODEL...:  18%|█▊        | 7/40 [01:23<06:30, 11.84s/it]"
     ]
    },
    {
     "name": "stderr",
     "output_type": "stream",
     "text": [
      "\r",
      "TRAINING MODEL...:  20%|██        | 8/40 [01:34<06:16, 11.76s/it]"
     ]
    },
    {
     "name": "stderr",
     "output_type": "stream",
     "text": [
      "\r",
      "TRAINING MODEL...:  22%|██▎       | 9/40 [01:46<06:02, 11.70s/it]"
     ]
    },
    {
     "name": "stderr",
     "output_type": "stream",
     "text": [
      "\r",
      "TRAINING MODEL...:  25%|██▌       | 10/40 [01:56<05:36, 11.23s/it]"
     ]
    },
    {
     "name": "stderr",
     "output_type": "stream",
     "text": [
      "\r",
      "TRAINING MODEL...:  28%|██▊       | 11/40 [02:07<05:19, 11.00s/it]"
     ]
    },
    {
     "name": "stderr",
     "output_type": "stream",
     "text": [
      "\r",
      "TRAINING MODEL...:  30%|███       | 12/40 [02:22<05:46, 12.39s/it]"
     ]
    },
    {
     "name": "stderr",
     "output_type": "stream",
     "text": [
      "\r",
      "TRAINING MODEL...:  32%|███▎      | 13/40 [02:37<05:53, 13.09s/it]"
     ]
    },
    {
     "name": "stderr",
     "output_type": "stream",
     "text": [
      "\r",
      "TRAINING MODEL...:  35%|███▌      | 14/40 [02:47<05:19, 12.30s/it]"
     ]
    },
    {
     "name": "stderr",
     "output_type": "stream",
     "text": [
      "\r",
      "TRAINING MODEL...:  38%|███▊      | 15/40 [02:58<04:56, 11.86s/it]"
     ]
    },
    {
     "name": "stderr",
     "output_type": "stream",
     "text": [
      "\r",
      "TRAINING MODEL...:  40%|████      | 16/40 [03:09<04:36, 11.51s/it]"
     ]
    },
    {
     "name": "stderr",
     "output_type": "stream",
     "text": [
      "\r",
      "TRAINING MODEL...:  42%|████▎     | 17/40 [03:19<04:15, 11.10s/it]"
     ]
    },
    {
     "name": "stderr",
     "output_type": "stream",
     "text": [
      "\r",
      "TRAINING MODEL...:  45%|████▌     | 18/40 [03:29<03:54, 10.67s/it]"
     ]
    },
    {
     "name": "stderr",
     "output_type": "stream",
     "text": [
      "\r",
      "TRAINING MODEL...:  48%|████▊     | 19/40 [03:43<04:05, 11.68s/it]"
     ]
    },
    {
     "name": "stderr",
     "output_type": "stream",
     "text": [
      "\r",
      "TRAINING MODEL...:  50%|█████     | 20/40 [03:53<03:43, 11.17s/it]"
     ]
    },
    {
     "name": "stderr",
     "output_type": "stream",
     "text": [
      "\r",
      "TRAINING MODEL...:  52%|█████▎    | 21/40 [04:02<03:23, 10.73s/it]"
     ]
    },
    {
     "name": "stderr",
     "output_type": "stream",
     "text": [
      "\r",
      "TRAINING MODEL...:  55%|█████▌    | 22/40 [04:14<03:19, 11.09s/it]"
     ]
    },
    {
     "name": "stderr",
     "output_type": "stream",
     "text": [
      "\r",
      "TRAINING MODEL...:  57%|█████▊    | 23/40 [04:25<03:06, 10.98s/it]"
     ]
    },
    {
     "name": "stderr",
     "output_type": "stream",
     "text": [
      "\r",
      "TRAINING MODEL...:  60%|██████    | 24/40 [04:36<02:55, 10.95s/it]"
     ]
    },
    {
     "name": "stderr",
     "output_type": "stream",
     "text": [
      "\r",
      "TRAINING MODEL...:  62%|██████▎   | 25/40 [04:47<02:44, 10.97s/it]"
     ]
    },
    {
     "name": "stderr",
     "output_type": "stream",
     "text": [
      "\r",
      "TRAINING MODEL...:  65%|██████▌   | 26/40 [04:57<02:28, 10.63s/it]"
     ]
    },
    {
     "name": "stderr",
     "output_type": "stream",
     "text": [
      "\r",
      "TRAINING MODEL...:  68%|██████▊   | 27/40 [05:07<02:15, 10.43s/it]"
     ]
    },
    {
     "name": "stderr",
     "output_type": "stream",
     "text": [
      "\r",
      "TRAINING MODEL...:  70%|███████   | 28/40 [05:17<02:03, 10.30s/it]"
     ]
    },
    {
     "name": "stderr",
     "output_type": "stream",
     "text": [
      "\r",
      "TRAINING MODEL...:  72%|███████▎  | 29/40 [05:27<01:53, 10.28s/it]"
     ]
    },
    {
     "name": "stderr",
     "output_type": "stream",
     "text": [
      "\r",
      "TRAINING MODEL...:  75%|███████▌  | 30/40 [05:38<01:44, 10.50s/it]"
     ]
    },
    {
     "name": "stderr",
     "output_type": "stream",
     "text": [
      "\r",
      "TRAINING MODEL...:  78%|███████▊  | 31/40 [05:48<01:32, 10.33s/it]"
     ]
    },
    {
     "name": "stderr",
     "output_type": "stream",
     "text": [
      "\r",
      "TRAINING MODEL...:  80%|████████  | 32/40 [05:59<01:24, 10.54s/it]"
     ]
    },
    {
     "name": "stderr",
     "output_type": "stream",
     "text": [
      "\r",
      "TRAINING MODEL...:  82%|████████▎ | 33/40 [06:09<01:13, 10.45s/it]"
     ]
    },
    {
     "name": "stderr",
     "output_type": "stream",
     "text": [
      "\r",
      "TRAINING MODEL...:  85%|████████▌ | 34/40 [06:20<01:02, 10.45s/it]"
     ]
    },
    {
     "name": "stderr",
     "output_type": "stream",
     "text": [
      "\r",
      "TRAINING MODEL...:  88%|████████▊ | 35/40 [06:32<00:54, 10.89s/it]"
     ]
    },
    {
     "name": "stderr",
     "output_type": "stream",
     "text": [
      "\r",
      "TRAINING MODEL...:  90%|█████████ | 36/40 [06:42<00:43, 10.84s/it]"
     ]
    },
    {
     "name": "stderr",
     "output_type": "stream",
     "text": [
      "\r",
      "TRAINING MODEL...:  92%|█████████▎| 37/40 [06:52<00:31, 10.44s/it]"
     ]
    },
    {
     "name": "stderr",
     "output_type": "stream",
     "text": [
      "\r",
      "TRAINING MODEL...:  95%|█████████▌| 38/40 [07:03<00:21, 10.62s/it]"
     ]
    },
    {
     "name": "stderr",
     "output_type": "stream",
     "text": [
      "\r",
      "TRAINING MODEL...:  98%|█████████▊| 39/40 [07:14<00:10, 10.85s/it]"
     ]
    },
    {
     "name": "stderr",
     "output_type": "stream",
     "text": [
      "\r",
      "TRAINING MODEL...: 100%|██████████| 40/40 [07:15<00:00,  7.80s/it]"
     ]
    },
    {
     "name": "stderr",
     "output_type": "stream",
     "text": [
      "\r",
      "TRAINING MODEL...: 100%|██████████| 40/40 [07:15<00:00, 10.89s/it]"
     ]
    },
    {
     "name": "stderr",
     "output_type": "stream",
     "text": [
      "\n"
     ]
    },
    {
     "name": "stderr",
     "output_type": "stream",
     "text": [
      "\r",
      "EVALUATING MODEL...:   0%|          | 0/10 [00:00<?, ?it/s]"
     ]
    },
    {
     "name": "stderr",
     "output_type": "stream",
     "text": [
      "\r",
      "EVALUATING MODEL...:  10%|█         | 1/10 [00:05<00:46,  5.12s/it]"
     ]
    },
    {
     "name": "stderr",
     "output_type": "stream",
     "text": [
      "\r",
      "EVALUATING MODEL...:  20%|██        | 2/10 [00:09<00:35,  4.46s/it]"
     ]
    },
    {
     "name": "stderr",
     "output_type": "stream",
     "text": [
      "\r",
      "EVALUATING MODEL...:  30%|███       | 3/10 [00:13<00:30,  4.32s/it]"
     ]
    },
    {
     "name": "stderr",
     "output_type": "stream",
     "text": [
      "\r",
      "EVALUATING MODEL...:  40%|████      | 4/10 [00:18<00:27,  4.57s/it]"
     ]
    },
    {
     "name": "stderr",
     "output_type": "stream",
     "text": [
      "\r",
      "EVALUATING MODEL...:  50%|█████     | 5/10 [00:24<00:26,  5.21s/it]"
     ]
    },
    {
     "name": "stderr",
     "output_type": "stream",
     "text": [
      "\r",
      "EVALUATING MODEL...:  60%|██████    | 6/10 [00:29<00:21,  5.25s/it]"
     ]
    },
    {
     "name": "stderr",
     "output_type": "stream",
     "text": [
      "\r",
      "EVALUATING MODEL...:  70%|███████   | 7/10 [00:35<00:15,  5.24s/it]"
     ]
    },
    {
     "name": "stderr",
     "output_type": "stream",
     "text": [
      "\r",
      "EVALUATING MODEL...:  80%|████████  | 8/10 [00:39<00:09,  4.87s/it]"
     ]
    },
    {
     "name": "stderr",
     "output_type": "stream",
     "text": [
      "\r",
      "EVALUATING MODEL...:  90%|█████████ | 9/10 [00:44<00:04,  4.91s/it]"
     ]
    },
    {
     "name": "stderr",
     "output_type": "stream",
     "text": [
      "\r",
      "EVALUATING MODEL...: 100%|██████████| 10/10 [00:47<00:00,  4.52s/it]"
     ]
    },
    {
     "name": "stderr",
     "output_type": "stream",
     "text": [
      "\r",
      "EVALUATING MODEL...: 100%|██████████| 10/10 [00:47<00:00,  4.78s/it]"
     ]
    },
    {
     "name": "stdout",
     "output_type": "stream",
     "text": [
      "epoch: 9\n",
      "train_loss: 0.350, train_acc: 0.844\n",
      "validation_loss: 0.498, validation_acc: 0.763\n"
     ]
    },
    {
     "name": "stderr",
     "output_type": "stream",
     "text": [
      "\n"
     ]
    }
   ],
   "source": [
    "n_epochs = 10\n",
    "best_validation_loss = float(\"inf\")\n",
    "\n",
    "metrics = collections.defaultdict(list)\n",
    "\n",
    "for epoch in range(n_epochs):\n",
    "    train_loss, train_acc = run(\n",
    "        train_dataloader, model_bert, criterion, optimizer_bert, device, embedding=\"bert_embeddings\"\n",
    "    )\n",
    "    validation_loss, validation_acc = run(validation_dataloader, model_bert, criterion, optimizer_bert, device, embedding=\"bert_embeddings\", is_eval=True)\n",
    "    metrics[\"train_losses\"].append(train_loss)\n",
    "    metrics[\"train_accs\"].append(train_acc)\n",
    "    metrics[\"validation_losses\"].append(validation_loss)\n",
    "    metrics[\"validation_accs\"].append(validation_acc)\n",
    "    if validation_loss < best_validation_loss:\n",
    "        best_validation_loss = validation_loss\n",
    "        torch.save(model_bert.state_dict(), \"lstm.pt\")\n",
    "    print(f\"epoch: {epoch}\")\n",
    "    print(f\"train_loss: {train_loss:.3f}, train_acc: {train_acc:.3f}\")\n",
    "    print(f\"validation_loss: {validation_loss:.3f}, validation_acc: {validation_acc:.3f}\")"
   ]
  },
  {
   "cell_type": "code",
   "execution_count": 34,
   "id": "7803fe6a",
   "metadata": {
    "execution": {
     "iopub.execute_input": "2024-05-06T21:13:51.905632Z",
     "iopub.status.busy": "2024-05-06T21:13:51.905130Z",
     "iopub.status.idle": "2024-05-06T21:13:52.160767Z",
     "shell.execute_reply": "2024-05-06T21:13:52.160149Z"
    },
    "papermill": {
     "duration": 0.320198,
     "end_time": "2024-05-06T21:13:52.161987",
     "exception": false,
     "start_time": "2024-05-06T21:13:51.841789",
     "status": "completed"
    },
    "tags": []
   },
   "outputs": [
    {
     "data": {
      "image/png": "[encoded data removed]",
      "text/plain": [
       "<Figure size 1200x800 with 1 Axes>"
      ]
     },
     "metadata": {},
     "output_type": "display_data"
    }
   ],
   "source": [
    "fig = plt.figure(figsize=(12, 8))\n",
    "ax = fig.add_subplot(1, 1, 1)\n",
    "ax.plot(metrics[\"train_losses\"], label=\"train loss\")\n",
    "ax.plot(metrics[\"validation_losses\"], label=\"validation loss\")\n",
    "ax.set_xlabel(\"epoch\")\n",
    "ax.set_ylabel(\"loss\")\n",
    "ax.set_xticks(range(n_epochs))\n",
    "ax.legend()\n",
    "ax.grid()"
   ]
  },
  {
   "cell_type": "code",
   "execution_count": 35,
   "id": "ca6e6593",
   "metadata": {
    "execution": {
     "iopub.execute_input": "2024-05-06T21:13:52.290958Z",
     "iopub.status.busy": "2024-05-06T21:13:52.290585Z",
     "iopub.status.idle": "2024-05-06T21:13:52.553338Z",
     "shell.execute_reply": "2024-05-06T21:13:52.552834Z"
    },
    "papermill": {
     "duration": 0.327492,
     "end_time": "2024-05-06T21:13:52.554766",
     "exception": false,
     "start_time": "2024-05-06T21:13:52.227274",
     "status": "completed"
    },
    "tags": []
   },
   "outputs": [
    {
     "data": {
      "image/png": "[encoded data removed]",
      "text/plain": [
       "<Figure size 1200x800 with 1 Axes>"
      ]
     },
     "metadata": {},
     "output_type": "display_data"
    }
   ],
   "source": [
    "fig = plt.figure(figsize=(12, 8))\n",
    "ax = fig.add_subplot(1, 1, 1)\n",
    "ax.plot(metrics[\"train_accs\"], label=\"train accuracy\")\n",
    "ax.plot(metrics[\"validation_accs\"], label=\"validation accuracy\")\n",
    "ax.set_xlabel(\"epoch\")\n",
    "ax.set_ylabel(\"accuracy\")\n",
    "ax.set_xticks(range(n_epochs))\n",
    "ax.legend()\n",
    "ax.grid()"
   ]
  },
  {
   "cell_type": "code",
   "execution_count": 36,
   "id": "61221990",
   "metadata": {
    "execution": {
     "iopub.execute_input": "2024-05-06T21:13:52.682632Z",
     "iopub.status.busy": "2024-05-06T21:13:52.682311Z",
     "iopub.status.idle": "2024-05-06T21:17:42.999176Z",
     "shell.execute_reply": "2024-05-06T21:17:42.998635Z"
    },
    "papermill": {
     "duration": 230.404403,
     "end_time": "2024-05-06T21:17:43.022777",
     "exception": false,
     "start_time": "2024-05-06T21:13:52.618374",
     "status": "completed"
    },
    "tags": []
   },
   "outputs": [
    {
     "name": "stderr",
     "output_type": "stream",
     "text": [
      "\r",
      "EVALUATING MODEL...:   0%|          | 0/49 [00:00<?, ?it/s]"
     ]
    },
    {
     "name": "stderr",
     "output_type": "stream",
     "text": [
      "\r",
      "EVALUATING MODEL...:   2%|▏         | 1/49 [00:05<04:38,  5.81s/it]"
     ]
    },
    {
     "name": "stderr",
     "output_type": "stream",
     "text": [
      "\r",
      "EVALUATING MODEL...:   4%|▍         | 2/49 [00:10<03:56,  5.02s/it]"
     ]
    },
    {
     "name": "stderr",
     "output_type": "stream",
     "text": [
      "\r",
      "EVALUATING MODEL...:   6%|▌         | 3/49 [00:15<03:49,  5.00s/it]"
     ]
    },
    {
     "name": "stderr",
     "output_type": "stream",
     "text": [
      "\r",
      "EVALUATING MODEL...:   8%|▊         | 4/49 [00:20<03:55,  5.24s/it]"
     ]
    },
    {
     "name": "stderr",
     "output_type": "stream",
     "text": [
      "\r",
      "EVALUATING MODEL...:  10%|█         | 5/49 [00:25<03:38,  4.97s/it]"
     ]
    },
    {
     "name": "stderr",
     "output_type": "stream",
     "text": [
      "\r",
      "EVALUATING MODEL...:  12%|█▏        | 6/49 [00:29<03:20,  4.67s/it]"
     ]
    },
    {
     "name": "stderr",
     "output_type": "stream",
     "text": [
      "\r",
      "EVALUATING MODEL...:  14%|█▍        | 7/49 [00:33<03:14,  4.63s/it]"
     ]
    },
    {
     "name": "stderr",
     "output_type": "stream",
     "text": [
      "\r",
      "EVALUATING MODEL...:  16%|█▋        | 8/49 [00:38<03:04,  4.50s/it]"
     ]
    },
    {
     "name": "stderr",
     "output_type": "stream",
     "text": [
      "\r",
      "EVALUATING MODEL...:  18%|█▊        | 9/49 [00:42<02:59,  4.50s/it]"
     ]
    },
    {
     "name": "stderr",
     "output_type": "stream",
     "text": [
      "\r",
      "EVALUATING MODEL...:  20%|██        | 10/49 [00:48<03:06,  4.78s/it]"
     ]
    },
    {
     "name": "stderr",
     "output_type": "stream",
     "text": [
      "\r",
      "EVALUATING MODEL...:  22%|██▏       | 11/49 [00:52<02:53,  4.56s/it]"
     ]
    },
    {
     "name": "stderr",
     "output_type": "stream",
     "text": [
      "\r",
      "EVALUATING MODEL...:  24%|██▍       | 12/49 [00:56<02:49,  4.58s/it]"
     ]
    },
    {
     "name": "stderr",
     "output_type": "stream",
     "text": [
      "\r",
      "EVALUATING MODEL...:  27%|██▋       | 13/49 [01:01<02:50,  4.75s/it]"
     ]
    },
    {
     "name": "stderr",
     "output_type": "stream",
     "text": [
      "\r",
      "EVALUATING MODEL...:  29%|██▊       | 14/49 [01:06<02:44,  4.70s/it]"
     ]
    },
    {
     "name": "stderr",
     "output_type": "stream",
     "text": [
      "\r",
      "EVALUATING MODEL...:  31%|███       | 15/49 [01:11<02:42,  4.77s/it]"
     ]
    },
    {
     "name": "stderr",
     "output_type": "stream",
     "text": [
      "\r",
      "EVALUATING MODEL...:  33%|███▎      | 16/49 [01:16<02:38,  4.80s/it]"
     ]
    },
    {
     "name": "stderr",
     "output_type": "stream",
     "text": [
      "\r",
      "EVALUATING MODEL...:  35%|███▍      | 17/49 [01:20<02:31,  4.72s/it]"
     ]
    },
    {
     "name": "stderr",
     "output_type": "stream",
     "text": [
      "\r",
      "EVALUATING MODEL...:  37%|███▋      | 18/49 [01:25<02:24,  4.68s/it]"
     ]
    },
    {
     "name": "stderr",
     "output_type": "stream",
     "text": [
      "\r",
      "EVALUATING MODEL...:  39%|███▉      | 19/49 [01:29<02:16,  4.56s/it]"
     ]
    },
    {
     "name": "stderr",
     "output_type": "stream",
     "text": [
      "\r",
      "EVALUATING MODEL...:  41%|████      | 20/49 [01:33<02:09,  4.47s/it]"
     ]
    },
    {
     "name": "stderr",
     "output_type": "stream",
     "text": [
      "\r",
      "EVALUATING MODEL...:  43%|████▎     | 21/49 [01:39<02:12,  4.72s/it]"
     ]
    },
    {
     "name": "stderr",
     "output_type": "stream",
     "text": [
      "\r",
      "EVALUATING MODEL...:  45%|████▍     | 22/49 [01:44<02:08,  4.77s/it]"
     ]
    },
    {
     "name": "stderr",
     "output_type": "stream",
     "text": [
      "\r",
      "EVALUATING MODEL...:  47%|████▋     | 23/49 [01:48<02:00,  4.64s/it]"
     ]
    },
    {
     "name": "stderr",
     "output_type": "stream",
     "text": [
      "\r",
      "EVALUATING MODEL...:  49%|████▉     | 24/49 [01:53<01:58,  4.72s/it]"
     ]
    },
    {
     "name": "stderr",
     "output_type": "stream",
     "text": [
      "\r",
      "EVALUATING MODEL...:  51%|█████     | 25/49 [01:58<01:54,  4.77s/it]"
     ]
    },
    {
     "name": "stderr",
     "output_type": "stream",
     "text": [
      "\r",
      "EVALUATING MODEL...:  53%|█████▎    | 26/49 [02:04<01:59,  5.18s/it]"
     ]
    },
    {
     "name": "stderr",
     "output_type": "stream",
     "text": [
      "\r",
      "EVALUATING MODEL...:  55%|█████▌    | 27/49 [02:08<01:47,  4.87s/it]"
     ]
    },
    {
     "name": "stderr",
     "output_type": "stream",
     "text": [
      "\r",
      "EVALUATING MODEL...:  57%|█████▋    | 28/49 [02:13<01:41,  4.81s/it]"
     ]
    },
    {
     "name": "stderr",
     "output_type": "stream",
     "text": [
      "\r",
      "EVALUATING MODEL...:  59%|█████▉    | 29/49 [02:17<01:32,  4.61s/it]"
     ]
    },
    {
     "name": "stderr",
     "output_type": "stream",
     "text": [
      "\r",
      "EVALUATING MODEL...:  61%|██████    | 30/49 [02:21<01:25,  4.49s/it]"
     ]
    },
    {
     "name": "stderr",
     "output_type": "stream",
     "text": [
      "\r",
      "EVALUATING MODEL...:  63%|██████▎   | 31/49 [02:26<01:23,  4.64s/it]"
     ]
    },
    {
     "name": "stderr",
     "output_type": "stream",
     "text": [
      "\r",
      "EVALUATING MODEL...:  65%|██████▌   | 32/49 [02:31<01:17,  4.57s/it]"
     ]
    },
    {
     "name": "stderr",
     "output_type": "stream",
     "text": [
      "\r",
      "EVALUATING MODEL...:  67%|██████▋   | 33/49 [02:36<01:17,  4.87s/it]"
     ]
    },
    {
     "name": "stderr",
     "output_type": "stream",
     "text": [
      "\r",
      "EVALUATING MODEL...:  69%|██████▉   | 34/49 [02:40<01:09,  4.64s/it]"
     ]
    },
    {
     "name": "stderr",
     "output_type": "stream",
     "text": [
      "\r",
      "EVALUATING MODEL...:  71%|███████▏  | 35/49 [02:45<01:05,  4.68s/it]"
     ]
    },
    {
     "name": "stderr",
     "output_type": "stream",
     "text": [
      "\r",
      "EVALUATING MODEL...:  73%|███████▎  | 36/49 [02:49<00:58,  4.51s/it]"
     ]
    },
    {
     "name": "stderr",
     "output_type": "stream",
     "text": [
      "\r",
      "EVALUATING MODEL...:  76%|███████▌  | 37/49 [02:53<00:53,  4.45s/it]"
     ]
    },
    {
     "name": "stderr",
     "output_type": "stream",
     "text": [
      "\r",
      "EVALUATING MODEL...:  78%|███████▊  | 38/49 [02:58<00:48,  4.37s/it]"
     ]
    },
    {
     "name": "stderr",
     "output_type": "stream",
     "text": [
      "\r",
      "EVALUATING MODEL...:  80%|███████▉  | 39/49 [03:02<00:43,  4.40s/it]"
     ]
    },
    {
     "name": "stderr",
     "output_type": "stream",
     "text": [
      "\r",
      "EVALUATING MODEL...:  82%|████████▏ | 40/49 [03:06<00:39,  4.37s/it]"
     ]
    },
    {
     "name": "stderr",
     "output_type": "stream",
     "text": [
      "\r",
      "EVALUATING MODEL...:  84%|████████▎ | 41/49 [03:11<00:35,  4.40s/it]"
     ]
    },
    {
     "name": "stderr",
     "output_type": "stream",
     "text": [
      "\r",
      "EVALUATING MODEL...:  86%|████████▌ | 42/49 [03:15<00:30,  4.31s/it]"
     ]
    },
    {
     "name": "stderr",
     "output_type": "stream",
     "text": [
      "\r",
      "EVALUATING MODEL...:  88%|████████▊ | 43/49 [03:19<00:26,  4.36s/it]"
     ]
    },
    {
     "name": "stderr",
     "output_type": "stream",
     "text": [
      "\r",
      "EVALUATING MODEL...:  90%|████████▉ | 44/49 [03:24<00:22,  4.41s/it]"
     ]
    },
    {
     "name": "stderr",
     "output_type": "stream",
     "text": [
      "\r",
      "EVALUATING MODEL...:  92%|█████████▏| 45/49 [03:31<00:20,  5.11s/it]"
     ]
    },
    {
     "name": "stderr",
     "output_type": "stream",
     "text": [
      "\r",
      "EVALUATING MODEL...:  94%|█████████▍| 46/49 [03:34<00:14,  4.72s/it]"
     ]
    },
    {
     "name": "stderr",
     "output_type": "stream",
     "text": [
      "\r",
      "EVALUATING MODEL...:  96%|█████████▌| 47/49 [03:39<00:09,  4.62s/it]"
     ]
    },
    {
     "name": "stderr",
     "output_type": "stream",
     "text": [
      "\r",
      "EVALUATING MODEL...:  98%|█████████▊| 48/49 [03:43<00:04,  4.47s/it]"
     ]
    },
    {
     "name": "stderr",
     "output_type": "stream",
     "text": [
      "\r",
      "EVALUATING MODEL...: 100%|██████████| 49/49 [03:50<00:00,  5.15s/it]"
     ]
    },
    {
     "name": "stderr",
     "output_type": "stream",
     "text": [
      "\r",
      "EVALUATING MODEL...: 100%|██████████| 49/49 [03:50<00:00,  4.70s/it]"
     ]
    },
    {
     "name": "stdout",
     "output_type": "stream",
     "text": [
      "test_loss: 0.481, test_acc: 0.765\n"
     ]
    },
    {
     "name": "stderr",
     "output_type": "stream",
     "text": [
      "\n"
     ]
    }
   ],
   "source": [
    "model_bert.load_state_dict(torch.load(\"lstm.pt\"))\n",
    "\n",
    "test_loss, test_acc = run(test_dataloader, model_bert, criterion, optimizer_bert, device, embedding=\"bert_embeddings\", is_eval=True)\n",
    "\n",
    "print(f\"test_loss: {test_loss:.3f}, test_acc: {test_acc:.3f}\")"
   ]
  }
 ],
 "metadata": {
  "kernelspec": {
   "display_name": "Python 3 (ipykernel)",
   "language": "python",
   "name": "python3"
  },
  "language_info": {
   "codemirror_mode": {
    "name": "ipython",
    "version": 3
   },
   "file_extension": ".py",
   "mimetype": "text/x-python",
   "name": "python",
   "nbconvert_exporter": "python",
   "pygments_lexer": "ipython3",
   "version": "3.12.3"
  },
  "papermill": {
   "default_parameters": {},
   "duration": 7444.435311,
   "end_time": "2024-05-06T21:17:46.014139",
   "environment_variables": {},
   "exception": null,
   "input_path": "/home/cjn26/project/final_project.ipynb",
   "output_path": "/home/cjn26/project/output.ipynb",
   "parameters": {},
   "start_time": "2024-05-06T19:13:41.578828",
   "version": "2.6.0"
  }
 },
 "nbformat": 4,
 "nbformat_minor": 5
}
